{
 "cells": [
  {
   "cell_type": "code",
   "execution_count": 1,
   "id": "d58d843f",
   "metadata": {
    "_cell_guid": "b1076dfc-b9ad-4769-8c92-a6c4dae69d19",
    "_uuid": "8f2839f25d086af736a60e9eeb907d3b93b6e0e5",
    "execution": {
     "iopub.execute_input": "2023-08-11T03:18:02.465247Z",
     "iopub.status.busy": "2023-08-11T03:18:02.464310Z",
     "iopub.status.idle": "2023-08-11T03:18:05.748290Z",
     "shell.execute_reply": "2023-08-11T03:18:05.747390Z"
    },
    "papermill": {
     "duration": 3.30215,
     "end_time": "2023-08-11T03:18:05.750935",
     "exception": false,
     "start_time": "2023-08-11T03:18:02.448785",
     "status": "completed"
    },
    "tags": []
   },
   "outputs": [
    {
     "name": "stderr",
     "output_type": "stream",
     "text": [
      "/opt/conda/lib/python3.10/site-packages/scipy/__init__.py:146: UserWarning: A NumPy version >=1.16.5 and <1.23.0 is required for this version of SciPy (detected version 1.23.5\n",
      "  warnings.warn(f\"A NumPy version >={np_minversion} and <{np_maxversion}\"\n"
     ]
    }
   ],
   "source": [
    "import pandas as pd\n",
    "import numpy as np\n",
    "\n",
    "import matplotlib.pyplot as plt\n",
    "import seaborn as sns\n",
    "%matplotlib inline\n",
    "\n",
    "import xgboost as xgb\n",
    "import lightgbm as lgb\n",
    "\n",
    "from sklearn.model_selection import RandomizedSearchCV, cross_val_predict, cross_val_score\n",
    "from sklearn.ensemble import GradientBoostingClassifier\n",
    "from scipy.stats import mannwhitneyu, kruskal, f_oneway\n",
    "from sklearn.ensemble import VotingClassifier\n",
    "\n",
    "from sklearn.metrics import accuracy_score, f1_score, roc_auc_score, classification_report, log_loss, confusion_matrix\n",
    "import sklearn.metrics as metrics\n",
    "from sklearn.utils import class_weight, shuffle"
   ]
  },
  {
   "cell_type": "code",
   "execution_count": 2,
   "id": "11ceb603",
   "metadata": {
    "execution": {
     "iopub.execute_input": "2023-08-11T03:18:05.779247Z",
     "iopub.status.busy": "2023-08-11T03:18:05.778620Z",
     "iopub.status.idle": "2023-08-11T03:18:05.822249Z",
     "shell.execute_reply": "2023-08-11T03:18:05.820927Z"
    },
    "papermill": {
     "duration": 0.060778,
     "end_time": "2023-08-11T03:18:05.825011",
     "exception": false,
     "start_time": "2023-08-11T03:18:05.764233",
     "status": "completed"
    },
    "tags": []
   },
   "outputs": [],
   "source": [
    "df_train = pd.read_csv(\"/kaggle/input/icr-identify-age-related-conditions/train.csv\")\n",
    "df_test = pd.read_csv(\"/kaggle/input/icr-identify-age-related-conditions/test.csv\")\n"
   ]
  },
  {
   "cell_type": "code",
   "execution_count": 3,
   "id": "15a0501d",
   "metadata": {
    "execution": {
     "iopub.execute_input": "2023-08-11T03:18:05.854000Z",
     "iopub.status.busy": "2023-08-11T03:18:05.853282Z",
     "iopub.status.idle": "2023-08-11T03:18:05.892790Z",
     "shell.execute_reply": "2023-08-11T03:18:05.891212Z"
    },
    "papermill": {
     "duration": 0.05716,
     "end_time": "2023-08-11T03:18:05.895476",
     "exception": false,
     "start_time": "2023-08-11T03:18:05.838316",
     "status": "completed"
    },
    "tags": []
   },
   "outputs": [
    {
     "data": {
      "text/html": [
       "<div>\n",
       "<style scoped>\n",
       "    .dataframe tbody tr th:only-of-type {\n",
       "        vertical-align: middle;\n",
       "    }\n",
       "\n",
       "    .dataframe tbody tr th {\n",
       "        vertical-align: top;\n",
       "    }\n",
       "\n",
       "    .dataframe thead th {\n",
       "        text-align: right;\n",
       "    }\n",
       "</style>\n",
       "<table border=\"1\" class=\"dataframe\">\n",
       "  <thead>\n",
       "    <tr style=\"text-align: right;\">\n",
       "      <th></th>\n",
       "      <th>Id</th>\n",
       "      <th>AB</th>\n",
       "      <th>AF</th>\n",
       "      <th>AH</th>\n",
       "      <th>AM</th>\n",
       "      <th>AR</th>\n",
       "      <th>AX</th>\n",
       "      <th>AY</th>\n",
       "      <th>AZ</th>\n",
       "      <th>BC</th>\n",
       "      <th>...</th>\n",
       "      <th>FL</th>\n",
       "      <th>FR</th>\n",
       "      <th>FS</th>\n",
       "      <th>GB</th>\n",
       "      <th>GE</th>\n",
       "      <th>GF</th>\n",
       "      <th>GH</th>\n",
       "      <th>GI</th>\n",
       "      <th>GL</th>\n",
       "      <th>Class</th>\n",
       "    </tr>\n",
       "  </thead>\n",
       "  <tbody>\n",
       "    <tr>\n",
       "      <th>0</th>\n",
       "      <td>000ff2bfdfe9</td>\n",
       "      <td>0.209377</td>\n",
       "      <td>3109.03329</td>\n",
       "      <td>85.200147</td>\n",
       "      <td>22.394407</td>\n",
       "      <td>8.138688</td>\n",
       "      <td>0.699861</td>\n",
       "      <td>0.025578</td>\n",
       "      <td>9.812214</td>\n",
       "      <td>5.555634</td>\n",
       "      <td>...</td>\n",
       "      <td>7.298162</td>\n",
       "      <td>1.73855</td>\n",
       "      <td>0.094822</td>\n",
       "      <td>11.339138</td>\n",
       "      <td>72.611063</td>\n",
       "      <td>2003.810319</td>\n",
       "      <td>22.136229</td>\n",
       "      <td>69.834944</td>\n",
       "      <td>0.120343</td>\n",
       "      <td>1</td>\n",
       "    </tr>\n",
       "    <tr>\n",
       "      <th>1</th>\n",
       "      <td>007255e47698</td>\n",
       "      <td>0.145282</td>\n",
       "      <td>978.76416</td>\n",
       "      <td>85.200147</td>\n",
       "      <td>36.968889</td>\n",
       "      <td>8.138688</td>\n",
       "      <td>3.632190</td>\n",
       "      <td>0.025578</td>\n",
       "      <td>13.517790</td>\n",
       "      <td>1.229900</td>\n",
       "      <td>...</td>\n",
       "      <td>0.173229</td>\n",
       "      <td>0.49706</td>\n",
       "      <td>0.568932</td>\n",
       "      <td>9.292698</td>\n",
       "      <td>72.611063</td>\n",
       "      <td>27981.562750</td>\n",
       "      <td>29.135430</td>\n",
       "      <td>32.131996</td>\n",
       "      <td>21.978000</td>\n",
       "      <td>0</td>\n",
       "    </tr>\n",
       "    <tr>\n",
       "      <th>2</th>\n",
       "      <td>013f2bd269f5</td>\n",
       "      <td>0.470030</td>\n",
       "      <td>2635.10654</td>\n",
       "      <td>85.200147</td>\n",
       "      <td>32.360553</td>\n",
       "      <td>8.138688</td>\n",
       "      <td>6.732840</td>\n",
       "      <td>0.025578</td>\n",
       "      <td>12.824570</td>\n",
       "      <td>1.229900</td>\n",
       "      <td>...</td>\n",
       "      <td>7.709560</td>\n",
       "      <td>0.97556</td>\n",
       "      <td>1.198821</td>\n",
       "      <td>37.077772</td>\n",
       "      <td>88.609437</td>\n",
       "      <td>13676.957810</td>\n",
       "      <td>28.022851</td>\n",
       "      <td>35.192676</td>\n",
       "      <td>0.196941</td>\n",
       "      <td>0</td>\n",
       "    </tr>\n",
       "    <tr>\n",
       "      <th>3</th>\n",
       "      <td>043ac50845d5</td>\n",
       "      <td>0.252107</td>\n",
       "      <td>3819.65177</td>\n",
       "      <td>120.201618</td>\n",
       "      <td>77.112203</td>\n",
       "      <td>8.138688</td>\n",
       "      <td>3.685344</td>\n",
       "      <td>0.025578</td>\n",
       "      <td>11.053708</td>\n",
       "      <td>1.229900</td>\n",
       "      <td>...</td>\n",
       "      <td>6.122162</td>\n",
       "      <td>0.49706</td>\n",
       "      <td>0.284466</td>\n",
       "      <td>18.529584</td>\n",
       "      <td>82.416803</td>\n",
       "      <td>2094.262452</td>\n",
       "      <td>39.948656</td>\n",
       "      <td>90.493248</td>\n",
       "      <td>0.155829</td>\n",
       "      <td>0</td>\n",
       "    </tr>\n",
       "    <tr>\n",
       "      <th>4</th>\n",
       "      <td>044fb8a146ec</td>\n",
       "      <td>0.380297</td>\n",
       "      <td>3733.04844</td>\n",
       "      <td>85.200147</td>\n",
       "      <td>14.103738</td>\n",
       "      <td>8.138688</td>\n",
       "      <td>3.942255</td>\n",
       "      <td>0.054810</td>\n",
       "      <td>3.396778</td>\n",
       "      <td>102.151980</td>\n",
       "      <td>...</td>\n",
       "      <td>8.153058</td>\n",
       "      <td>48.50134</td>\n",
       "      <td>0.121914</td>\n",
       "      <td>16.408728</td>\n",
       "      <td>146.109943</td>\n",
       "      <td>8524.370502</td>\n",
       "      <td>45.381316</td>\n",
       "      <td>36.262628</td>\n",
       "      <td>0.096614</td>\n",
       "      <td>1</td>\n",
       "    </tr>\n",
       "  </tbody>\n",
       "</table>\n",
       "<p>5 rows × 58 columns</p>\n",
       "</div>"
      ],
      "text/plain": [
       "             Id        AB          AF          AH         AM        AR  \\\n",
       "0  000ff2bfdfe9  0.209377  3109.03329   85.200147  22.394407  8.138688   \n",
       "1  007255e47698  0.145282   978.76416   85.200147  36.968889  8.138688   \n",
       "2  013f2bd269f5  0.470030  2635.10654   85.200147  32.360553  8.138688   \n",
       "3  043ac50845d5  0.252107  3819.65177  120.201618  77.112203  8.138688   \n",
       "4  044fb8a146ec  0.380297  3733.04844   85.200147  14.103738  8.138688   \n",
       "\n",
       "         AX        AY         AZ          BC  ...        FL        FR  \\\n",
       "0  0.699861  0.025578   9.812214    5.555634  ...  7.298162   1.73855   \n",
       "1  3.632190  0.025578  13.517790    1.229900  ...  0.173229   0.49706   \n",
       "2  6.732840  0.025578  12.824570    1.229900  ...  7.709560   0.97556   \n",
       "3  3.685344  0.025578  11.053708    1.229900  ...  6.122162   0.49706   \n",
       "4  3.942255  0.054810   3.396778  102.151980  ...  8.153058  48.50134   \n",
       "\n",
       "         FS         GB          GE            GF         GH         GI  \\\n",
       "0  0.094822  11.339138   72.611063   2003.810319  22.136229  69.834944   \n",
       "1  0.568932   9.292698   72.611063  27981.562750  29.135430  32.131996   \n",
       "2  1.198821  37.077772   88.609437  13676.957810  28.022851  35.192676   \n",
       "3  0.284466  18.529584   82.416803   2094.262452  39.948656  90.493248   \n",
       "4  0.121914  16.408728  146.109943   8524.370502  45.381316  36.262628   \n",
       "\n",
       "          GL  Class  \n",
       "0   0.120343      1  \n",
       "1  21.978000      0  \n",
       "2   0.196941      0  \n",
       "3   0.155829      0  \n",
       "4   0.096614      1  \n",
       "\n",
       "[5 rows x 58 columns]"
      ]
     },
     "execution_count": 3,
     "metadata": {},
     "output_type": "execute_result"
    }
   ],
   "source": [
    "df_train.head()"
   ]
  },
  {
   "cell_type": "code",
   "execution_count": 4,
   "id": "82a819de",
   "metadata": {
    "execution": {
     "iopub.execute_input": "2023-08-11T03:18:05.924466Z",
     "iopub.status.busy": "2023-08-11T03:18:05.924044Z",
     "iopub.status.idle": "2023-08-11T03:18:05.931952Z",
     "shell.execute_reply": "2023-08-11T03:18:05.930553Z"
    },
    "papermill": {
     "duration": 0.024762,
     "end_time": "2023-08-11T03:18:05.934094",
     "exception": false,
     "start_time": "2023-08-11T03:18:05.909332",
     "status": "completed"
    },
    "tags": []
   },
   "outputs": [
    {
     "data": {
      "text/plain": [
       "(617, 58)"
      ]
     },
     "execution_count": 4,
     "metadata": {},
     "output_type": "execute_result"
    }
   ],
   "source": [
    "df_train.shape"
   ]
  },
  {
   "cell_type": "code",
   "execution_count": 5,
   "id": "e62966e3",
   "metadata": {
    "execution": {
     "iopub.execute_input": "2023-08-11T03:18:05.963640Z",
     "iopub.status.busy": "2023-08-11T03:18:05.962596Z",
     "iopub.status.idle": "2023-08-11T03:18:05.993748Z",
     "shell.execute_reply": "2023-08-11T03:18:05.992490Z"
    },
    "papermill": {
     "duration": 0.048768,
     "end_time": "2023-08-11T03:18:05.996408",
     "exception": false,
     "start_time": "2023-08-11T03:18:05.947640",
     "status": "completed"
    },
    "tags": []
   },
   "outputs": [
    {
     "data": {
      "text/html": [
       "<div>\n",
       "<style scoped>\n",
       "    .dataframe tbody tr th:only-of-type {\n",
       "        vertical-align: middle;\n",
       "    }\n",
       "\n",
       "    .dataframe tbody tr th {\n",
       "        vertical-align: top;\n",
       "    }\n",
       "\n",
       "    .dataframe thead th {\n",
       "        text-align: right;\n",
       "    }\n",
       "</style>\n",
       "<table border=\"1\" class=\"dataframe\">\n",
       "  <thead>\n",
       "    <tr style=\"text-align: right;\">\n",
       "      <th></th>\n",
       "      <th>Id</th>\n",
       "      <th>AB</th>\n",
       "      <th>AF</th>\n",
       "      <th>AH</th>\n",
       "      <th>AM</th>\n",
       "      <th>AR</th>\n",
       "      <th>AX</th>\n",
       "      <th>AY</th>\n",
       "      <th>AZ</th>\n",
       "      <th>BC</th>\n",
       "      <th>...</th>\n",
       "      <th>FI</th>\n",
       "      <th>FL</th>\n",
       "      <th>FR</th>\n",
       "      <th>FS</th>\n",
       "      <th>GB</th>\n",
       "      <th>GE</th>\n",
       "      <th>GF</th>\n",
       "      <th>GH</th>\n",
       "      <th>GI</th>\n",
       "      <th>GL</th>\n",
       "    </tr>\n",
       "  </thead>\n",
       "  <tbody>\n",
       "    <tr>\n",
       "      <th>0</th>\n",
       "      <td>00eed32682bb</td>\n",
       "      <td>0.0</td>\n",
       "      <td>0.0</td>\n",
       "      <td>0.0</td>\n",
       "      <td>0.0</td>\n",
       "      <td>0.0</td>\n",
       "      <td>0.0</td>\n",
       "      <td>0.0</td>\n",
       "      <td>0.0</td>\n",
       "      <td>0.0</td>\n",
       "      <td>...</td>\n",
       "      <td>0.0</td>\n",
       "      <td>0.0</td>\n",
       "      <td>0.0</td>\n",
       "      <td>0.0</td>\n",
       "      <td>0.0</td>\n",
       "      <td>0.0</td>\n",
       "      <td>0.0</td>\n",
       "      <td>0.0</td>\n",
       "      <td>0.0</td>\n",
       "      <td>0.0</td>\n",
       "    </tr>\n",
       "    <tr>\n",
       "      <th>1</th>\n",
       "      <td>010ebe33f668</td>\n",
       "      <td>0.0</td>\n",
       "      <td>0.0</td>\n",
       "      <td>0.0</td>\n",
       "      <td>0.0</td>\n",
       "      <td>0.0</td>\n",
       "      <td>0.0</td>\n",
       "      <td>0.0</td>\n",
       "      <td>0.0</td>\n",
       "      <td>0.0</td>\n",
       "      <td>...</td>\n",
       "      <td>0.0</td>\n",
       "      <td>0.0</td>\n",
       "      <td>0.0</td>\n",
       "      <td>0.0</td>\n",
       "      <td>0.0</td>\n",
       "      <td>0.0</td>\n",
       "      <td>0.0</td>\n",
       "      <td>0.0</td>\n",
       "      <td>0.0</td>\n",
       "      <td>0.0</td>\n",
       "    </tr>\n",
       "    <tr>\n",
       "      <th>2</th>\n",
       "      <td>02fa521e1838</td>\n",
       "      <td>0.0</td>\n",
       "      <td>0.0</td>\n",
       "      <td>0.0</td>\n",
       "      <td>0.0</td>\n",
       "      <td>0.0</td>\n",
       "      <td>0.0</td>\n",
       "      <td>0.0</td>\n",
       "      <td>0.0</td>\n",
       "      <td>0.0</td>\n",
       "      <td>...</td>\n",
       "      <td>0.0</td>\n",
       "      <td>0.0</td>\n",
       "      <td>0.0</td>\n",
       "      <td>0.0</td>\n",
       "      <td>0.0</td>\n",
       "      <td>0.0</td>\n",
       "      <td>0.0</td>\n",
       "      <td>0.0</td>\n",
       "      <td>0.0</td>\n",
       "      <td>0.0</td>\n",
       "    </tr>\n",
       "    <tr>\n",
       "      <th>3</th>\n",
       "      <td>040e15f562a2</td>\n",
       "      <td>0.0</td>\n",
       "      <td>0.0</td>\n",
       "      <td>0.0</td>\n",
       "      <td>0.0</td>\n",
       "      <td>0.0</td>\n",
       "      <td>0.0</td>\n",
       "      <td>0.0</td>\n",
       "      <td>0.0</td>\n",
       "      <td>0.0</td>\n",
       "      <td>...</td>\n",
       "      <td>0.0</td>\n",
       "      <td>0.0</td>\n",
       "      <td>0.0</td>\n",
       "      <td>0.0</td>\n",
       "      <td>0.0</td>\n",
       "      <td>0.0</td>\n",
       "      <td>0.0</td>\n",
       "      <td>0.0</td>\n",
       "      <td>0.0</td>\n",
       "      <td>0.0</td>\n",
       "    </tr>\n",
       "    <tr>\n",
       "      <th>4</th>\n",
       "      <td>046e85c7cc7f</td>\n",
       "      <td>0.0</td>\n",
       "      <td>0.0</td>\n",
       "      <td>0.0</td>\n",
       "      <td>0.0</td>\n",
       "      <td>0.0</td>\n",
       "      <td>0.0</td>\n",
       "      <td>0.0</td>\n",
       "      <td>0.0</td>\n",
       "      <td>0.0</td>\n",
       "      <td>...</td>\n",
       "      <td>0.0</td>\n",
       "      <td>0.0</td>\n",
       "      <td>0.0</td>\n",
       "      <td>0.0</td>\n",
       "      <td>0.0</td>\n",
       "      <td>0.0</td>\n",
       "      <td>0.0</td>\n",
       "      <td>0.0</td>\n",
       "      <td>0.0</td>\n",
       "      <td>0.0</td>\n",
       "    </tr>\n",
       "  </tbody>\n",
       "</table>\n",
       "<p>5 rows × 57 columns</p>\n",
       "</div>"
      ],
      "text/plain": [
       "             Id   AB   AF   AH   AM   AR   AX   AY   AZ   BC  ...   FI   FL  \\\n",
       "0  00eed32682bb  0.0  0.0  0.0  0.0  0.0  0.0  0.0  0.0  0.0  ...  0.0  0.0   \n",
       "1  010ebe33f668  0.0  0.0  0.0  0.0  0.0  0.0  0.0  0.0  0.0  ...  0.0  0.0   \n",
       "2  02fa521e1838  0.0  0.0  0.0  0.0  0.0  0.0  0.0  0.0  0.0  ...  0.0  0.0   \n",
       "3  040e15f562a2  0.0  0.0  0.0  0.0  0.0  0.0  0.0  0.0  0.0  ...  0.0  0.0   \n",
       "4  046e85c7cc7f  0.0  0.0  0.0  0.0  0.0  0.0  0.0  0.0  0.0  ...  0.0  0.0   \n",
       "\n",
       "    FR   FS   GB   GE   GF   GH   GI   GL  \n",
       "0  0.0  0.0  0.0  0.0  0.0  0.0  0.0  0.0  \n",
       "1  0.0  0.0  0.0  0.0  0.0  0.0  0.0  0.0  \n",
       "2  0.0  0.0  0.0  0.0  0.0  0.0  0.0  0.0  \n",
       "3  0.0  0.0  0.0  0.0  0.0  0.0  0.0  0.0  \n",
       "4  0.0  0.0  0.0  0.0  0.0  0.0  0.0  0.0  \n",
       "\n",
       "[5 rows x 57 columns]"
      ]
     },
     "execution_count": 5,
     "metadata": {},
     "output_type": "execute_result"
    }
   ],
   "source": [
    "df_test.head()"
   ]
  },
  {
   "cell_type": "code",
   "execution_count": 6,
   "id": "fbf41b6e",
   "metadata": {
    "execution": {
     "iopub.execute_input": "2023-08-11T03:18:06.028100Z",
     "iopub.status.busy": "2023-08-11T03:18:06.027470Z",
     "iopub.status.idle": "2023-08-11T03:18:06.034071Z",
     "shell.execute_reply": "2023-08-11T03:18:06.032844Z"
    },
    "papermill": {
     "duration": 0.025658,
     "end_time": "2023-08-11T03:18:06.036858",
     "exception": false,
     "start_time": "2023-08-11T03:18:06.011200",
     "status": "completed"
    },
    "tags": []
   },
   "outputs": [
    {
     "data": {
      "text/plain": [
       "(5, 57)"
      ]
     },
     "execution_count": 6,
     "metadata": {},
     "output_type": "execute_result"
    }
   ],
   "source": [
    "df_test.shape"
   ]
  },
  {
   "cell_type": "markdown",
   "id": "a81b0976",
   "metadata": {
    "papermill": {
     "duration": 0.013891,
     "end_time": "2023-08-11T03:18:06.065305",
     "exception": false,
     "start_time": "2023-08-11T03:18:06.051414",
     "status": "completed"
    },
    "tags": []
   },
   "source": [
    "### Fill Nans with median"
   ]
  },
  {
   "cell_type": "code",
   "execution_count": 7,
   "id": "5ca8ce8c",
   "metadata": {
    "execution": {
     "iopub.execute_input": "2023-08-11T03:18:06.095811Z",
     "iopub.status.busy": "2023-08-11T03:18:06.095414Z",
     "iopub.status.idle": "2023-08-11T03:18:06.273056Z",
     "shell.execute_reply": "2023-08-11T03:18:06.271866Z"
    },
    "papermill": {
     "duration": 0.19635,
     "end_time": "2023-08-11T03:18:06.276051",
     "exception": false,
     "start_time": "2023-08-11T03:18:06.079701",
     "status": "completed"
    },
    "tags": []
   },
   "outputs": [],
   "source": [
    "for column in df_train.columns:\n",
    "    if df_train[column].isna().sum() != 0 and column != \"Class\":\n",
    "        df_train[column].fillna(df_train[column].median(), inplace=True)"
   ]
  },
  {
   "cell_type": "code",
   "execution_count": 8,
   "id": "7f9ff92c",
   "metadata": {
    "execution": {
     "iopub.execute_input": "2023-08-11T03:18:06.308294Z",
     "iopub.status.busy": "2023-08-11T03:18:06.307841Z",
     "iopub.status.idle": "2023-08-11T03:18:06.318463Z",
     "shell.execute_reply": "2023-08-11T03:18:06.317385Z"
    },
    "papermill": {
     "duration": 0.029504,
     "end_time": "2023-08-11T03:18:06.320791",
     "exception": false,
     "start_time": "2023-08-11T03:18:06.291287",
     "status": "completed"
    },
    "tags": []
   },
   "outputs": [
    {
     "data": {
      "text/plain": [
       "0"
      ]
     },
     "execution_count": 8,
     "metadata": {},
     "output_type": "execute_result"
    }
   ],
   "source": [
    "df_train.isna().sum().sum()"
   ]
  },
  {
   "cell_type": "code",
   "execution_count": 9,
   "id": "63f4b38f",
   "metadata": {
    "execution": {
     "iopub.execute_input": "2023-08-11T03:18:06.352203Z",
     "iopub.status.busy": "2023-08-11T03:18:06.351800Z",
     "iopub.status.idle": "2023-08-11T03:18:06.357587Z",
     "shell.execute_reply": "2023-08-11T03:18:06.356389Z"
    },
    "papermill": {
     "duration": 0.024455,
     "end_time": "2023-08-11T03:18:06.360162",
     "exception": false,
     "start_time": "2023-08-11T03:18:06.335707",
     "status": "completed"
    },
    "tags": []
   },
   "outputs": [],
   "source": [
    "cols_to_drop_1 = ['AH', 'CH', 'CL', 'CS', 'DV', 'EP', 'AR']\n",
    "cols_to_drop_2 = ['EH', 'FD ']\n",
    "cols_to_drop_3 = ['BD ', 'BZ']\n",
    "\n",
    "columns_to_drop_corr = cols_to_drop_1 + cols_to_drop_2 + cols_to_drop_3"
   ]
  },
  {
   "cell_type": "code",
   "execution_count": 10,
   "id": "ec770cb7",
   "metadata": {
    "execution": {
     "iopub.execute_input": "2023-08-11T03:18:06.390733Z",
     "iopub.status.busy": "2023-08-11T03:18:06.390279Z",
     "iopub.status.idle": "2023-08-11T03:18:06.399331Z",
     "shell.execute_reply": "2023-08-11T03:18:06.398217Z"
    },
    "papermill": {
     "duration": 0.027043,
     "end_time": "2023-08-11T03:18:06.401690",
     "exception": false,
     "start_time": "2023-08-11T03:18:06.374647",
     "status": "completed"
    },
    "tags": []
   },
   "outputs": [],
   "source": [
    "df_train = df_train.drop(columns=columns_to_drop_corr, axis=1)\n",
    "df_test = df_test.drop(columns=columns_to_drop_corr, axis=1)"
   ]
  },
  {
   "cell_type": "code",
   "execution_count": 11,
   "id": "9e73aa25",
   "metadata": {
    "execution": {
     "iopub.execute_input": "2023-08-11T03:18:06.432843Z",
     "iopub.status.busy": "2023-08-11T03:18:06.432445Z",
     "iopub.status.idle": "2023-08-11T03:18:06.526726Z",
     "shell.execute_reply": "2023-08-11T03:18:06.524761Z"
    },
    "papermill": {
     "duration": 0.1128,
     "end_time": "2023-08-11T03:18:06.529385",
     "exception": false,
     "start_time": "2023-08-11T03:18:06.416585",
     "status": "completed"
    },
    "tags": []
   },
   "outputs": [
    {
     "name": "stdout",
     "output_type": "stream",
     "text": [
      "AX U rank: 24896.5 P value: 0.12387252473131435\n",
      "AY U rank: 29748.0 P value: 0.1042758173936365\n",
      "AZ U rank: 26577.5 P value: 0.5891666444372265\n",
      "BR U rank: 27889.5 P value: 0.8106634220534192\n",
      "CB U rank: 28728.5 P value: 0.46026169940417083\n",
      "CF U rank: 27832.0 P value: 0.8373050274357787\n",
      "CW  U rank: 30251.5 P value: 0.09534622073233975\n",
      "DN U rank: 29316.0 P value: 0.27689441334062126\n",
      "DY U rank: 24242.5 P value: 0.05392796919927672\n",
      "EG U rank: 27423.0 P value: 0.9703690109171661\n",
      "EL U rank: 24846.0 P value: 0.10470843603402266\n",
      "EU U rank: 25132.0 P value: 0.15867656516656026\n",
      "FC U rank: 27383.0 P value: 0.9514240746529378\n",
      "FS U rank: 26780.0 P value: 0.6708511431442183\n",
      "GB U rank: 26190.0 P value: 0.44132864824650264\n",
      "GE U rank: 30430.0 P value: 0.05208627521686564\n",
      "GH U rank: 27298.0 P value: 0.911270308447415\n",
      "GI U rank: 24678.5 P value: 0.09526084456731561\n"
     ]
    },
    {
     "data": {
      "text/plain": [
       "True"
      ]
     },
     "execution_count": 11,
     "metadata": {},
     "output_type": "execute_result"
    }
   ],
   "source": [
    "data_to_analyze = df_train.drop(columns=['EJ', 'Id'], axis=1)\n",
    "data_class_0 = data_to_analyze[data_to_analyze.Class == 0]\n",
    "data_class_1 = data_to_analyze[data_to_analyze.Class == 1]\n",
    "\n",
    "features_to_drop_Utest = []\n",
    "features_to_drop_Htest = []\n",
    "columns = data_to_analyze.columns.to_list()\n",
    "columns.remove('Class')\n",
    "\n",
    "for column in columns:\n",
    "    U_rank, p_val1 = mannwhitneyu(data_class_0[column], data_class_1[column])\n",
    "    if p_val1 > 0.05:\n",
    "        features_to_drop_Utest.append(column)\n",
    "        print(column, 'U rank:', U_rank, 'P value:', p_val1)\n",
    "    H_rank, p_val2 = kruskal(data_class_0[column], data_class_1[column])\n",
    "    if p_val2 > 0.05:\n",
    "        features_to_drop_Htest.append(column)\n",
    "\n",
    "#We need to compare the tests performance\n",
    "features_to_drop_Htest == features_to_drop_Utest #Perfomance checking for the both tests"
   ]
  },
  {
   "cell_type": "code",
   "execution_count": 12,
   "id": "c61b04a4",
   "metadata": {
    "execution": {
     "iopub.execute_input": "2023-08-11T03:18:06.560274Z",
     "iopub.status.busy": "2023-08-11T03:18:06.559875Z",
     "iopub.status.idle": "2023-08-11T03:18:06.593671Z",
     "shell.execute_reply": "2023-08-11T03:18:06.592317Z"
    },
    "papermill": {
     "duration": 0.052104,
     "end_time": "2023-08-11T03:18:06.596118",
     "exception": false,
     "start_time": "2023-08-11T03:18:06.544014",
     "status": "completed"
    },
    "tags": []
   },
   "outputs": [
    {
     "name": "stdout",
     "output_type": "stream",
     "text": [
      "AX F: 3.288271989539755 P value: 0.07026373631825462\n",
      "AY F: 2.3607184918846453 P value: 0.12493916238381524\n",
      "AZ F: 0.0007053205100172908 P value: 0.9788209906464335\n",
      "BR F: 0.14146444750050208 P value: 0.7069591819194481\n",
      "CB F: 0.40417486242386846 P value: 0.5251775161146854\n",
      "CF F: 1.4361846527152875 P value: 0.2312193467137219\n",
      "CW  F: 1.7219087512740827 P value: 0.1899370757777987\n",
      "DN F: 0.9616555298034857 P value: 0.32715572514619407\n",
      "EG F: 0.00031332948627996063 P value: 0.9858830317986427\n",
      "EL F: 2.1465337372000763 P value: 0.1434031945216177\n",
      "EU F: 1.8232246979392093 P value: 0.17742659822745485\n",
      "FC F: 0.0017783489467820194 P value: 0.966376486358466\n",
      "FS F: 0.7634489135682092 P value: 0.3825923939427739\n",
      "GB F: 1.5632519875986108 P value: 0.21166521810832983\n",
      "GH F: 0.05519165487111284 P value: 0.8143420059794999\n",
      "GI F: 3.7100316863205536 P value: 0.054546953012873454\n"
     ]
    },
    {
     "data": {
      "text/plain": [
       "False"
      ]
     },
     "execution_count": 12,
     "metadata": {},
     "output_type": "execute_result"
    }
   ],
   "source": [
    "features_to_drop_ANOVA = []\n",
    "columns = data_to_analyze.columns.to_list()\n",
    "columns.remove('Class')\n",
    "\n",
    "for column in columns:\n",
    "    F, p_val = f_oneway(np.log1p(data_class_0[column]), np.log1p(data_class_1[column]))\n",
    "    if p_val > 0.05:\n",
    "        features_to_drop_ANOVA.append(column)\n",
    "        print(column, 'F:', F, 'P value:', p_val)\n",
    "\n",
    "#We need to compare the tests performance\n",
    "features_to_drop_Utest == features_to_drop_ANOVA #Perfomance checking for the both tests"
   ]
  },
  {
   "cell_type": "code",
   "execution_count": 13,
   "id": "627bef66",
   "metadata": {
    "execution": {
     "iopub.execute_input": "2023-08-11T03:18:06.626958Z",
     "iopub.status.busy": "2023-08-11T03:18:06.626579Z",
     "iopub.status.idle": "2023-08-11T03:18:06.632881Z",
     "shell.execute_reply": "2023-08-11T03:18:06.631410Z"
    },
    "papermill": {
     "duration": 0.024757,
     "end_time": "2023-08-11T03:18:06.635297",
     "exception": false,
     "start_time": "2023-08-11T03:18:06.610540",
     "status": "completed"
    },
    "tags": []
   },
   "outputs": [
    {
     "name": "stdout",
     "output_type": "stream",
     "text": [
      "['FS', 'EU', 'CW ', 'DN', 'CB', 'GB', 'AX', 'EG', 'FC', 'AZ', 'EL', 'GH', 'AY', 'BR', 'GI', 'CF']\n"
     ]
    }
   ],
   "source": [
    "features_to_drop_final = list(set(features_to_drop_Utest).intersection(set(features_to_drop_ANOVA)))\n",
    "print(features_to_drop_final)"
   ]
  },
  {
   "cell_type": "code",
   "execution_count": 14,
   "id": "209ce774",
   "metadata": {
    "execution": {
     "iopub.execute_input": "2023-08-11T03:18:06.665783Z",
     "iopub.status.busy": "2023-08-11T03:18:06.665410Z",
     "iopub.status.idle": "2023-08-11T03:18:06.683819Z",
     "shell.execute_reply": "2023-08-11T03:18:06.682838Z"
    },
    "papermill": {
     "duration": 0.036328,
     "end_time": "2023-08-11T03:18:06.685878",
     "exception": false,
     "start_time": "2023-08-11T03:18:06.649550",
     "status": "completed"
    },
    "tags": []
   },
   "outputs": [
    {
     "data": {
      "text/html": [
       "<div>\n",
       "<style scoped>\n",
       "    .dataframe tbody tr th:only-of-type {\n",
       "        vertical-align: middle;\n",
       "    }\n",
       "\n",
       "    .dataframe tbody tr th {\n",
       "        vertical-align: top;\n",
       "    }\n",
       "\n",
       "    .dataframe thead th {\n",
       "        text-align: right;\n",
       "    }\n",
       "</style>\n",
       "<table border=\"1\" class=\"dataframe\">\n",
       "  <thead>\n",
       "    <tr style=\"text-align: right;\">\n",
       "      <th></th>\n",
       "      <th>Class</th>\n",
       "    </tr>\n",
       "    <tr>\n",
       "      <th>EJ</th>\n",
       "      <th></th>\n",
       "    </tr>\n",
       "  </thead>\n",
       "  <tbody>\n",
       "    <tr>\n",
       "      <th>A</th>\n",
       "      <td>0.126126</td>\n",
       "    </tr>\n",
       "    <tr>\n",
       "      <th>B</th>\n",
       "      <td>0.202532</td>\n",
       "    </tr>\n",
       "  </tbody>\n",
       "</table>\n",
       "</div>"
      ],
      "text/plain": [
       "       Class\n",
       "EJ          \n",
       "A   0.126126\n",
       "B   0.202532"
      ]
     },
     "execution_count": 14,
     "metadata": {},
     "output_type": "execute_result"
    }
   ],
   "source": [
    "data_obj = df_train[['EJ', 'Class']]\n",
    "data_obj.groupby('EJ').mean()"
   ]
  },
  {
   "cell_type": "code",
   "execution_count": 15,
   "id": "b4bbc409",
   "metadata": {
    "execution": {
     "iopub.execute_input": "2023-08-11T03:18:06.716753Z",
     "iopub.status.busy": "2023-08-11T03:18:06.716246Z",
     "iopub.status.idle": "2023-08-11T03:18:06.723843Z",
     "shell.execute_reply": "2023-08-11T03:18:06.722411Z"
    },
    "papermill": {
     "duration": 0.026269,
     "end_time": "2023-08-11T03:18:06.726565",
     "exception": false,
     "start_time": "2023-08-11T03:18:06.700296",
     "status": "completed"
    },
    "tags": []
   },
   "outputs": [],
   "source": [
    "df_train = df_train.drop(columns=features_to_drop_final, axis=1)"
   ]
  },
  {
   "cell_type": "code",
   "execution_count": 16,
   "id": "381b95a9",
   "metadata": {
    "execution": {
     "iopub.execute_input": "2023-08-11T03:18:06.759372Z",
     "iopub.status.busy": "2023-08-11T03:18:06.758993Z",
     "iopub.status.idle": "2023-08-11T03:18:06.766200Z",
     "shell.execute_reply": "2023-08-11T03:18:06.764973Z"
    },
    "papermill": {
     "duration": 0.025912,
     "end_time": "2023-08-11T03:18:06.768598",
     "exception": false,
     "start_time": "2023-08-11T03:18:06.742686",
     "status": "completed"
    },
    "tags": []
   },
   "outputs": [],
   "source": [
    "df_test = df_test.drop(columns=features_to_drop_final, axis=1)"
   ]
  },
  {
   "cell_type": "code",
   "execution_count": 17,
   "id": "14d0bfea",
   "metadata": {
    "execution": {
     "iopub.execute_input": "2023-08-11T03:18:06.801331Z",
     "iopub.status.busy": "2023-08-11T03:18:06.800910Z",
     "iopub.status.idle": "2023-08-11T03:18:06.808744Z",
     "shell.execute_reply": "2023-08-11T03:18:06.807347Z"
    },
    "papermill": {
     "duration": 0.027258,
     "end_time": "2023-08-11T03:18:06.811192",
     "exception": false,
     "start_time": "2023-08-11T03:18:06.783934",
     "status": "completed"
    },
    "tags": []
   },
   "outputs": [
    {
     "data": {
      "text/plain": [
       "((617, 31), (5, 30))"
      ]
     },
     "execution_count": 17,
     "metadata": {},
     "output_type": "execute_result"
    }
   ],
   "source": [
    "df_train.shape, df_test.shape"
   ]
  },
  {
   "cell_type": "code",
   "execution_count": 18,
   "id": "603ce01a",
   "metadata": {
    "execution": {
     "iopub.execute_input": "2023-08-11T03:18:06.844291Z",
     "iopub.status.busy": "2023-08-11T03:18:06.843864Z",
     "iopub.status.idle": "2023-08-11T03:18:06.850085Z",
     "shell.execute_reply": "2023-08-11T03:18:06.848793Z"
    },
    "papermill": {
     "duration": 0.025917,
     "end_time": "2023-08-11T03:18:06.852615",
     "exception": false,
     "start_time": "2023-08-11T03:18:06.826698",
     "status": "completed"
    },
    "tags": []
   },
   "outputs": [],
   "source": [
    "import copy\n",
    "\n",
    "def clean_data(df):\n",
    "    df_copy = copy.deepcopy(df)\n",
    "    \n",
    "    df_copy = df_copy.applymap(lambda x: x.strip() if isinstance(x, str) else x)\n",
    "    df_copy = df_copy.drop_duplicates()\n",
    "    \n",
    "    return df_copy"
   ]
  },
  {
   "cell_type": "code",
   "execution_count": 19,
   "id": "da6f71cc",
   "metadata": {
    "execution": {
     "iopub.execute_input": "2023-08-11T03:18:06.884442Z",
     "iopub.status.busy": "2023-08-11T03:18:06.884050Z",
     "iopub.status.idle": "2023-08-11T03:18:06.889477Z",
     "shell.execute_reply": "2023-08-11T03:18:06.888304Z"
    },
    "papermill": {
     "duration": 0.024127,
     "end_time": "2023-08-11T03:18:06.891764",
     "exception": false,
     "start_time": "2023-08-11T03:18:06.867637",
     "status": "completed"
    },
    "tags": []
   },
   "outputs": [],
   "source": [
    "def one_hot_encode(df):\n",
    "    df_copy = copy.deepcopy(df)\n",
    "    eq_one_hot = pd.get_dummies(df_copy[\"EJ\"])  \n",
    "    df_copy = df_copy.drop(columns=['EJ'], axis=1)\n",
    "    df_copy = df_copy.join(eq_one_hot)\n",
    "    return df_copy"
   ]
  },
  {
   "cell_type": "code",
   "execution_count": 20,
   "id": "45a2342d",
   "metadata": {
    "execution": {
     "iopub.execute_input": "2023-08-11T03:18:06.923110Z",
     "iopub.status.busy": "2023-08-11T03:18:06.922752Z",
     "iopub.status.idle": "2023-08-11T03:18:06.935980Z",
     "shell.execute_reply": "2023-08-11T03:18:06.934698Z"
    },
    "papermill": {
     "duration": 0.032112,
     "end_time": "2023-08-11T03:18:06.938681",
     "exception": false,
     "start_time": "2023-08-11T03:18:06.906569",
     "status": "completed"
    },
    "tags": []
   },
   "outputs": [],
   "source": [
    "df_train = one_hot_encode(df_train)\n",
    "df_test = one_hot_encode(df_test)"
   ]
  },
  {
   "cell_type": "code",
   "execution_count": 21,
   "id": "e34ecc49",
   "metadata": {
    "execution": {
     "iopub.execute_input": "2023-08-11T03:18:06.969828Z",
     "iopub.status.busy": "2023-08-11T03:18:06.969377Z",
     "iopub.status.idle": "2023-08-11T03:18:07.008120Z",
     "shell.execute_reply": "2023-08-11T03:18:07.006488Z"
    },
    "papermill": {
     "duration": 0.057988,
     "end_time": "2023-08-11T03:18:07.011161",
     "exception": false,
     "start_time": "2023-08-11T03:18:06.953173",
     "status": "completed"
    },
    "tags": []
   },
   "outputs": [],
   "source": [
    "df_train = clean_data(df_train)\n",
    "df_test = clean_data(df_test)"
   ]
  },
  {
   "cell_type": "code",
   "execution_count": 22,
   "id": "15612f9e",
   "metadata": {
    "execution": {
     "iopub.execute_input": "2023-08-11T03:18:07.043330Z",
     "iopub.status.busy": "2023-08-11T03:18:07.042969Z",
     "iopub.status.idle": "2023-08-11T03:18:07.070633Z",
     "shell.execute_reply": "2023-08-11T03:18:07.069132Z"
    },
    "papermill": {
     "duration": 0.047368,
     "end_time": "2023-08-11T03:18:07.073861",
     "exception": false,
     "start_time": "2023-08-11T03:18:07.026493",
     "status": "completed"
    },
    "tags": []
   },
   "outputs": [
    {
     "data": {
      "text/html": [
       "<div>\n",
       "<style scoped>\n",
       "    .dataframe tbody tr th:only-of-type {\n",
       "        vertical-align: middle;\n",
       "    }\n",
       "\n",
       "    .dataframe tbody tr th {\n",
       "        vertical-align: top;\n",
       "    }\n",
       "\n",
       "    .dataframe thead th {\n",
       "        text-align: right;\n",
       "    }\n",
       "</style>\n",
       "<table border=\"1\" class=\"dataframe\">\n",
       "  <thead>\n",
       "    <tr style=\"text-align: right;\">\n",
       "      <th></th>\n",
       "      <th>Id</th>\n",
       "      <th>AB</th>\n",
       "      <th>AF</th>\n",
       "      <th>AM</th>\n",
       "      <th>BC</th>\n",
       "      <th>BN</th>\n",
       "      <th>BP</th>\n",
       "      <th>BQ</th>\n",
       "      <th>CC</th>\n",
       "      <th>CD</th>\n",
       "      <th>...</th>\n",
       "      <th>FE</th>\n",
       "      <th>FI</th>\n",
       "      <th>FL</th>\n",
       "      <th>FR</th>\n",
       "      <th>GE</th>\n",
       "      <th>GF</th>\n",
       "      <th>GL</th>\n",
       "      <th>Class</th>\n",
       "      <th>A</th>\n",
       "      <th>B</th>\n",
       "    </tr>\n",
       "  </thead>\n",
       "  <tbody>\n",
       "    <tr>\n",
       "      <th>0</th>\n",
       "      <td>000ff2bfdfe9</td>\n",
       "      <td>0.209377</td>\n",
       "      <td>3109.03329</td>\n",
       "      <td>22.394407</td>\n",
       "      <td>5.555634</td>\n",
       "      <td>22.5984</td>\n",
       "      <td>175.638726</td>\n",
       "      <td>152.707705</td>\n",
       "      <td>0.563481</td>\n",
       "      <td>23.387600</td>\n",
       "      <td>...</td>\n",
       "      <td>9028.291921</td>\n",
       "      <td>3.583450</td>\n",
       "      <td>7.298162</td>\n",
       "      <td>1.73855</td>\n",
       "      <td>72.611063</td>\n",
       "      <td>2003.810319</td>\n",
       "      <td>0.120343</td>\n",
       "      <td>1</td>\n",
       "      <td>0</td>\n",
       "      <td>1</td>\n",
       "    </tr>\n",
       "    <tr>\n",
       "      <th>1</th>\n",
       "      <td>007255e47698</td>\n",
       "      <td>0.145282</td>\n",
       "      <td>978.76416</td>\n",
       "      <td>36.968889</td>\n",
       "      <td>1.229900</td>\n",
       "      <td>19.4205</td>\n",
       "      <td>155.868030</td>\n",
       "      <td>14.754720</td>\n",
       "      <td>0.484710</td>\n",
       "      <td>50.628208</td>\n",
       "      <td>...</td>\n",
       "      <td>6785.003474</td>\n",
       "      <td>10.358927</td>\n",
       "      <td>0.173229</td>\n",
       "      <td>0.49706</td>\n",
       "      <td>72.611063</td>\n",
       "      <td>27981.562750</td>\n",
       "      <td>21.978000</td>\n",
       "      <td>0</td>\n",
       "      <td>1</td>\n",
       "      <td>0</td>\n",
       "    </tr>\n",
       "    <tr>\n",
       "      <th>2</th>\n",
       "      <td>013f2bd269f5</td>\n",
       "      <td>0.470030</td>\n",
       "      <td>2635.10654</td>\n",
       "      <td>32.360553</td>\n",
       "      <td>1.229900</td>\n",
       "      <td>26.4825</td>\n",
       "      <td>128.988531</td>\n",
       "      <td>219.320160</td>\n",
       "      <td>0.495852</td>\n",
       "      <td>85.955376</td>\n",
       "      <td>...</td>\n",
       "      <td>8338.906181</td>\n",
       "      <td>11.626917</td>\n",
       "      <td>7.709560</td>\n",
       "      <td>0.97556</td>\n",
       "      <td>88.609437</td>\n",
       "      <td>13676.957810</td>\n",
       "      <td>0.196941</td>\n",
       "      <td>0</td>\n",
       "      <td>0</td>\n",
       "      <td>1</td>\n",
       "    </tr>\n",
       "    <tr>\n",
       "      <th>3</th>\n",
       "      <td>043ac50845d5</td>\n",
       "      <td>0.252107</td>\n",
       "      <td>3819.65177</td>\n",
       "      <td>77.112203</td>\n",
       "      <td>1.229900</td>\n",
       "      <td>23.6577</td>\n",
       "      <td>237.282264</td>\n",
       "      <td>11.050410</td>\n",
       "      <td>0.717882</td>\n",
       "      <td>88.159360</td>\n",
       "      <td>...</td>\n",
       "      <td>10965.766040</td>\n",
       "      <td>14.852022</td>\n",
       "      <td>6.122162</td>\n",
       "      <td>0.49706</td>\n",
       "      <td>82.416803</td>\n",
       "      <td>2094.262452</td>\n",
       "      <td>0.155829</td>\n",
       "      <td>0</td>\n",
       "      <td>0</td>\n",
       "      <td>1</td>\n",
       "    </tr>\n",
       "    <tr>\n",
       "      <th>4</th>\n",
       "      <td>044fb8a146ec</td>\n",
       "      <td>0.380297</td>\n",
       "      <td>3733.04844</td>\n",
       "      <td>14.103738</td>\n",
       "      <td>102.151980</td>\n",
       "      <td>24.0108</td>\n",
       "      <td>324.546318</td>\n",
       "      <td>149.717165</td>\n",
       "      <td>0.536467</td>\n",
       "      <td>72.644264</td>\n",
       "      <td>...</td>\n",
       "      <td>16198.049590</td>\n",
       "      <td>13.666727</td>\n",
       "      <td>8.153058</td>\n",
       "      <td>48.50134</td>\n",
       "      <td>146.109943</td>\n",
       "      <td>8524.370502</td>\n",
       "      <td>0.096614</td>\n",
       "      <td>1</td>\n",
       "      <td>0</td>\n",
       "      <td>1</td>\n",
       "    </tr>\n",
       "  </tbody>\n",
       "</table>\n",
       "<p>5 rows × 32 columns</p>\n",
       "</div>"
      ],
      "text/plain": [
       "             Id        AB          AF         AM          BC       BN  \\\n",
       "0  000ff2bfdfe9  0.209377  3109.03329  22.394407    5.555634  22.5984   \n",
       "1  007255e47698  0.145282   978.76416  36.968889    1.229900  19.4205   \n",
       "2  013f2bd269f5  0.470030  2635.10654  32.360553    1.229900  26.4825   \n",
       "3  043ac50845d5  0.252107  3819.65177  77.112203    1.229900  23.6577   \n",
       "4  044fb8a146ec  0.380297  3733.04844  14.103738  102.151980  24.0108   \n",
       "\n",
       "           BP          BQ        CC        CD   ...            FE         FI  \\\n",
       "0  175.638726  152.707705  0.563481  23.387600  ...   9028.291921   3.583450   \n",
       "1  155.868030   14.754720  0.484710  50.628208  ...   6785.003474  10.358927   \n",
       "2  128.988531  219.320160  0.495852  85.955376  ...   8338.906181  11.626917   \n",
       "3  237.282264   11.050410  0.717882  88.159360  ...  10965.766040  14.852022   \n",
       "4  324.546318  149.717165  0.536467  72.644264  ...  16198.049590  13.666727   \n",
       "\n",
       "         FL        FR          GE            GF         GL  Class  A  B  \n",
       "0  7.298162   1.73855   72.611063   2003.810319   0.120343      1  0  1  \n",
       "1  0.173229   0.49706   72.611063  27981.562750  21.978000      0  1  0  \n",
       "2  7.709560   0.97556   88.609437  13676.957810   0.196941      0  0  1  \n",
       "3  6.122162   0.49706   82.416803   2094.262452   0.155829      0  0  1  \n",
       "4  8.153058  48.50134  146.109943   8524.370502   0.096614      1  0  1  \n",
       "\n",
       "[5 rows x 32 columns]"
      ]
     },
     "execution_count": 22,
     "metadata": {},
     "output_type": "execute_result"
    }
   ],
   "source": [
    "df_train.head()"
   ]
  },
  {
   "cell_type": "code",
   "execution_count": 23,
   "id": "24153d30",
   "metadata": {
    "execution": {
     "iopub.execute_input": "2023-08-11T03:18:07.107348Z",
     "iopub.status.busy": "2023-08-11T03:18:07.106960Z",
     "iopub.status.idle": "2023-08-11T03:18:07.113544Z",
     "shell.execute_reply": "2023-08-11T03:18:07.111980Z"
    },
    "papermill": {
     "duration": 0.027275,
     "end_time": "2023-08-11T03:18:07.116132",
     "exception": false,
     "start_time": "2023-08-11T03:18:07.088857",
     "status": "completed"
    },
    "tags": []
   },
   "outputs": [],
   "source": [
    "X = df_train.drop(columns=[\"Id\", \"Class\"], axis=1)\n",
    "y = df_train['Class']"
   ]
  },
  {
   "cell_type": "code",
   "execution_count": 24,
   "id": "69b418e1",
   "metadata": {
    "execution": {
     "iopub.execute_input": "2023-08-11T03:18:07.149047Z",
     "iopub.status.busy": "2023-08-11T03:18:07.148660Z",
     "iopub.status.idle": "2023-08-11T03:18:07.185440Z",
     "shell.execute_reply": "2023-08-11T03:18:07.184108Z"
    },
    "papermill": {
     "duration": 0.056401,
     "end_time": "2023-08-11T03:18:07.187775",
     "exception": false,
     "start_time": "2023-08-11T03:18:07.131374",
     "status": "completed"
    },
    "tags": []
   },
   "outputs": [
    {
     "data": {
      "text/html": [
       "<div>\n",
       "<style scoped>\n",
       "    .dataframe tbody tr th:only-of-type {\n",
       "        vertical-align: middle;\n",
       "    }\n",
       "\n",
       "    .dataframe tbody tr th {\n",
       "        vertical-align: top;\n",
       "    }\n",
       "\n",
       "    .dataframe thead th {\n",
       "        text-align: right;\n",
       "    }\n",
       "</style>\n",
       "<table border=\"1\" class=\"dataframe\">\n",
       "  <thead>\n",
       "    <tr style=\"text-align: right;\">\n",
       "      <th></th>\n",
       "      <th>AB</th>\n",
       "      <th>AF</th>\n",
       "      <th>AM</th>\n",
       "      <th>BC</th>\n",
       "      <th>BN</th>\n",
       "      <th>BP</th>\n",
       "      <th>BQ</th>\n",
       "      <th>CC</th>\n",
       "      <th>CD</th>\n",
       "      <th>CR</th>\n",
       "      <th>...</th>\n",
       "      <th>EE</th>\n",
       "      <th>FE</th>\n",
       "      <th>FI</th>\n",
       "      <th>FL</th>\n",
       "      <th>FR</th>\n",
       "      <th>GE</th>\n",
       "      <th>GF</th>\n",
       "      <th>GL</th>\n",
       "      <th>A</th>\n",
       "      <th>B</th>\n",
       "    </tr>\n",
       "  </thead>\n",
       "  <tbody>\n",
       "    <tr>\n",
       "      <th>0</th>\n",
       "      <td>0.021082</td>\n",
       "      <td>0.102347</td>\n",
       "      <td>0.030632</td>\n",
       "      <td>0.002958</td>\n",
       "      <td>0.654545</td>\n",
       "      <td>0.043240</td>\n",
       "      <td>0.440929</td>\n",
       "      <td>0.098469</td>\n",
       "      <td>0.000000</td>\n",
       "      <td>0.000000</td>\n",
       "      <td>...</td>\n",
       "      <td>0.094302</td>\n",
       "      <td>0.052697</td>\n",
       "      <td>0.000000</td>\n",
       "      <td>0.051720</td>\n",
       "      <td>0.000998</td>\n",
       "      <td>0.000000</td>\n",
       "      <td>0.013846</td>\n",
       "      <td>0.005425</td>\n",
       "      <td>0</td>\n",
       "      <td>1</td>\n",
       "    </tr>\n",
       "    <tr>\n",
       "      <th>1</th>\n",
       "      <td>0.010541</td>\n",
       "      <td>0.027589</td>\n",
       "      <td>0.053864</td>\n",
       "      <td>0.000000</td>\n",
       "      <td>0.490909</td>\n",
       "      <td>0.034915</td>\n",
       "      <td>0.039100</td>\n",
       "      <td>0.078406</td>\n",
       "      <td>0.044646</td>\n",
       "      <td>0.353002</td>\n",
       "      <td>...</td>\n",
       "      <td>0.031732</td>\n",
       "      <td>0.036862</td>\n",
       "      <td>0.209978</td>\n",
       "      <td>0.000000</td>\n",
       "      <td>0.000000</td>\n",
       "      <td>0.000000</td>\n",
       "      <td>0.194527</td>\n",
       "      <td>1.000000</td>\n",
       "      <td>1</td>\n",
       "      <td>0</td>\n",
       "    </tr>\n",
       "    <tr>\n",
       "      <th>2</th>\n",
       "      <td>0.063949</td>\n",
       "      <td>0.085715</td>\n",
       "      <td>0.046519</td>\n",
       "      <td>0.000000</td>\n",
       "      <td>0.854545</td>\n",
       "      <td>0.023597</td>\n",
       "      <td>0.634957</td>\n",
       "      <td>0.081244</td>\n",
       "      <td>0.102545</td>\n",
       "      <td>0.212468</td>\n",
       "      <td>...</td>\n",
       "      <td>0.435754</td>\n",
       "      <td>0.047831</td>\n",
       "      <td>0.249274</td>\n",
       "      <td>0.054706</td>\n",
       "      <td>0.000385</td>\n",
       "      <td>0.011229</td>\n",
       "      <td>0.095035</td>\n",
       "      <td>0.008910</td>\n",
       "      <td>0</td>\n",
       "      <td>1</td>\n",
       "    </tr>\n",
       "    <tr>\n",
       "      <th>3</th>\n",
       "      <td>0.028110</td>\n",
       "      <td>0.127285</td>\n",
       "      <td>0.117854</td>\n",
       "      <td>0.000000</td>\n",
       "      <td>0.709091</td>\n",
       "      <td>0.069197</td>\n",
       "      <td>0.028310</td>\n",
       "      <td>0.137796</td>\n",
       "      <td>0.106158</td>\n",
       "      <td>0.190830</td>\n",
       "      <td>...</td>\n",
       "      <td>0.195531</td>\n",
       "      <td>0.066374</td>\n",
       "      <td>0.349223</td>\n",
       "      <td>0.043183</td>\n",
       "      <td>0.000000</td>\n",
       "      <td>0.006882</td>\n",
       "      <td>0.014475</td>\n",
       "      <td>0.007039</td>\n",
       "      <td>0</td>\n",
       "      <td>1</td>\n",
       "    </tr>\n",
       "    <tr>\n",
       "      <th>4</th>\n",
       "      <td>0.049192</td>\n",
       "      <td>0.124246</td>\n",
       "      <td>0.017417</td>\n",
       "      <td>0.069008</td>\n",
       "      <td>0.727273</td>\n",
       "      <td>0.105942</td>\n",
       "      <td>0.432218</td>\n",
       "      <td>0.091589</td>\n",
       "      <td>0.080729</td>\n",
       "      <td>0.210044</td>\n",
       "      <td>...</td>\n",
       "      <td>0.177654</td>\n",
       "      <td>0.103309</td>\n",
       "      <td>0.312489</td>\n",
       "      <td>0.057926</td>\n",
       "      <td>0.038597</td>\n",
       "      <td>0.051588</td>\n",
       "      <td>0.059198</td>\n",
       "      <td>0.004345</td>\n",
       "      <td>0</td>\n",
       "      <td>1</td>\n",
       "    </tr>\n",
       "  </tbody>\n",
       "</table>\n",
       "<p>5 rows × 30 columns</p>\n",
       "</div>"
      ],
      "text/plain": [
       "         AB        AF        AM        BC        BN        BP        BQ  \\\n",
       "0  0.021082  0.102347  0.030632  0.002958  0.654545  0.043240  0.440929   \n",
       "1  0.010541  0.027589  0.053864  0.000000  0.490909  0.034915  0.039100   \n",
       "2  0.063949  0.085715  0.046519  0.000000  0.854545  0.023597  0.634957   \n",
       "3  0.028110  0.127285  0.117854  0.000000  0.709091  0.069197  0.028310   \n",
       "4  0.049192  0.124246  0.017417  0.069008  0.727273  0.105942  0.432218   \n",
       "\n",
       "         CC       CD         CR  ...        EE        FE        FI        FL  \\\n",
       "0  0.098469  0.000000  0.000000  ...  0.094302  0.052697  0.000000  0.051720   \n",
       "1  0.078406  0.044646  0.353002  ...  0.031732  0.036862  0.209978  0.000000   \n",
       "2  0.081244  0.102545  0.212468  ...  0.435754  0.047831  0.249274  0.054706   \n",
       "3  0.137796  0.106158  0.190830  ...  0.195531  0.066374  0.349223  0.043183   \n",
       "4  0.091589  0.080729  0.210044  ...  0.177654  0.103309  0.312489  0.057926   \n",
       "\n",
       "         FR        GE        GF        GL  A  B  \n",
       "0  0.000998  0.000000  0.013846  0.005425  0  1  \n",
       "1  0.000000  0.000000  0.194527  1.000000  1  0  \n",
       "2  0.000385  0.011229  0.095035  0.008910  0  1  \n",
       "3  0.000000  0.006882  0.014475  0.007039  0  1  \n",
       "4  0.038597  0.051588  0.059198  0.004345  0  1  \n",
       "\n",
       "[5 rows x 30 columns]"
      ]
     },
     "execution_count": 24,
     "metadata": {},
     "output_type": "execute_result"
    }
   ],
   "source": [
    "from sklearn.preprocessing import MinMaxScaler\n",
    "\n",
    "scaler = MinMaxScaler()\n",
    "\n",
    "# Select all except one-hot encoded \"EJ\" feature\n",
    "quantitative_features = X.select_dtypes(include=['float64'])\n",
    "\n",
    "scaled_features = scaler.fit_transform(quantitative_features)\n",
    "\n",
    "# Create DataFrame drom scaler output and add encoded \"EJ\" to it\n",
    "X_scaled = pd.DataFrame(scaled_features, columns=quantitative_features.columns)\n",
    "X_scaled[['A', 'B']] = X[['A', 'B']]\n",
    "\n",
    "X_scaled.head()"
   ]
  },
  {
   "cell_type": "code",
   "execution_count": 25,
   "id": "cd4114b2",
   "metadata": {
    "execution": {
     "iopub.execute_input": "2023-08-11T03:18:07.220335Z",
     "iopub.status.busy": "2023-08-11T03:18:07.219981Z",
     "iopub.status.idle": "2023-08-11T03:18:07.226780Z",
     "shell.execute_reply": "2023-08-11T03:18:07.225457Z"
    },
    "papermill": {
     "duration": 0.026065,
     "end_time": "2023-08-11T03:18:07.229192",
     "exception": false,
     "start_time": "2023-08-11T03:18:07.203127",
     "status": "completed"
    },
    "tags": []
   },
   "outputs": [],
   "source": [
    "def balanced_log_loss(y_true, y_pred, prob_0, prob_1):\n",
    "    N_0 = np.sum(1 - y_true)\n",
    "    N_1 = np.sum(y_true)\n",
    "    # calculate the weights for each class to balance classes\n",
    "    w_0 = 1 / N_0\n",
    "    w_1 = 1 / N_1\n",
    "    # calculate the predicted probabilities for each class\n",
    "    p_0 = prob_0\n",
    "    p_1 = prob_1\n",
    "    # calculate the summed log loss for each class\n",
    "    log_loss_0 = -np.sum((1 - y_true) * np.log(p_0))\n",
    "    log_loss_1 = -np.sum(y_true * np.log(p_1))\n",
    "    # calculate the weighted summed logarithmic loss\n",
    "    balanced_log_loss = (w_0 * log_loss_0 + w_1 * log_loss_1) / 2\n",
    "    # return the average log loss\n",
    "    return balanced_log_loss"
   ]
  },
  {
   "cell_type": "code",
   "execution_count": 26,
   "id": "174484df",
   "metadata": {
    "execution": {
     "iopub.execute_input": "2023-08-11T03:18:07.261740Z",
     "iopub.status.busy": "2023-08-11T03:18:07.261333Z",
     "iopub.status.idle": "2023-08-11T03:18:07.268882Z",
     "shell.execute_reply": "2023-08-11T03:18:07.267496Z"
    },
    "papermill": {
     "duration": 0.026616,
     "end_time": "2023-08-11T03:18:07.271385",
     "exception": false,
     "start_time": "2023-08-11T03:18:07.244769",
     "status": "completed"
    },
    "tags": []
   },
   "outputs": [],
   "source": [
    "X_shuffle, y_shuffle = shuffle(X_scaled, y, random_state = 3247)"
   ]
  },
  {
   "cell_type": "code",
   "execution_count": 27,
   "id": "eafe00b3",
   "metadata": {
    "execution": {
     "iopub.execute_input": "2023-08-11T03:18:07.303438Z",
     "iopub.status.busy": "2023-08-11T03:18:07.303011Z",
     "iopub.status.idle": "2023-08-11T03:18:09.393512Z",
     "shell.execute_reply": "2023-08-11T03:18:09.392273Z"
    },
    "papermill": {
     "duration": 2.109702,
     "end_time": "2023-08-11T03:18:09.396260",
     "exception": false,
     "start_time": "2023-08-11T03:18:07.286558",
     "status": "completed"
    },
    "tags": []
   },
   "outputs": [
    {
     "data": {
      "text/html": [
       "<style>#sk-container-id-1 {color: black;background-color: white;}#sk-container-id-1 pre{padding: 0;}#sk-container-id-1 div.sk-toggleable {background-color: white;}#sk-container-id-1 label.sk-toggleable__label {cursor: pointer;display: block;width: 100%;margin-bottom: 0;padding: 0.3em;box-sizing: border-box;text-align: center;}#sk-container-id-1 label.sk-toggleable__label-arrow:before {content: \"▸\";float: left;margin-right: 0.25em;color: #696969;}#sk-container-id-1 label.sk-toggleable__label-arrow:hover:before {color: black;}#sk-container-id-1 div.sk-estimator:hover label.sk-toggleable__label-arrow:before {color: black;}#sk-container-id-1 div.sk-toggleable__content {max-height: 0;max-width: 0;overflow: hidden;text-align: left;background-color: #f0f8ff;}#sk-container-id-1 div.sk-toggleable__content pre {margin: 0.2em;color: black;border-radius: 0.25em;background-color: #f0f8ff;}#sk-container-id-1 input.sk-toggleable__control:checked~div.sk-toggleable__content {max-height: 200px;max-width: 100%;overflow: auto;}#sk-container-id-1 input.sk-toggleable__control:checked~label.sk-toggleable__label-arrow:before {content: \"▾\";}#sk-container-id-1 div.sk-estimator input.sk-toggleable__control:checked~label.sk-toggleable__label {background-color: #d4ebff;}#sk-container-id-1 div.sk-label input.sk-toggleable__control:checked~label.sk-toggleable__label {background-color: #d4ebff;}#sk-container-id-1 input.sk-hidden--visually {border: 0;clip: rect(1px 1px 1px 1px);clip: rect(1px, 1px, 1px, 1px);height: 1px;margin: -1px;overflow: hidden;padding: 0;position: absolute;width: 1px;}#sk-container-id-1 div.sk-estimator {font-family: monospace;background-color: #f0f8ff;border: 1px dotted black;border-radius: 0.25em;box-sizing: border-box;margin-bottom: 0.5em;}#sk-container-id-1 div.sk-estimator:hover {background-color: #d4ebff;}#sk-container-id-1 div.sk-parallel-item::after {content: \"\";width: 100%;border-bottom: 1px solid gray;flex-grow: 1;}#sk-container-id-1 div.sk-label:hover label.sk-toggleable__label {background-color: #d4ebff;}#sk-container-id-1 div.sk-serial::before {content: \"\";position: absolute;border-left: 1px solid gray;box-sizing: border-box;top: 0;bottom: 0;left: 50%;z-index: 0;}#sk-container-id-1 div.sk-serial {display: flex;flex-direction: column;align-items: center;background-color: white;padding-right: 0.2em;padding-left: 0.2em;position: relative;}#sk-container-id-1 div.sk-item {position: relative;z-index: 1;}#sk-container-id-1 div.sk-parallel {display: flex;align-items: stretch;justify-content: center;background-color: white;position: relative;}#sk-container-id-1 div.sk-item::before, #sk-container-id-1 div.sk-parallel-item::before {content: \"\";position: absolute;border-left: 1px solid gray;box-sizing: border-box;top: 0;bottom: 0;left: 50%;z-index: -1;}#sk-container-id-1 div.sk-parallel-item {display: flex;flex-direction: column;z-index: 1;position: relative;background-color: white;}#sk-container-id-1 div.sk-parallel-item:first-child::after {align-self: flex-end;width: 50%;}#sk-container-id-1 div.sk-parallel-item:last-child::after {align-self: flex-start;width: 50%;}#sk-container-id-1 div.sk-parallel-item:only-child::after {width: 0;}#sk-container-id-1 div.sk-dashed-wrapped {border: 1px dashed gray;margin: 0 0.4em 0.5em 0.4em;box-sizing: border-box;padding-bottom: 0.4em;background-color: white;}#sk-container-id-1 div.sk-label label {font-family: monospace;font-weight: bold;display: inline-block;line-height: 1.2em;}#sk-container-id-1 div.sk-label-container {text-align: center;}#sk-container-id-1 div.sk-container {/* jupyter's `normalize.less` sets `[hidden] { display: none; }` but bootstrap.min.css set `[hidden] { display: none !important; }` so we also need the `!important` here to be able to override the default hidden behavior on the sphinx rendered scikit-learn.org. See: https://github.com/scikit-learn/scikit-learn/issues/21755 */display: inline-block !important;position: relative;}#sk-container-id-1 div.sk-text-repr-fallback {display: none;}</style><div id=\"sk-container-id-1\" class=\"sk-top-container\"><div class=\"sk-text-repr-fallback\"><pre>RandomForestClassifier(max_depth=19, n_estimators=610, n_jobs=-1,\n",
       "                       random_state=42)</pre><b>In a Jupyter environment, please rerun this cell to show the HTML representation or trust the notebook. <br />On GitHub, the HTML representation is unable to render, please try loading this page with nbviewer.org.</b></div><div class=\"sk-container\" hidden><div class=\"sk-item\"><div class=\"sk-estimator sk-toggleable\"><input class=\"sk-toggleable__control sk-hidden--visually\" id=\"sk-estimator-id-1\" type=\"checkbox\" checked><label for=\"sk-estimator-id-1\" class=\"sk-toggleable__label sk-toggleable__label-arrow\">RandomForestClassifier</label><div class=\"sk-toggleable__content\"><pre>RandomForestClassifier(max_depth=19, n_estimators=610, n_jobs=-1,\n",
       "                       random_state=42)</pre></div></div></div></div></div>"
      ],
      "text/plain": [
       "RandomForestClassifier(max_depth=19, n_estimators=610, n_jobs=-1,\n",
       "                       random_state=42)"
      ]
     },
     "execution_count": 27,
     "metadata": {},
     "output_type": "execute_result"
    }
   ],
   "source": [
    "from sklearn.ensemble import RandomForestClassifier\n",
    "\n",
    "params = {'n_estimators': 610, 'max_depth': 19}\n",
    "\n",
    "rf = RandomForestClassifier(\n",
    "    n_jobs=-1,\n",
    "    random_state=42,\n",
    "    **params\n",
    ")\n",
    "\n",
    "rf.fit(X_shuffle, y_shuffle)"
   ]
  },
  {
   "cell_type": "code",
   "execution_count": 28,
   "id": "b81880ff",
   "metadata": {
    "execution": {
     "iopub.execute_input": "2023-08-11T03:18:09.429075Z",
     "iopub.status.busy": "2023-08-11T03:18:09.428705Z",
     "iopub.status.idle": "2023-08-11T03:18:15.377182Z",
     "shell.execute_reply": "2023-08-11T03:18:15.375279Z"
    },
    "papermill": {
     "duration": 5.968445,
     "end_time": "2023-08-11T03:18:15.380151",
     "exception": false,
     "start_time": "2023-08-11T03:18:09.411706",
     "status": "completed"
    },
    "tags": []
   },
   "outputs": [
    {
     "name": "stderr",
     "output_type": "stream",
     "text": [
      "/opt/conda/lib/python3.10/site-packages/scipy/__init__.py:146: UserWarning: A NumPy version >=1.16.5 and <1.23.0 is required for this version of SciPy (detected version 1.23.5\n",
      "  warnings.warn(f\"A NumPy version >={np_minversion} and <{np_maxversion}\"\n",
      "/opt/conda/lib/python3.10/site-packages/scipy/__init__.py:146: UserWarning: A NumPy version >=1.16.5 and <1.23.0 is required for this version of SciPy (detected version 1.23.5\n",
      "  warnings.warn(f\"A NumPy version >={np_minversion} and <{np_maxversion}\"\n",
      "/opt/conda/lib/python3.10/site-packages/scipy/__init__.py:146: UserWarning: A NumPy version >=1.16.5 and <1.23.0 is required for this version of SciPy (detected version 1.23.5\n",
      "  warnings.warn(f\"A NumPy version >={np_minversion} and <{np_maxversion}\"\n",
      "/opt/conda/lib/python3.10/site-packages/scipy/__init__.py:146: UserWarning: A NumPy version >=1.16.5 and <1.23.0 is required for this version of SciPy (detected version 1.23.5\n",
      "  warnings.warn(f\"A NumPy version >={np_minversion} and <{np_maxversion}\"\n"
     ]
    },
    {
     "name": "stdout",
     "output_type": "stream",
     "text": [
      "Accuracy: 0.921 \n",
      "\n",
      "              precision    recall  f1-score   support\n",
      "\n",
      "           0       0.93      0.97      0.95       509\n",
      "           1       0.84      0.68      0.75       108\n",
      "\n",
      "    accuracy                           0.92       617\n",
      "   macro avg       0.89      0.82      0.85       617\n",
      "weighted avg       0.92      0.92      0.92       617\n",
      " \n",
      "\n",
      "[[495  14]\n",
      " [ 35  73]]\n"
     ]
    }
   ],
   "source": [
    "y_hat = cross_val_predict(rf, X_scaled, y, cv=4)\n",
    "print('Accuracy:', round(accuracy_score(y, y_hat), 3), '\\n')\n",
    "print(classification_report(y, y_hat), '\\n')\n",
    "print(confusion_matrix(y, y_hat))"
   ]
  },
  {
   "cell_type": "code",
   "execution_count": 29,
   "id": "497c130c",
   "metadata": {
    "execution": {
     "iopub.execute_input": "2023-08-11T03:18:15.416215Z",
     "iopub.status.busy": "2023-08-11T03:18:15.415379Z",
     "iopub.status.idle": "2023-08-11T03:18:19.707223Z",
     "shell.execute_reply": "2023-08-11T03:18:19.705972Z"
    },
    "papermill": {
     "duration": 4.313499,
     "end_time": "2023-08-11T03:18:19.710095",
     "exception": false,
     "start_time": "2023-08-11T03:18:15.396596",
     "status": "completed"
    },
    "tags": []
   },
   "outputs": [
    {
     "name": "stdout",
     "output_type": "stream",
     "text": [
      "Accuracies: [0.92258065 0.91558442 0.9025974  0.94155844] \n",
      "\n",
      "Mean accuracy: 0.921 Std deviation: 0.014\n"
     ]
    }
   ],
   "source": [
    "acc_array = cross_val_score(rf, X_scaled, y, scoring = 'accuracy', cv = 4)\n",
    "print('Accuracies:', acc_array, '\\n')\n",
    "print('Mean accuracy:', round(acc_array.mean(), 3), 'Std deviation:', round(acc_array.std(), 3))"
   ]
  },
  {
   "cell_type": "code",
   "execution_count": 30,
   "id": "981484e0",
   "metadata": {
    "execution": {
     "iopub.execute_input": "2023-08-11T03:18:19.743912Z",
     "iopub.status.busy": "2023-08-11T03:18:19.743457Z",
     "iopub.status.idle": "2023-08-11T03:18:20.301793Z",
     "shell.execute_reply": "2023-08-11T03:18:20.300896Z"
    },
    "papermill": {
     "duration": 0.578393,
     "end_time": "2023-08-11T03:18:20.304358",
     "exception": false,
     "start_time": "2023-08-11T03:18:19.725965",
     "status": "completed"
    },
    "tags": []
   },
   "outputs": [
    {
     "name": "stderr",
     "output_type": "stream",
     "text": [
      "/opt/conda/lib/python3.10/site-packages/sklearn/model_selection/_search.py:305: UserWarning: The total space of parameters 1 is smaller than n_iter=10. Running 1 iterations. For exhaustive searches, use GridSearchCV.\n",
      "  warnings.warn(\n"
     ]
    },
    {
     "name": "stdout",
     "output_type": "stream",
     "text": [
      "{'subsample': 1.0, 'scale_pos_weight': 9, 'n_estimators': 110, 'max_depth': 5, 'colsample_bytree': 0.6, 'colsample_bynode': 0.3, 'colsample_bylevel': 0.8, 'base_score': 0.3} \n",
      "\n",
      "Best f1 score: 0.7894351680065965 \n",
      "\n"
     ]
    }
   ],
   "source": [
    "estimator_XG = xgb.XGBClassifier(booster = 'gbtree', \n",
    "                             eval_metric = 'logloss',\n",
    "                             tree_method = 'exact', \n",
    "                             random_state = 123, \n",
    "                             grow_policy = 'lossguide',\n",
    "                             eta = 0,\n",
    "                             learning_rate = 0.2, \n",
    "                             gamma = 0\n",
    "                            )\n",
    "\n",
    "params = {'n_estimators' : [110], \n",
    "          'max_depth' : [5],  \n",
    "          'subsample' : [1.0],\n",
    "          'scale_pos_weight' : [9], \n",
    "          'base_score' : [0.3],\n",
    "          'colsample_bynode' : [0.3],\n",
    "          'colsample_bytree' : [0.6],\n",
    "          'colsample_bylevel' : [0.8]\n",
    "         }\n",
    "\n",
    "search_XG = RandomizedSearchCV(estimator_XG, params, scoring = 'f1', cv = 4)\n",
    "search_XG.fit(X_shuffle, y_shuffle)\n",
    "\n",
    "print(search_XG.best_params_, '\\n')\n",
    "print('Best f1 score:', search_XG.best_score_, '\\n')"
   ]
  },
  {
   "cell_type": "code",
   "execution_count": 31,
   "id": "62e177e6",
   "metadata": {
    "execution": {
     "iopub.execute_input": "2023-08-11T03:18:20.339214Z",
     "iopub.status.busy": "2023-08-11T03:18:20.338593Z",
     "iopub.status.idle": "2023-08-11T03:18:20.759596Z",
     "shell.execute_reply": "2023-08-11T03:18:20.758187Z"
    },
    "papermill": {
     "duration": 0.442051,
     "end_time": "2023-08-11T03:18:20.762826",
     "exception": false,
     "start_time": "2023-08-11T03:18:20.320775",
     "status": "completed"
    },
    "tags": []
   },
   "outputs": [
    {
     "name": "stdout",
     "output_type": "stream",
     "text": [
      "Accuracy: 0.937 \n",
      "\n",
      "              precision    recall  f1-score   support\n",
      "\n",
      "           0       0.96      0.96      0.96       509\n",
      "           1       0.82      0.81      0.82       108\n",
      "\n",
      "    accuracy                           0.94       617\n",
      "   macro avg       0.89      0.89      0.89       617\n",
      "weighted avg       0.94      0.94      0.94       617\n",
      " \n",
      "\n",
      "[[490  19]\n",
      " [ 20  88]]\n"
     ]
    }
   ],
   "source": [
    "y_hat = cross_val_predict(search_XG.best_estimator_, X_scaled, y, cv=4)\n",
    "print('Accuracy:', round(accuracy_score(y, y_hat), 3), '\\n')\n",
    "print(classification_report(y, y_hat), '\\n')\n",
    "print(confusion_matrix(y, y_hat))"
   ]
  },
  {
   "cell_type": "code",
   "execution_count": 32,
   "id": "2efabb94",
   "metadata": {
    "execution": {
     "iopub.execute_input": "2023-08-11T03:18:20.799941Z",
     "iopub.status.busy": "2023-08-11T03:18:20.799484Z",
     "iopub.status.idle": "2023-08-11T03:18:21.209048Z",
     "shell.execute_reply": "2023-08-11T03:18:21.207791Z"
    },
    "papermill": {
     "duration": 0.430568,
     "end_time": "2023-08-11T03:18:21.212028",
     "exception": false,
     "start_time": "2023-08-11T03:18:20.781460",
     "status": "completed"
    },
    "tags": []
   },
   "outputs": [
    {
     "name": "stdout",
     "output_type": "stream",
     "text": [
      "Accuracies: [0.96129032 0.93506494 0.92207792 0.92857143] \n",
      "\n",
      "Mean accuracy: 0.937 Std deviation: 0.015\n"
     ]
    }
   ],
   "source": [
    "acc_array = cross_val_score(search_XG.best_estimator_, X_scaled, y, scoring = 'accuracy', cv = 4)\n",
    "print('Accuracies:', acc_array, '\\n')\n",
    "print('Mean accuracy:', round(acc_array.mean(), 3), 'Std deviation:', round(acc_array.std(), 3))"
   ]
  },
  {
   "cell_type": "code",
   "execution_count": 33,
   "id": "af173fe5",
   "metadata": {
    "execution": {
     "iopub.execute_input": "2023-08-11T03:18:21.248216Z",
     "iopub.status.busy": "2023-08-11T03:18:21.247236Z",
     "iopub.status.idle": "2023-08-11T03:18:21.253323Z",
     "shell.execute_reply": "2023-08-11T03:18:21.252015Z"
    },
    "papermill": {
     "duration": 0.026598,
     "end_time": "2023-08-11T03:18:21.255736",
     "exception": false,
     "start_time": "2023-08-11T03:18:21.229138",
     "status": "completed"
    },
    "tags": []
   },
   "outputs": [],
   "source": [
    "best_xgb = search_XG.best_estimator_"
   ]
  },
  {
   "cell_type": "code",
   "execution_count": 34,
   "id": "35572fb6",
   "metadata": {
    "execution": {
     "iopub.execute_input": "2023-08-11T03:18:21.290565Z",
     "iopub.status.busy": "2023-08-11T03:18:21.290114Z",
     "iopub.status.idle": "2023-08-11T03:18:21.690261Z",
     "shell.execute_reply": "2023-08-11T03:18:21.688797Z"
    },
    "papermill": {
     "duration": 0.420709,
     "end_time": "2023-08-11T03:18:21.692933",
     "exception": false,
     "start_time": "2023-08-11T03:18:21.272224",
     "status": "completed"
    },
    "tags": []
   },
   "outputs": [
    {
     "data": {
      "text/html": [
       "<style>#sk-container-id-2 {color: black;background-color: white;}#sk-container-id-2 pre{padding: 0;}#sk-container-id-2 div.sk-toggleable {background-color: white;}#sk-container-id-2 label.sk-toggleable__label {cursor: pointer;display: block;width: 100%;margin-bottom: 0;padding: 0.3em;box-sizing: border-box;text-align: center;}#sk-container-id-2 label.sk-toggleable__label-arrow:before {content: \"▸\";float: left;margin-right: 0.25em;color: #696969;}#sk-container-id-2 label.sk-toggleable__label-arrow:hover:before {color: black;}#sk-container-id-2 div.sk-estimator:hover label.sk-toggleable__label-arrow:before {color: black;}#sk-container-id-2 div.sk-toggleable__content {max-height: 0;max-width: 0;overflow: hidden;text-align: left;background-color: #f0f8ff;}#sk-container-id-2 div.sk-toggleable__content pre {margin: 0.2em;color: black;border-radius: 0.25em;background-color: #f0f8ff;}#sk-container-id-2 input.sk-toggleable__control:checked~div.sk-toggleable__content {max-height: 200px;max-width: 100%;overflow: auto;}#sk-container-id-2 input.sk-toggleable__control:checked~label.sk-toggleable__label-arrow:before {content: \"▾\";}#sk-container-id-2 div.sk-estimator input.sk-toggleable__control:checked~label.sk-toggleable__label {background-color: #d4ebff;}#sk-container-id-2 div.sk-label input.sk-toggleable__control:checked~label.sk-toggleable__label {background-color: #d4ebff;}#sk-container-id-2 input.sk-hidden--visually {border: 0;clip: rect(1px 1px 1px 1px);clip: rect(1px, 1px, 1px, 1px);height: 1px;margin: -1px;overflow: hidden;padding: 0;position: absolute;width: 1px;}#sk-container-id-2 div.sk-estimator {font-family: monospace;background-color: #f0f8ff;border: 1px dotted black;border-radius: 0.25em;box-sizing: border-box;margin-bottom: 0.5em;}#sk-container-id-2 div.sk-estimator:hover {background-color: #d4ebff;}#sk-container-id-2 div.sk-parallel-item::after {content: \"\";width: 100%;border-bottom: 1px solid gray;flex-grow: 1;}#sk-container-id-2 div.sk-label:hover label.sk-toggleable__label {background-color: #d4ebff;}#sk-container-id-2 div.sk-serial::before {content: \"\";position: absolute;border-left: 1px solid gray;box-sizing: border-box;top: 0;bottom: 0;left: 50%;z-index: 0;}#sk-container-id-2 div.sk-serial {display: flex;flex-direction: column;align-items: center;background-color: white;padding-right: 0.2em;padding-left: 0.2em;position: relative;}#sk-container-id-2 div.sk-item {position: relative;z-index: 1;}#sk-container-id-2 div.sk-parallel {display: flex;align-items: stretch;justify-content: center;background-color: white;position: relative;}#sk-container-id-2 div.sk-item::before, #sk-container-id-2 div.sk-parallel-item::before {content: \"\";position: absolute;border-left: 1px solid gray;box-sizing: border-box;top: 0;bottom: 0;left: 50%;z-index: -1;}#sk-container-id-2 div.sk-parallel-item {display: flex;flex-direction: column;z-index: 1;position: relative;background-color: white;}#sk-container-id-2 div.sk-parallel-item:first-child::after {align-self: flex-end;width: 50%;}#sk-container-id-2 div.sk-parallel-item:last-child::after {align-self: flex-start;width: 50%;}#sk-container-id-2 div.sk-parallel-item:only-child::after {width: 0;}#sk-container-id-2 div.sk-dashed-wrapped {border: 1px dashed gray;margin: 0 0.4em 0.5em 0.4em;box-sizing: border-box;padding-bottom: 0.4em;background-color: white;}#sk-container-id-2 div.sk-label label {font-family: monospace;font-weight: bold;display: inline-block;line-height: 1.2em;}#sk-container-id-2 div.sk-label-container {text-align: center;}#sk-container-id-2 div.sk-container {/* jupyter's `normalize.less` sets `[hidden] { display: none; }` but bootstrap.min.css set `[hidden] { display: none !important; }` so we also need the `!important` here to be able to override the default hidden behavior on the sphinx rendered scikit-learn.org. See: https://github.com/scikit-learn/scikit-learn/issues/21755 */display: inline-block !important;position: relative;}#sk-container-id-2 div.sk-text-repr-fallback {display: none;}</style><div id=\"sk-container-id-2\" class=\"sk-top-container\"><div class=\"sk-text-repr-fallback\"><pre>GradientBoostingClassifier(learning_rate=0.06851903253551589,\n",
       "                           min_samples_leaf=6, min_samples_split=9,\n",
       "                           random_state=42, subsample=0.6500000000000001)</pre><b>In a Jupyter environment, please rerun this cell to show the HTML representation or trust the notebook. <br />On GitHub, the HTML representation is unable to render, please try loading this page with nbviewer.org.</b></div><div class=\"sk-container\" hidden><div class=\"sk-item\"><div class=\"sk-estimator sk-toggleable\"><input class=\"sk-toggleable__control sk-hidden--visually\" id=\"sk-estimator-id-2\" type=\"checkbox\" checked><label for=\"sk-estimator-id-2\" class=\"sk-toggleable__label sk-toggleable__label-arrow\">GradientBoostingClassifier</label><div class=\"sk-toggleable__content\"><pre>GradientBoostingClassifier(learning_rate=0.06851903253551589,\n",
       "                           min_samples_leaf=6, min_samples_split=9,\n",
       "                           random_state=42, subsample=0.6500000000000001)</pre></div></div></div></div></div>"
      ],
      "text/plain": [
       "GradientBoostingClassifier(learning_rate=0.06851903253551589,\n",
       "                           min_samples_leaf=6, min_samples_split=9,\n",
       "                           random_state=42, subsample=0.6500000000000001)"
      ]
     },
     "execution_count": 34,
     "metadata": {},
     "output_type": "execute_result"
    }
   ],
   "source": [
    "best_gb = GradientBoostingClassifier(\n",
    "    subsample=0.6500000000000001,\n",
    "    n_estimators=100,\n",
    "    max_depth=3,\n",
    "    learning_rate=0.06851903253551589,\n",
    "    min_weight_fraction_leaf=0.0,\n",
    "    min_samples_split=9,\n",
    "    min_samples_leaf=6,\n",
    "    random_state=42,\n",
    ")\n",
    "\n",
    "best_gb.fit(X_shuffle, y_shuffle)"
   ]
  },
  {
   "cell_type": "code",
   "execution_count": 35,
   "id": "a56e86ac",
   "metadata": {
    "execution": {
     "iopub.execute_input": "2023-08-11T03:18:21.728281Z",
     "iopub.status.busy": "2023-08-11T03:18:21.727830Z",
     "iopub.status.idle": "2023-08-11T03:18:23.011301Z",
     "shell.execute_reply": "2023-08-11T03:18:23.009634Z"
    },
    "papermill": {
     "duration": 1.304326,
     "end_time": "2023-08-11T03:18:23.014024",
     "exception": false,
     "start_time": "2023-08-11T03:18:21.709698",
     "status": "completed"
    },
    "tags": []
   },
   "outputs": [
    {
     "name": "stdout",
     "output_type": "stream",
     "text": [
      "Accuracy: 0.927 \n",
      "\n",
      "              precision    recall  f1-score   support\n",
      "\n",
      "           0       0.94      0.97      0.96       509\n",
      "           1       0.84      0.72      0.78       108\n",
      "\n",
      "    accuracy                           0.93       617\n",
      "   macro avg       0.89      0.85      0.87       617\n",
      "weighted avg       0.92      0.93      0.92       617\n",
      " \n",
      "\n",
      "[[494  15]\n",
      " [ 30  78]]\n"
     ]
    }
   ],
   "source": [
    "y_hat = cross_val_predict(best_gb, X_scaled, y, cv=4)\n",
    "print('Accuracy:', round(accuracy_score(y, y_hat), 3), '\\n')\n",
    "print(classification_report(y, y_hat), '\\n')\n",
    "print(confusion_matrix(y, y_hat))"
   ]
  },
  {
   "cell_type": "code",
   "execution_count": 36,
   "id": "5b9ae387",
   "metadata": {
    "execution": {
     "iopub.execute_input": "2023-08-11T03:18:23.050863Z",
     "iopub.status.busy": "2023-08-11T03:18:23.050491Z",
     "iopub.status.idle": "2023-08-11T03:18:24.275857Z",
     "shell.execute_reply": "2023-08-11T03:18:24.274190Z"
    },
    "papermill": {
     "duration": 1.247455,
     "end_time": "2023-08-11T03:18:24.278647",
     "exception": false,
     "start_time": "2023-08-11T03:18:23.031192",
     "status": "completed"
    },
    "tags": []
   },
   "outputs": [
    {
     "name": "stdout",
     "output_type": "stream",
     "text": [
      "Accuracies: [0.93548387 0.90909091 0.91558442 0.94805195] \n",
      "\n",
      "Mean accuracy: 0.927 Std deviation: 0.016\n"
     ]
    }
   ],
   "source": [
    "acc_array = cross_val_score(best_gb, X_scaled, y, scoring = 'accuracy', cv = 4)\n",
    "print('Accuracies:', acc_array, '\\n')\n",
    "print('Mean accuracy:', round(acc_array.mean(), 3), 'Std deviation:', round(acc_array.std(), 3))"
   ]
  },
  {
   "cell_type": "code",
   "execution_count": 37,
   "id": "6cf21242",
   "metadata": {
    "execution": {
     "iopub.execute_input": "2023-08-11T03:18:24.315647Z",
     "iopub.status.busy": "2023-08-11T03:18:24.314389Z",
     "iopub.status.idle": "2023-08-11T03:18:24.674646Z",
     "shell.execute_reply": "2023-08-11T03:18:24.673339Z"
    },
    "papermill": {
     "duration": 0.381776,
     "end_time": "2023-08-11T03:18:24.677500",
     "exception": false,
     "start_time": "2023-08-11T03:18:24.295724",
     "status": "completed"
    },
    "tags": []
   },
   "outputs": [
    {
     "name": "stdout",
     "output_type": "stream",
     "text": [
      "[LightGBM] [Warning] lambda_l1 is set=1.8213060450879508e-05, reg_alpha=0.0 will be ignored. Current value: lambda_l1=1.8213060450879508e-05\n",
      "[LightGBM] [Warning] bagging_fraction is set=0.5785618008941892, subsample=1.0 will be ignored. Current value: bagging_fraction=0.5785618008941892\n",
      "[LightGBM] [Warning] feature_fraction is set=0.7652946325401702, colsample_bytree=1.0 will be ignored. Current value: feature_fraction=0.7652946325401702\n",
      "[LightGBM] [Warning] bagging_freq is set=4, subsample_freq=0 will be ignored. Current value: bagging_freq=4\n",
      "[LightGBM] [Warning] lambda_l2 is set=0.0031582501792819773, reg_lambda=0.0 will be ignored. Current value: lambda_l2=0.0031582501792819773\n"
     ]
    },
    {
     "data": {
      "text/html": [
       "<style>#sk-container-id-3 {color: black;background-color: white;}#sk-container-id-3 pre{padding: 0;}#sk-container-id-3 div.sk-toggleable {background-color: white;}#sk-container-id-3 label.sk-toggleable__label {cursor: pointer;display: block;width: 100%;margin-bottom: 0;padding: 0.3em;box-sizing: border-box;text-align: center;}#sk-container-id-3 label.sk-toggleable__label-arrow:before {content: \"▸\";float: left;margin-right: 0.25em;color: #696969;}#sk-container-id-3 label.sk-toggleable__label-arrow:hover:before {color: black;}#sk-container-id-3 div.sk-estimator:hover label.sk-toggleable__label-arrow:before {color: black;}#sk-container-id-3 div.sk-toggleable__content {max-height: 0;max-width: 0;overflow: hidden;text-align: left;background-color: #f0f8ff;}#sk-container-id-3 div.sk-toggleable__content pre {margin: 0.2em;color: black;border-radius: 0.25em;background-color: #f0f8ff;}#sk-container-id-3 input.sk-toggleable__control:checked~div.sk-toggleable__content {max-height: 200px;max-width: 100%;overflow: auto;}#sk-container-id-3 input.sk-toggleable__control:checked~label.sk-toggleable__label-arrow:before {content: \"▾\";}#sk-container-id-3 div.sk-estimator input.sk-toggleable__control:checked~label.sk-toggleable__label {background-color: #d4ebff;}#sk-container-id-3 div.sk-label input.sk-toggleable__control:checked~label.sk-toggleable__label {background-color: #d4ebff;}#sk-container-id-3 input.sk-hidden--visually {border: 0;clip: rect(1px 1px 1px 1px);clip: rect(1px, 1px, 1px, 1px);height: 1px;margin: -1px;overflow: hidden;padding: 0;position: absolute;width: 1px;}#sk-container-id-3 div.sk-estimator {font-family: monospace;background-color: #f0f8ff;border: 1px dotted black;border-radius: 0.25em;box-sizing: border-box;margin-bottom: 0.5em;}#sk-container-id-3 div.sk-estimator:hover {background-color: #d4ebff;}#sk-container-id-3 div.sk-parallel-item::after {content: \"\";width: 100%;border-bottom: 1px solid gray;flex-grow: 1;}#sk-container-id-3 div.sk-label:hover label.sk-toggleable__label {background-color: #d4ebff;}#sk-container-id-3 div.sk-serial::before {content: \"\";position: absolute;border-left: 1px solid gray;box-sizing: border-box;top: 0;bottom: 0;left: 50%;z-index: 0;}#sk-container-id-3 div.sk-serial {display: flex;flex-direction: column;align-items: center;background-color: white;padding-right: 0.2em;padding-left: 0.2em;position: relative;}#sk-container-id-3 div.sk-item {position: relative;z-index: 1;}#sk-container-id-3 div.sk-parallel {display: flex;align-items: stretch;justify-content: center;background-color: white;position: relative;}#sk-container-id-3 div.sk-item::before, #sk-container-id-3 div.sk-parallel-item::before {content: \"\";position: absolute;border-left: 1px solid gray;box-sizing: border-box;top: 0;bottom: 0;left: 50%;z-index: -1;}#sk-container-id-3 div.sk-parallel-item {display: flex;flex-direction: column;z-index: 1;position: relative;background-color: white;}#sk-container-id-3 div.sk-parallel-item:first-child::after {align-self: flex-end;width: 50%;}#sk-container-id-3 div.sk-parallel-item:last-child::after {align-self: flex-start;width: 50%;}#sk-container-id-3 div.sk-parallel-item:only-child::after {width: 0;}#sk-container-id-3 div.sk-dashed-wrapped {border: 1px dashed gray;margin: 0 0.4em 0.5em 0.4em;box-sizing: border-box;padding-bottom: 0.4em;background-color: white;}#sk-container-id-3 div.sk-label label {font-family: monospace;font-weight: bold;display: inline-block;line-height: 1.2em;}#sk-container-id-3 div.sk-label-container {text-align: center;}#sk-container-id-3 div.sk-container {/* jupyter's `normalize.less` sets `[hidden] { display: none; }` but bootstrap.min.css set `[hidden] { display: none !important; }` so we also need the `!important` here to be able to override the default hidden behavior on the sphinx rendered scikit-learn.org. See: https://github.com/scikit-learn/scikit-learn/issues/21755 */display: inline-block !important;position: relative;}#sk-container-id-3 div.sk-text-repr-fallback {display: none;}</style><div id=\"sk-container-id-3\" class=\"sk-top-container\"><div class=\"sk-text-repr-fallback\"><pre>LGBMClassifier(bagging_fraction=0.5785618008941892, bagging_freq=4,\n",
       "               feature_fraction=0.7652946325401702,\n",
       "               lambda_l1=1.8213060450879508e-05,\n",
       "               lambda_l2=0.0031582501792819773,\n",
       "               learning_rate=0.1833869044910331, min_child_samples=28,\n",
       "               num_leaves=94, random_state=42, scale_pos_weight=2.0)</pre><b>In a Jupyter environment, please rerun this cell to show the HTML representation or trust the notebook. <br />On GitHub, the HTML representation is unable to render, please try loading this page with nbviewer.org.</b></div><div class=\"sk-container\" hidden><div class=\"sk-item\"><div class=\"sk-estimator sk-toggleable\"><input class=\"sk-toggleable__control sk-hidden--visually\" id=\"sk-estimator-id-3\" type=\"checkbox\" checked><label for=\"sk-estimator-id-3\" class=\"sk-toggleable__label sk-toggleable__label-arrow\">LGBMClassifier</label><div class=\"sk-toggleable__content\"><pre>LGBMClassifier(bagging_fraction=0.5785618008941892, bagging_freq=4,\n",
       "               feature_fraction=0.7652946325401702,\n",
       "               lambda_l1=1.8213060450879508e-05,\n",
       "               lambda_l2=0.0031582501792819773,\n",
       "               learning_rate=0.1833869044910331, min_child_samples=28,\n",
       "               num_leaves=94, random_state=42, scale_pos_weight=2.0)</pre></div></div></div></div></div>"
      ],
      "text/plain": [
       "LGBMClassifier(bagging_fraction=0.5785618008941892, bagging_freq=4,\n",
       "               feature_fraction=0.7652946325401702,\n",
       "               lambda_l1=1.8213060450879508e-05,\n",
       "               lambda_l2=0.0031582501792819773,\n",
       "               learning_rate=0.1833869044910331, min_child_samples=28,\n",
       "               num_leaves=94, random_state=42, scale_pos_weight=2.0)"
      ]
     },
     "execution_count": 37,
     "metadata": {},
     "output_type": "execute_result"
    }
   ],
   "source": [
    "params = {\n",
    "    \"lambda_l1\": 1.8213060450879508e-05,\n",
    "    \"lambda_l2\": 0.0031582501792819773,\n",
    "    \"num_leaves\": 94,\n",
    "    \"feature_fraction\": 0.7652946325401702,\n",
    "    \"bagging_fraction\": 0.5785618008941892,\n",
    "    \"bagging_freq\": 4,\n",
    "    \"min_child_samples\": 28,\n",
    "    \"learning_rate\": 0.1833869044910331,\n",
    "    \"scale_pos_weight\": 2.\n",
    "}\n",
    "\n",
    "best_lgb = lgb.LGBMClassifier(\n",
    "    n_jobs=-1,\n",
    "    random_state=42,\n",
    "    **params\n",
    ")\n",
    "\n",
    "best_lgb.fit(X_shuffle, y_shuffle)"
   ]
  },
  {
   "cell_type": "code",
   "execution_count": 38,
   "id": "c1a7e192",
   "metadata": {
    "execution": {
     "iopub.execute_input": "2023-08-11T03:18:24.714425Z",
     "iopub.status.busy": "2023-08-11T03:18:24.713676Z",
     "iopub.status.idle": "2023-08-11T03:18:25.532313Z",
     "shell.execute_reply": "2023-08-11T03:18:25.530892Z"
    },
    "papermill": {
     "duration": 0.839792,
     "end_time": "2023-08-11T03:18:25.534823",
     "exception": false,
     "start_time": "2023-08-11T03:18:24.695031",
     "status": "completed"
    },
    "tags": []
   },
   "outputs": [
    {
     "name": "stdout",
     "output_type": "stream",
     "text": [
      "[LightGBM] [Warning] lambda_l1 is set=1.8213060450879508e-05, reg_alpha=0.0 will be ignored. Current value: lambda_l1=1.8213060450879508e-05\n",
      "[LightGBM] [Warning] bagging_fraction is set=0.5785618008941892, subsample=1.0 will be ignored. Current value: bagging_fraction=0.5785618008941892\n",
      "[LightGBM] [Warning] feature_fraction is set=0.7652946325401702, colsample_bytree=1.0 will be ignored. Current value: feature_fraction=0.7652946325401702\n",
      "[LightGBM] [Warning] bagging_freq is set=4, subsample_freq=0 will be ignored. Current value: bagging_freq=4\n",
      "[LightGBM] [Warning] lambda_l2 is set=0.0031582501792819773, reg_lambda=0.0 will be ignored. Current value: lambda_l2=0.0031582501792819773\n",
      "[LightGBM] [Warning] lambda_l1 is set=1.8213060450879508e-05, reg_alpha=0.0 will be ignored. Current value: lambda_l1=1.8213060450879508e-05\n",
      "[LightGBM] [Warning] bagging_fraction is set=0.5785618008941892, subsample=1.0 will be ignored. Current value: bagging_fraction=0.5785618008941892\n",
      "[LightGBM] [Warning] feature_fraction is set=0.7652946325401702, colsample_bytree=1.0 will be ignored. Current value: feature_fraction=0.7652946325401702\n",
      "[LightGBM] [Warning] bagging_freq is set=4, subsample_freq=0 will be ignored. Current value: bagging_freq=4\n",
      "[LightGBM] [Warning] lambda_l2 is set=0.0031582501792819773, reg_lambda=0.0 will be ignored. Current value: lambda_l2=0.0031582501792819773\n",
      "[LightGBM] [Warning] lambda_l1 is set=1.8213060450879508e-05, reg_alpha=0.0 will be ignored. Current value: lambda_l1=1.8213060450879508e-05\n",
      "[LightGBM] [Warning] bagging_fraction is set=0.5785618008941892, subsample=1.0 will be ignored. Current value: bagging_fraction=0.5785618008941892\n",
      "[LightGBM] [Warning] feature_fraction is set=0.7652946325401702, colsample_bytree=1.0 will be ignored. Current value: feature_fraction=0.7652946325401702\n",
      "[LightGBM] [Warning] bagging_freq is set=4, subsample_freq=0 will be ignored. Current value: bagging_freq=4\n",
      "[LightGBM] [Warning] lambda_l2 is set=0.0031582501792819773, reg_lambda=0.0 will be ignored. Current value: lambda_l2=0.0031582501792819773\n",
      "Accuracy: 0.924 \n",
      "\n",
      "              precision    recall  f1-score   support\n",
      "\n",
      "           0       0.94      0.96      0.95       509\n",
      "           1       0.81      0.73      0.77       108\n",
      "\n",
      "    accuracy                           0.92       617\n",
      "   macro avg       0.88      0.85      0.86       617\n",
      "weighted avg       0.92      0.92      0.92       617\n",
      " \n",
      "\n",
      "[[491  18]\n",
      " [ 29  79]]\n"
     ]
    }
   ],
   "source": [
    "y_hat = cross_val_predict(best_lgb, X_scaled, y, cv=4)\n",
    "print('Accuracy:', round(accuracy_score(y, y_hat), 3), '\\n')\n",
    "print(classification_report(y, y_hat), '\\n')\n",
    "print(confusion_matrix(y, y_hat))"
   ]
  },
  {
   "cell_type": "code",
   "execution_count": 39,
   "id": "aff8475e",
   "metadata": {
    "execution": {
     "iopub.execute_input": "2023-08-11T03:18:25.571098Z",
     "iopub.status.busy": "2023-08-11T03:18:25.570739Z",
     "iopub.status.idle": "2023-08-11T03:18:26.399893Z",
     "shell.execute_reply": "2023-08-11T03:18:26.398511Z"
    },
    "papermill": {
     "duration": 0.850103,
     "end_time": "2023-08-11T03:18:26.402455",
     "exception": false,
     "start_time": "2023-08-11T03:18:25.552352",
     "status": "completed"
    },
    "tags": []
   },
   "outputs": [
    {
     "name": "stdout",
     "output_type": "stream",
     "text": [
      "[LightGBM] [Warning] lambda_l1 is set=1.8213060450879508e-05, reg_alpha=0.0 will be ignored. Current value: lambda_l1=1.8213060450879508e-05\n",
      "[LightGBM] [Warning] bagging_fraction is set=0.5785618008941892, subsample=1.0 will be ignored. Current value: bagging_fraction=0.5785618008941892\n",
      "[LightGBM] [Warning] feature_fraction is set=0.7652946325401702, colsample_bytree=1.0 will be ignored. Current value: feature_fraction=0.7652946325401702\n",
      "[LightGBM] [Warning] bagging_freq is set=4, subsample_freq=0 will be ignored. Current value: bagging_freq=4\n",
      "[LightGBM] [Warning] lambda_l2 is set=0.0031582501792819773, reg_lambda=0.0 will be ignored. Current value: lambda_l2=0.0031582501792819773\n",
      "[LightGBM] [Warning] lambda_l1 is set=1.8213060450879508e-05, reg_alpha=0.0 will be ignored. Current value: lambda_l1=1.8213060450879508e-05\n",
      "[LightGBM] [Warning] bagging_fraction is set=0.5785618008941892, subsample=1.0 will be ignored. Current value: bagging_fraction=0.5785618008941892\n",
      "[LightGBM] [Warning] feature_fraction is set=0.7652946325401702, colsample_bytree=1.0 will be ignored. Current value: feature_fraction=0.7652946325401702\n",
      "[LightGBM] [Warning] bagging_freq is set=4, subsample_freq=0 will be ignored. Current value: bagging_freq=4\n",
      "[LightGBM] [Warning] lambda_l2 is set=0.0031582501792819773, reg_lambda=0.0 will be ignored. Current value: lambda_l2=0.0031582501792819773\n",
      "[LightGBM] [Warning] lambda_l1 is set=1.8213060450879508e-05, reg_alpha=0.0 will be ignored. Current value: lambda_l1=1.8213060450879508e-05\n",
      "[LightGBM] [Warning] bagging_fraction is set=0.5785618008941892, subsample=1.0 will be ignored. Current value: bagging_fraction=0.5785618008941892\n",
      "[LightGBM] [Warning] feature_fraction is set=0.7652946325401702, colsample_bytree=1.0 will be ignored. Current value: feature_fraction=0.7652946325401702\n",
      "[LightGBM] [Warning] bagging_freq is set=4, subsample_freq=0 will be ignored. Current value: bagging_freq=4\n",
      "[LightGBM] [Warning] lambda_l2 is set=0.0031582501792819773, reg_lambda=0.0 will be ignored. Current value: lambda_l2=0.0031582501792819773\n",
      "[LightGBM] [Warning] lambda_l1 is set=1.8213060450879508e-05, reg_alpha=0.0 will be ignored. Current value: lambda_l1=1.8213060450879508e-05\n",
      "[LightGBM] [Warning] bagging_fraction is set=0.5785618008941892, subsample=1.0 will be ignored. Current value: bagging_fraction=0.5785618008941892\n",
      "[LightGBM] [Warning] feature_fraction is set=0.7652946325401702, colsample_bytree=1.0 will be ignored. Current value: feature_fraction=0.7652946325401702\n",
      "[LightGBM] [Warning] bagging_freq is set=4, subsample_freq=0 will be ignored. Current value: bagging_freq=4\n",
      "[LightGBM] [Warning] lambda_l2 is set=0.0031582501792819773, reg_lambda=0.0 will be ignored. Current value: lambda_l2=0.0031582501792819773\n",
      "Accuracies: [0.92903226 0.93506494 0.9025974  0.92857143] \n",
      "\n",
      "Mean accuracy: 0.924 Std deviation: 0.013\n"
     ]
    }
   ],
   "source": [
    "acc_array = cross_val_score(best_lgb, X_scaled, y, scoring = 'accuracy', cv = 4)\n",
    "print('Accuracies:', acc_array, '\\n')\n",
    "print('Mean accuracy:', round(acc_array.mean(), 3), 'Std deviation:', round(acc_array.std(), 3))"
   ]
  },
  {
   "cell_type": "code",
   "execution_count": 40,
   "id": "196abd61",
   "metadata": {
    "execution": {
     "iopub.execute_input": "2023-08-11T03:18:26.440897Z",
     "iopub.status.busy": "2023-08-11T03:18:26.440512Z",
     "iopub.status.idle": "2023-08-11T03:18:26.445813Z",
     "shell.execute_reply": "2023-08-11T03:18:26.444490Z"
    },
    "papermill": {
     "duration": 0.028388,
     "end_time": "2023-08-11T03:18:26.448888",
     "exception": false,
     "start_time": "2023-08-11T03:18:26.420500",
     "status": "completed"
    },
    "tags": []
   },
   "outputs": [],
   "source": [
    "soft_vote = VotingClassifier(\n",
    "    estimators=[(\"gb\", best_gb), ('xgb', best_xgb), ('lgb', best_lgb)],\n",
    "    voting='soft'\n",
    ")\n"
   ]
  },
  {
   "cell_type": "code",
   "execution_count": 41,
   "id": "4a49b536",
   "metadata": {
    "execution": {
     "iopub.execute_input": "2023-08-11T03:18:26.486379Z",
     "iopub.status.busy": "2023-08-11T03:18:26.485732Z",
     "iopub.status.idle": "2023-08-11T03:18:27.266388Z",
     "shell.execute_reply": "2023-08-11T03:18:27.265330Z"
    },
    "papermill": {
     "duration": 0.802322,
     "end_time": "2023-08-11T03:18:27.269077",
     "exception": false,
     "start_time": "2023-08-11T03:18:26.466755",
     "status": "completed"
    },
    "tags": []
   },
   "outputs": [
    {
     "name": "stdout",
     "output_type": "stream",
     "text": [
      "[LightGBM] [Warning] lambda_l1 is set=1.8213060450879508e-05, reg_alpha=0.0 will be ignored. Current value: lambda_l1=1.8213060450879508e-05\n",
      "[LightGBM] [Warning] bagging_fraction is set=0.5785618008941892, subsample=1.0 will be ignored. Current value: bagging_fraction=0.5785618008941892\n",
      "[LightGBM] [Warning] feature_fraction is set=0.7652946325401702, colsample_bytree=1.0 will be ignored. Current value: feature_fraction=0.7652946325401702\n",
      "[LightGBM] [Warning] bagging_freq is set=4, subsample_freq=0 will be ignored. Current value: bagging_freq=4\n",
      "[LightGBM] [Warning] lambda_l2 is set=0.0031582501792819773, reg_lambda=0.0 will be ignored. Current value: lambda_l2=0.0031582501792819773\n"
     ]
    },
    {
     "data": {
      "text/html": [
       "<style>#sk-container-id-4 {color: black;background-color: white;}#sk-container-id-4 pre{padding: 0;}#sk-container-id-4 div.sk-toggleable {background-color: white;}#sk-container-id-4 label.sk-toggleable__label {cursor: pointer;display: block;width: 100%;margin-bottom: 0;padding: 0.3em;box-sizing: border-box;text-align: center;}#sk-container-id-4 label.sk-toggleable__label-arrow:before {content: \"▸\";float: left;margin-right: 0.25em;color: #696969;}#sk-container-id-4 label.sk-toggleable__label-arrow:hover:before {color: black;}#sk-container-id-4 div.sk-estimator:hover label.sk-toggleable__label-arrow:before {color: black;}#sk-container-id-4 div.sk-toggleable__content {max-height: 0;max-width: 0;overflow: hidden;text-align: left;background-color: #f0f8ff;}#sk-container-id-4 div.sk-toggleable__content pre {margin: 0.2em;color: black;border-radius: 0.25em;background-color: #f0f8ff;}#sk-container-id-4 input.sk-toggleable__control:checked~div.sk-toggleable__content {max-height: 200px;max-width: 100%;overflow: auto;}#sk-container-id-4 input.sk-toggleable__control:checked~label.sk-toggleable__label-arrow:before {content: \"▾\";}#sk-container-id-4 div.sk-estimator input.sk-toggleable__control:checked~label.sk-toggleable__label {background-color: #d4ebff;}#sk-container-id-4 div.sk-label input.sk-toggleable__control:checked~label.sk-toggleable__label {background-color: #d4ebff;}#sk-container-id-4 input.sk-hidden--visually {border: 0;clip: rect(1px 1px 1px 1px);clip: rect(1px, 1px, 1px, 1px);height: 1px;margin: -1px;overflow: hidden;padding: 0;position: absolute;width: 1px;}#sk-container-id-4 div.sk-estimator {font-family: monospace;background-color: #f0f8ff;border: 1px dotted black;border-radius: 0.25em;box-sizing: border-box;margin-bottom: 0.5em;}#sk-container-id-4 div.sk-estimator:hover {background-color: #d4ebff;}#sk-container-id-4 div.sk-parallel-item::after {content: \"\";width: 100%;border-bottom: 1px solid gray;flex-grow: 1;}#sk-container-id-4 div.sk-label:hover label.sk-toggleable__label {background-color: #d4ebff;}#sk-container-id-4 div.sk-serial::before {content: \"\";position: absolute;border-left: 1px solid gray;box-sizing: border-box;top: 0;bottom: 0;left: 50%;z-index: 0;}#sk-container-id-4 div.sk-serial {display: flex;flex-direction: column;align-items: center;background-color: white;padding-right: 0.2em;padding-left: 0.2em;position: relative;}#sk-container-id-4 div.sk-item {position: relative;z-index: 1;}#sk-container-id-4 div.sk-parallel {display: flex;align-items: stretch;justify-content: center;background-color: white;position: relative;}#sk-container-id-4 div.sk-item::before, #sk-container-id-4 div.sk-parallel-item::before {content: \"\";position: absolute;border-left: 1px solid gray;box-sizing: border-box;top: 0;bottom: 0;left: 50%;z-index: -1;}#sk-container-id-4 div.sk-parallel-item {display: flex;flex-direction: column;z-index: 1;position: relative;background-color: white;}#sk-container-id-4 div.sk-parallel-item:first-child::after {align-self: flex-end;width: 50%;}#sk-container-id-4 div.sk-parallel-item:last-child::after {align-self: flex-start;width: 50%;}#sk-container-id-4 div.sk-parallel-item:only-child::after {width: 0;}#sk-container-id-4 div.sk-dashed-wrapped {border: 1px dashed gray;margin: 0 0.4em 0.5em 0.4em;box-sizing: border-box;padding-bottom: 0.4em;background-color: white;}#sk-container-id-4 div.sk-label label {font-family: monospace;font-weight: bold;display: inline-block;line-height: 1.2em;}#sk-container-id-4 div.sk-label-container {text-align: center;}#sk-container-id-4 div.sk-container {/* jupyter's `normalize.less` sets `[hidden] { display: none; }` but bootstrap.min.css set `[hidden] { display: none !important; }` so we also need the `!important` here to be able to override the default hidden behavior on the sphinx rendered scikit-learn.org. See: https://github.com/scikit-learn/scikit-learn/issues/21755 */display: inline-block !important;position: relative;}#sk-container-id-4 div.sk-text-repr-fallback {display: none;}</style><div id=\"sk-container-id-4\" class=\"sk-top-container\"><div class=\"sk-text-repr-fallback\"><pre>VotingClassifier(estimators=[(&#x27;gb&#x27;,\n",
       "                              GradientBoostingClassifier(learning_rate=0.06851903253551589,\n",
       "                                                         min_samples_leaf=6,\n",
       "                                                         min_samples_split=9,\n",
       "                                                         random_state=42,\n",
       "                                                         subsample=0.6500000000000001)),\n",
       "                             (&#x27;xgb&#x27;,\n",
       "                              XGBClassifier(base_score=0.3, booster=&#x27;gbtree&#x27;,\n",
       "                                            callbacks=None,\n",
       "                                            colsample_bylevel=0.8,\n",
       "                                            colsample_bynode=0.3,\n",
       "                                            colsample_bytree=0.6,\n",
       "                                            early_stopping_rounds=None,\n",
       "                                            enable_ca...\n",
       "                                            n_estimators=110, n_jobs=None,\n",
       "                                            num_parallel_tree=None,\n",
       "                                            predictor=None, ...)),\n",
       "                             (&#x27;lgb&#x27;,\n",
       "                              LGBMClassifier(bagging_fraction=0.5785618008941892,\n",
       "                                             bagging_freq=4,\n",
       "                                             feature_fraction=0.7652946325401702,\n",
       "                                             lambda_l1=1.8213060450879508e-05,\n",
       "                                             lambda_l2=0.0031582501792819773,\n",
       "                                             learning_rate=0.1833869044910331,\n",
       "                                             min_child_samples=28,\n",
       "                                             num_leaves=94, random_state=42,\n",
       "                                             scale_pos_weight=2.0))],\n",
       "                 voting=&#x27;soft&#x27;)</pre><b>In a Jupyter environment, please rerun this cell to show the HTML representation or trust the notebook. <br />On GitHub, the HTML representation is unable to render, please try loading this page with nbviewer.org.</b></div><div class=\"sk-container\" hidden><div class=\"sk-item sk-dashed-wrapped\"><div class=\"sk-label-container\"><div class=\"sk-label sk-toggleable\"><input class=\"sk-toggleable__control sk-hidden--visually\" id=\"sk-estimator-id-4\" type=\"checkbox\" ><label for=\"sk-estimator-id-4\" class=\"sk-toggleable__label sk-toggleable__label-arrow\">VotingClassifier</label><div class=\"sk-toggleable__content\"><pre>VotingClassifier(estimators=[(&#x27;gb&#x27;,\n",
       "                              GradientBoostingClassifier(learning_rate=0.06851903253551589,\n",
       "                                                         min_samples_leaf=6,\n",
       "                                                         min_samples_split=9,\n",
       "                                                         random_state=42,\n",
       "                                                         subsample=0.6500000000000001)),\n",
       "                             (&#x27;xgb&#x27;,\n",
       "                              XGBClassifier(base_score=0.3, booster=&#x27;gbtree&#x27;,\n",
       "                                            callbacks=None,\n",
       "                                            colsample_bylevel=0.8,\n",
       "                                            colsample_bynode=0.3,\n",
       "                                            colsample_bytree=0.6,\n",
       "                                            early_stopping_rounds=None,\n",
       "                                            enable_ca...\n",
       "                                            n_estimators=110, n_jobs=None,\n",
       "                                            num_parallel_tree=None,\n",
       "                                            predictor=None, ...)),\n",
       "                             (&#x27;lgb&#x27;,\n",
       "                              LGBMClassifier(bagging_fraction=0.5785618008941892,\n",
       "                                             bagging_freq=4,\n",
       "                                             feature_fraction=0.7652946325401702,\n",
       "                                             lambda_l1=1.8213060450879508e-05,\n",
       "                                             lambda_l2=0.0031582501792819773,\n",
       "                                             learning_rate=0.1833869044910331,\n",
       "                                             min_child_samples=28,\n",
       "                                             num_leaves=94, random_state=42,\n",
       "                                             scale_pos_weight=2.0))],\n",
       "                 voting=&#x27;soft&#x27;)</pre></div></div></div><div class=\"sk-parallel\"><div class=\"sk-parallel-item\"><div class=\"sk-item\"><div class=\"sk-label-container\"><div class=\"sk-label sk-toggleable\"><label>gb</label></div></div><div class=\"sk-serial\"><div class=\"sk-item\"><div class=\"sk-estimator sk-toggleable\"><input class=\"sk-toggleable__control sk-hidden--visually\" id=\"sk-estimator-id-5\" type=\"checkbox\" ><label for=\"sk-estimator-id-5\" class=\"sk-toggleable__label sk-toggleable__label-arrow\">GradientBoostingClassifier</label><div class=\"sk-toggleable__content\"><pre>GradientBoostingClassifier(learning_rate=0.06851903253551589,\n",
       "                           min_samples_leaf=6, min_samples_split=9,\n",
       "                           random_state=42, subsample=0.6500000000000001)</pre></div></div></div></div></div></div><div class=\"sk-parallel-item\"><div class=\"sk-item\"><div class=\"sk-label-container\"><div class=\"sk-label sk-toggleable\"><label>xgb</label></div></div><div class=\"sk-serial\"><div class=\"sk-item\"><div class=\"sk-estimator sk-toggleable\"><input class=\"sk-toggleable__control sk-hidden--visually\" id=\"sk-estimator-id-6\" type=\"checkbox\" ><label for=\"sk-estimator-id-6\" class=\"sk-toggleable__label sk-toggleable__label-arrow\">XGBClassifier</label><div class=\"sk-toggleable__content\"><pre>XGBClassifier(base_score=0.3, booster=&#x27;gbtree&#x27;, callbacks=None,\n",
       "              colsample_bylevel=0.8, colsample_bynode=0.3, colsample_bytree=0.6,\n",
       "              early_stopping_rounds=None, enable_categorical=False, eta=0,\n",
       "              eval_metric=&#x27;logloss&#x27;, feature_types=None, gamma=0, gpu_id=None,\n",
       "              grow_policy=&#x27;lossguide&#x27;, importance_type=None,\n",
       "              interaction_constraints=None, learning_rate=0.2, max_bin=None,\n",
       "              max_cat_threshold=None, max_cat_to_onehot=None,\n",
       "              max_delta_step=None, max_depth=5, max_leaves=None,\n",
       "              min_child_weight=None, missing=nan, monotone_constraints=None,\n",
       "              n_estimators=110, n_jobs=None, num_parallel_tree=None,\n",
       "              predictor=None, ...)</pre></div></div></div></div></div></div><div class=\"sk-parallel-item\"><div class=\"sk-item\"><div class=\"sk-label-container\"><div class=\"sk-label sk-toggleable\"><label>lgb</label></div></div><div class=\"sk-serial\"><div class=\"sk-item\"><div class=\"sk-estimator sk-toggleable\"><input class=\"sk-toggleable__control sk-hidden--visually\" id=\"sk-estimator-id-7\" type=\"checkbox\" ><label for=\"sk-estimator-id-7\" class=\"sk-toggleable__label sk-toggleable__label-arrow\">LGBMClassifier</label><div class=\"sk-toggleable__content\"><pre>LGBMClassifier(bagging_fraction=0.5785618008941892, bagging_freq=4,\n",
       "               feature_fraction=0.7652946325401702,\n",
       "               lambda_l1=1.8213060450879508e-05,\n",
       "               lambda_l2=0.0031582501792819773,\n",
       "               learning_rate=0.1833869044910331, min_child_samples=28,\n",
       "               num_leaves=94, random_state=42, scale_pos_weight=2.0)</pre></div></div></div></div></div></div></div></div></div></div>"
      ],
      "text/plain": [
       "VotingClassifier(estimators=[('gb',\n",
       "                              GradientBoostingClassifier(learning_rate=0.06851903253551589,\n",
       "                                                         min_samples_leaf=6,\n",
       "                                                         min_samples_split=9,\n",
       "                                                         random_state=42,\n",
       "                                                         subsample=0.6500000000000001)),\n",
       "                             ('xgb',\n",
       "                              XGBClassifier(base_score=0.3, booster='gbtree',\n",
       "                                            callbacks=None,\n",
       "                                            colsample_bylevel=0.8,\n",
       "                                            colsample_bynode=0.3,\n",
       "                                            colsample_bytree=0.6,\n",
       "                                            early_stopping_rounds=None,\n",
       "                                            enable_ca...\n",
       "                                            n_estimators=110, n_jobs=None,\n",
       "                                            num_parallel_tree=None,\n",
       "                                            predictor=None, ...)),\n",
       "                             ('lgb',\n",
       "                              LGBMClassifier(bagging_fraction=0.5785618008941892,\n",
       "                                             bagging_freq=4,\n",
       "                                             feature_fraction=0.7652946325401702,\n",
       "                                             lambda_l1=1.8213060450879508e-05,\n",
       "                                             lambda_l2=0.0031582501792819773,\n",
       "                                             learning_rate=0.1833869044910331,\n",
       "                                             min_child_samples=28,\n",
       "                                             num_leaves=94, random_state=42,\n",
       "                                             scale_pos_weight=2.0))],\n",
       "                 voting='soft')"
      ]
     },
     "execution_count": 41,
     "metadata": {},
     "output_type": "execute_result"
    }
   ],
   "source": [
    "soft_vote.fit(X_shuffle, y_shuffle)"
   ]
  },
  {
   "cell_type": "code",
   "execution_count": 42,
   "id": "5e5128b4",
   "metadata": {
    "execution": {
     "iopub.execute_input": "2023-08-11T03:18:27.307719Z",
     "iopub.status.busy": "2023-08-11T03:18:27.307111Z",
     "iopub.status.idle": "2023-08-11T03:18:29.679738Z",
     "shell.execute_reply": "2023-08-11T03:18:29.678093Z"
    },
    "papermill": {
     "duration": 2.394954,
     "end_time": "2023-08-11T03:18:29.682280",
     "exception": false,
     "start_time": "2023-08-11T03:18:27.287326",
     "status": "completed"
    },
    "tags": []
   },
   "outputs": [
    {
     "name": "stdout",
     "output_type": "stream",
     "text": [
      "[LightGBM] [Warning] lambda_l1 is set=1.8213060450879508e-05, reg_alpha=0.0 will be ignored. Current value: lambda_l1=1.8213060450879508e-05\n",
      "[LightGBM] [Warning] bagging_fraction is set=0.5785618008941892, subsample=1.0 will be ignored. Current value: bagging_fraction=0.5785618008941892\n",
      "[LightGBM] [Warning] feature_fraction is set=0.7652946325401702, colsample_bytree=1.0 will be ignored. Current value: feature_fraction=0.7652946325401702\n",
      "[LightGBM] [Warning] bagging_freq is set=4, subsample_freq=0 will be ignored. Current value: bagging_freq=4\n",
      "[LightGBM] [Warning] lambda_l2 is set=0.0031582501792819773, reg_lambda=0.0 will be ignored. Current value: lambda_l2=0.0031582501792819773\n",
      "[LightGBM] [Warning] lambda_l1 is set=1.8213060450879508e-05, reg_alpha=0.0 will be ignored. Current value: lambda_l1=1.8213060450879508e-05\n",
      "[LightGBM] [Warning] bagging_fraction is set=0.5785618008941892, subsample=1.0 will be ignored. Current value: bagging_fraction=0.5785618008941892\n",
      "[LightGBM] [Warning] feature_fraction is set=0.7652946325401702, colsample_bytree=1.0 will be ignored. Current value: feature_fraction=0.7652946325401702\n",
      "[LightGBM] [Warning] bagging_freq is set=4, subsample_freq=0 will be ignored. Current value: bagging_freq=4\n",
      "[LightGBM] [Warning] lambda_l2 is set=0.0031582501792819773, reg_lambda=0.0 will be ignored. Current value: lambda_l2=0.0031582501792819773\n",
      "[LightGBM] [Warning] lambda_l1 is set=1.8213060450879508e-05, reg_alpha=0.0 will be ignored. Current value: lambda_l1=1.8213060450879508e-05\n",
      "[LightGBM] [Warning] bagging_fraction is set=0.5785618008941892, subsample=1.0 will be ignored. Current value: bagging_fraction=0.5785618008941892\n",
      "[LightGBM] [Warning] feature_fraction is set=0.7652946325401702, colsample_bytree=1.0 will be ignored. Current value: feature_fraction=0.7652946325401702\n",
      "[LightGBM] [Warning] bagging_freq is set=4, subsample_freq=0 will be ignored. Current value: bagging_freq=4\n",
      "[LightGBM] [Warning] lambda_l2 is set=0.0031582501792819773, reg_lambda=0.0 will be ignored. Current value: lambda_l2=0.0031582501792819773\n",
      "Accuracy: 0.937 \n",
      "\n",
      "              precision    recall  f1-score   support\n",
      "\n",
      "           0       0.95      0.97      0.96       509\n",
      "           1       0.86      0.77      0.81       108\n",
      "\n",
      "    accuracy                           0.94       617\n",
      "   macro avg       0.90      0.87      0.89       617\n",
      "weighted avg       0.94      0.94      0.94       617\n",
      " \n",
      "\n",
      "[[495  14]\n",
      " [ 25  83]]\n"
     ]
    }
   ],
   "source": [
    "y_hat = cross_val_predict(soft_vote, X_scaled, y, cv=4)\n",
    "print('Accuracy:', round(accuracy_score(y, y_hat), 3), '\\n')\n",
    "print(classification_report(y, y_hat), '\\n')\n",
    "print(confusion_matrix(y, y_hat))"
   ]
  },
  {
   "cell_type": "code",
   "execution_count": 43,
   "id": "2c7107d8",
   "metadata": {
    "execution": {
     "iopub.execute_input": "2023-08-11T03:18:29.721816Z",
     "iopub.status.busy": "2023-08-11T03:18:29.721417Z",
     "iopub.status.idle": "2023-08-11T03:18:32.111408Z",
     "shell.execute_reply": "2023-08-11T03:18:32.110306Z"
    },
    "papermill": {
     "duration": 2.41316,
     "end_time": "2023-08-11T03:18:32.114140",
     "exception": false,
     "start_time": "2023-08-11T03:18:29.700980",
     "status": "completed"
    },
    "tags": []
   },
   "outputs": [
    {
     "name": "stdout",
     "output_type": "stream",
     "text": [
      "[LightGBM] [Warning] lambda_l1 is set=1.8213060450879508e-05, reg_alpha=0.0 will be ignored. Current value: lambda_l1=1.8213060450879508e-05\n",
      "[LightGBM] [Warning] bagging_fraction is set=0.5785618008941892, subsample=1.0 will be ignored. Current value: bagging_fraction=0.5785618008941892\n",
      "[LightGBM] [Warning] feature_fraction is set=0.7652946325401702, colsample_bytree=1.0 will be ignored. Current value: feature_fraction=0.7652946325401702\n",
      "[LightGBM] [Warning] bagging_freq is set=4, subsample_freq=0 will be ignored. Current value: bagging_freq=4\n",
      "[LightGBM] [Warning] lambda_l2 is set=0.0031582501792819773, reg_lambda=0.0 will be ignored. Current value: lambda_l2=0.0031582501792819773\n",
      "[LightGBM] [Warning] lambda_l1 is set=1.8213060450879508e-05, reg_alpha=0.0 will be ignored. Current value: lambda_l1=1.8213060450879508e-05\n",
      "[LightGBM] [Warning] bagging_fraction is set=0.5785618008941892, subsample=1.0 will be ignored. Current value: bagging_fraction=0.5785618008941892\n",
      "[LightGBM] [Warning] feature_fraction is set=0.7652946325401702, colsample_bytree=1.0 will be ignored. Current value: feature_fraction=0.7652946325401702\n",
      "[LightGBM] [Warning] bagging_freq is set=4, subsample_freq=0 will be ignored. Current value: bagging_freq=4\n",
      "[LightGBM] [Warning] lambda_l2 is set=0.0031582501792819773, reg_lambda=0.0 will be ignored. Current value: lambda_l2=0.0031582501792819773\n",
      "[LightGBM] [Warning] lambda_l1 is set=1.8213060450879508e-05, reg_alpha=0.0 will be ignored. Current value: lambda_l1=1.8213060450879508e-05\n",
      "[LightGBM] [Warning] bagging_fraction is set=0.5785618008941892, subsample=1.0 will be ignored. Current value: bagging_fraction=0.5785618008941892\n",
      "[LightGBM] [Warning] feature_fraction is set=0.7652946325401702, colsample_bytree=1.0 will be ignored. Current value: feature_fraction=0.7652946325401702\n",
      "[LightGBM] [Warning] bagging_freq is set=4, subsample_freq=0 will be ignored. Current value: bagging_freq=4\n",
      "[LightGBM] [Warning] lambda_l2 is set=0.0031582501792819773, reg_lambda=0.0 will be ignored. Current value: lambda_l2=0.0031582501792819773\n",
      "[LightGBM] [Warning] lambda_l1 is set=1.8213060450879508e-05, reg_alpha=0.0 will be ignored. Current value: lambda_l1=1.8213060450879508e-05\n",
      "[LightGBM] [Warning] bagging_fraction is set=0.5785618008941892, subsample=1.0 will be ignored. Current value: bagging_fraction=0.5785618008941892\n",
      "[LightGBM] [Warning] feature_fraction is set=0.7652946325401702, colsample_bytree=1.0 will be ignored. Current value: feature_fraction=0.7652946325401702\n",
      "[LightGBM] [Warning] bagging_freq is set=4, subsample_freq=0 will be ignored. Current value: bagging_freq=4\n",
      "[LightGBM] [Warning] lambda_l2 is set=0.0031582501792819773, reg_lambda=0.0 will be ignored. Current value: lambda_l2=0.0031582501792819773\n"
     ]
    }
   ],
   "source": [
    "probs = cross_val_predict(soft_vote, X_scaled, y, cv = 4, method = 'predict_proba')\n",
    "prob_0_train = probs[:, 0]\n",
    "prob_1_train = probs[:, 1]"
   ]
  },
  {
   "cell_type": "code",
   "execution_count": 44,
   "id": "91e20439",
   "metadata": {
    "execution": {
     "iopub.execute_input": "2023-08-11T03:18:32.154382Z",
     "iopub.status.busy": "2023-08-11T03:18:32.153632Z",
     "iopub.status.idle": "2023-08-11T03:18:32.160970Z",
     "shell.execute_reply": "2023-08-11T03:18:32.160234Z"
    },
    "papermill": {
     "duration": 0.029748,
     "end_time": "2023-08-11T03:18:32.162925",
     "exception": false,
     "start_time": "2023-08-11T03:18:32.133177",
     "status": "completed"
    },
    "tags": []
   },
   "outputs": [
    {
     "data": {
      "text/plain": [
       "0.36021917921563285"
      ]
     },
     "execution_count": 44,
     "metadata": {},
     "output_type": "execute_result"
    }
   ],
   "source": [
    "balanced_log_loss(y, y_hat, prob_0_train, prob_1_train)"
   ]
  },
  {
   "cell_type": "code",
   "execution_count": 45,
   "id": "b554f4d3",
   "metadata": {
    "execution": {
     "iopub.execute_input": "2023-08-11T03:18:32.202633Z",
     "iopub.status.busy": "2023-08-11T03:18:32.202257Z",
     "iopub.status.idle": "2023-08-11T03:18:32.206027Z",
     "shell.execute_reply": "2023-08-11T03:18:32.205319Z"
    },
    "papermill": {
     "duration": 0.026358,
     "end_time": "2023-08-11T03:18:32.208089",
     "exception": false,
     "start_time": "2023-08-11T03:18:32.181731",
     "status": "completed"
    },
    "tags": []
   },
   "outputs": [],
   "source": [
    "final_estimator = soft_vote"
   ]
  },
  {
   "cell_type": "code",
   "execution_count": 46,
   "id": "36a2c915",
   "metadata": {
    "execution": {
     "iopub.execute_input": "2023-08-11T03:18:32.250212Z",
     "iopub.status.busy": "2023-08-11T03:18:32.249559Z",
     "iopub.status.idle": "2023-08-11T03:18:34.654668Z",
     "shell.execute_reply": "2023-08-11T03:18:34.653472Z"
    },
    "papermill": {
     "duration": 2.429334,
     "end_time": "2023-08-11T03:18:34.657095",
     "exception": false,
     "start_time": "2023-08-11T03:18:32.227761",
     "status": "completed"
    },
    "tags": []
   },
   "outputs": [
    {
     "name": "stdout",
     "output_type": "stream",
     "text": [
      "[LightGBM] [Warning] lambda_l1 is set=1.8213060450879508e-05, reg_alpha=0.0 will be ignored. Current value: lambda_l1=1.8213060450879508e-05\n",
      "[LightGBM] [Warning] bagging_fraction is set=0.5785618008941892, subsample=1.0 will be ignored. Current value: bagging_fraction=0.5785618008941892\n",
      "[LightGBM] [Warning] feature_fraction is set=0.7652946325401702, colsample_bytree=1.0 will be ignored. Current value: feature_fraction=0.7652946325401702\n",
      "[LightGBM] [Warning] bagging_freq is set=4, subsample_freq=0 will be ignored. Current value: bagging_freq=4\n",
      "[LightGBM] [Warning] lambda_l2 is set=0.0031582501792819773, reg_lambda=0.0 will be ignored. Current value: lambda_l2=0.0031582501792819773\n",
      "[LightGBM] [Warning] lambda_l1 is set=1.8213060450879508e-05, reg_alpha=0.0 will be ignored. Current value: lambda_l1=1.8213060450879508e-05\n",
      "[LightGBM] [Warning] bagging_fraction is set=0.5785618008941892, subsample=1.0 will be ignored. Current value: bagging_fraction=0.5785618008941892\n",
      "[LightGBM] [Warning] feature_fraction is set=0.7652946325401702, colsample_bytree=1.0 will be ignored. Current value: feature_fraction=0.7652946325401702\n",
      "[LightGBM] [Warning] bagging_freq is set=4, subsample_freq=0 will be ignored. Current value: bagging_freq=4\n",
      "[LightGBM] [Warning] lambda_l2 is set=0.0031582501792819773, reg_lambda=0.0 will be ignored. Current value: lambda_l2=0.0031582501792819773\n",
      "[LightGBM] [Warning] lambda_l1 is set=1.8213060450879508e-05, reg_alpha=0.0 will be ignored. Current value: lambda_l1=1.8213060450879508e-05\n",
      "[LightGBM] [Warning] bagging_fraction is set=0.5785618008941892, subsample=1.0 will be ignored. Current value: bagging_fraction=0.5785618008941892\n",
      "[LightGBM] [Warning] feature_fraction is set=0.7652946325401702, colsample_bytree=1.0 will be ignored. Current value: feature_fraction=0.7652946325401702\n",
      "[LightGBM] [Warning] bagging_freq is set=4, subsample_freq=0 will be ignored. Current value: bagging_freq=4\n",
      "[LightGBM] [Warning] lambda_l2 is set=0.0031582501792819773, reg_lambda=0.0 will be ignored. Current value: lambda_l2=0.0031582501792819773\n",
      "[LightGBM] [Warning] lambda_l1 is set=1.8213060450879508e-05, reg_alpha=0.0 will be ignored. Current value: lambda_l1=1.8213060450879508e-05\n",
      "[LightGBM] [Warning] bagging_fraction is set=0.5785618008941892, subsample=1.0 will be ignored. Current value: bagging_fraction=0.5785618008941892\n",
      "[LightGBM] [Warning] feature_fraction is set=0.7652946325401702, colsample_bytree=1.0 will be ignored. Current value: feature_fraction=0.7652946325401702\n",
      "[LightGBM] [Warning] bagging_freq is set=4, subsample_freq=0 will be ignored. Current value: bagging_freq=4\n",
      "[LightGBM] [Warning] lambda_l2 is set=0.0031582501792819773, reg_lambda=0.0 will be ignored. Current value: lambda_l2=0.0031582501792819773\n"
     ]
    }
   ],
   "source": [
    "train_proba = cross_val_predict(final_estimator, X_scaled, y, cv = 4, method = 'predict_proba')\n",
    "\n",
    "df_check = pd.DataFrame({\n",
    "    #'Id' : X.index,\n",
    "    'class_0' : train_proba[:, 0],\n",
    "    'class_1' : train_proba[:, 1],\n",
    "    'y_train' : y,\n",
    "    'y_predicted' : y_hat\n",
    "})\n"
   ]
  },
  {
   "cell_type": "code",
   "execution_count": 47,
   "id": "f83de58a",
   "metadata": {
    "execution": {
     "iopub.execute_input": "2023-08-11T03:18:34.695881Z",
     "iopub.status.busy": "2023-08-11T03:18:34.695517Z",
     "iopub.status.idle": "2023-08-11T03:18:34.702702Z",
     "shell.execute_reply": "2023-08-11T03:18:34.701435Z"
    },
    "papermill": {
     "duration": 0.029263,
     "end_time": "2023-08-11T03:18:34.705030",
     "exception": false,
     "start_time": "2023-08-11T03:18:34.675767",
     "status": "completed"
    },
    "tags": []
   },
   "outputs": [],
   "source": [
    "df_class_0 = df_check[['class_0', 'y_train', 'y_predicted']]\n",
    "df_class_1 = df_check[['class_1', 'y_train', 'y_predicted']]"
   ]
  },
  {
   "cell_type": "code",
   "execution_count": 48,
   "id": "2ded5df8",
   "metadata": {
    "execution": {
     "iopub.execute_input": "2023-08-11T03:18:34.744092Z",
     "iopub.status.busy": "2023-08-11T03:18:34.743747Z",
     "iopub.status.idle": "2023-08-11T03:18:34.757562Z",
     "shell.execute_reply": "2023-08-11T03:18:34.756323Z"
    },
    "papermill": {
     "duration": 0.035974,
     "end_time": "2023-08-11T03:18:34.759843",
     "exception": false,
     "start_time": "2023-08-11T03:18:34.723869",
     "status": "completed"
    },
    "tags": []
   },
   "outputs": [
    {
     "data": {
      "text/html": [
       "<div>\n",
       "<style scoped>\n",
       "    .dataframe tbody tr th:only-of-type {\n",
       "        vertical-align: middle;\n",
       "    }\n",
       "\n",
       "    .dataframe tbody tr th {\n",
       "        vertical-align: top;\n",
       "    }\n",
       "\n",
       "    .dataframe thead th {\n",
       "        text-align: right;\n",
       "    }\n",
       "</style>\n",
       "<table border=\"1\" class=\"dataframe\">\n",
       "  <thead>\n",
       "    <tr style=\"text-align: right;\">\n",
       "      <th></th>\n",
       "      <th></th>\n",
       "      <th>class_0</th>\n",
       "    </tr>\n",
       "    <tr>\n",
       "      <th>y_train</th>\n",
       "      <th>y_predicted</th>\n",
       "      <th></th>\n",
       "    </tr>\n",
       "  </thead>\n",
       "  <tbody>\n",
       "    <tr>\n",
       "      <th rowspan=\"2\" valign=\"top\">0</th>\n",
       "      <th>0</th>\n",
       "      <td>0.969367</td>\n",
       "    </tr>\n",
       "    <tr>\n",
       "      <th>1</th>\n",
       "      <td>0.171069</td>\n",
       "    </tr>\n",
       "    <tr>\n",
       "      <th rowspan=\"2\" valign=\"top\">1</th>\n",
       "      <th>0</th>\n",
       "      <td>0.764263</td>\n",
       "    </tr>\n",
       "    <tr>\n",
       "      <th>1</th>\n",
       "      <td>0.150246</td>\n",
       "    </tr>\n",
       "  </tbody>\n",
       "</table>\n",
       "</div>"
      ],
      "text/plain": [
       "                      class_0\n",
       "y_train y_predicted          \n",
       "0       0            0.969367\n",
       "        1            0.171069\n",
       "1       0            0.764263\n",
       "        1            0.150246"
      ]
     },
     "execution_count": 48,
     "metadata": {},
     "output_type": "execute_result"
    }
   ],
   "source": [
    "df_class_0.groupby(['y_train', 'y_predicted']).mean()"
   ]
  },
  {
   "cell_type": "code",
   "execution_count": 49,
   "id": "cdc08f09",
   "metadata": {
    "execution": {
     "iopub.execute_input": "2023-08-11T03:18:34.798598Z",
     "iopub.status.busy": "2023-08-11T03:18:34.797974Z",
     "iopub.status.idle": "2023-08-11T03:18:34.816221Z",
     "shell.execute_reply": "2023-08-11T03:18:34.814942Z"
    },
    "papermill": {
     "duration": 0.040851,
     "end_time": "2023-08-11T03:18:34.819018",
     "exception": false,
     "start_time": "2023-08-11T03:18:34.778167",
     "status": "completed"
    },
    "tags": []
   },
   "outputs": [
    {
     "data": {
      "text/html": [
       "<div>\n",
       "<style scoped>\n",
       "    .dataframe tbody tr th:only-of-type {\n",
       "        vertical-align: middle;\n",
       "    }\n",
       "\n",
       "    .dataframe tbody tr th {\n",
       "        vertical-align: top;\n",
       "    }\n",
       "\n",
       "    .dataframe thead th {\n",
       "        text-align: right;\n",
       "    }\n",
       "</style>\n",
       "<table border=\"1\" class=\"dataframe\">\n",
       "  <thead>\n",
       "    <tr style=\"text-align: right;\">\n",
       "      <th></th>\n",
       "      <th></th>\n",
       "      <th>class_0</th>\n",
       "    </tr>\n",
       "    <tr>\n",
       "      <th>y_train</th>\n",
       "      <th>y_predicted</th>\n",
       "      <th></th>\n",
       "    </tr>\n",
       "  </thead>\n",
       "  <tbody>\n",
       "    <tr>\n",
       "      <th rowspan=\"2\" valign=\"top\">0</th>\n",
       "      <th>0</th>\n",
       "      <td>0.999444</td>\n",
       "    </tr>\n",
       "    <tr>\n",
       "      <th>1</th>\n",
       "      <td>0.495260</td>\n",
       "    </tr>\n",
       "    <tr>\n",
       "      <th rowspan=\"2\" valign=\"top\">1</th>\n",
       "      <th>0</th>\n",
       "      <td>0.997076</td>\n",
       "    </tr>\n",
       "    <tr>\n",
       "      <th>1</th>\n",
       "      <td>0.493954</td>\n",
       "    </tr>\n",
       "  </tbody>\n",
       "</table>\n",
       "</div>"
      ],
      "text/plain": [
       "                      class_0\n",
       "y_train y_predicted          \n",
       "0       0            0.999444\n",
       "        1            0.495260\n",
       "1       0            0.997076\n",
       "        1            0.493954"
      ]
     },
     "execution_count": 49,
     "metadata": {},
     "output_type": "execute_result"
    }
   ],
   "source": [
    "df_class_0.groupby(['y_train', 'y_predicted']).max()"
   ]
  },
  {
   "cell_type": "code",
   "execution_count": 50,
   "id": "8d9ff8a5",
   "metadata": {
    "execution": {
     "iopub.execute_input": "2023-08-11T03:18:34.862121Z",
     "iopub.status.busy": "2023-08-11T03:18:34.861695Z",
     "iopub.status.idle": "2023-08-11T03:18:34.877472Z",
     "shell.execute_reply": "2023-08-11T03:18:34.876433Z"
    },
    "papermill": {
     "duration": 0.039144,
     "end_time": "2023-08-11T03:18:34.879630",
     "exception": false,
     "start_time": "2023-08-11T03:18:34.840486",
     "status": "completed"
    },
    "tags": []
   },
   "outputs": [
    {
     "data": {
      "text/html": [
       "<div>\n",
       "<style scoped>\n",
       "    .dataframe tbody tr th:only-of-type {\n",
       "        vertical-align: middle;\n",
       "    }\n",
       "\n",
       "    .dataframe tbody tr th {\n",
       "        vertical-align: top;\n",
       "    }\n",
       "\n",
       "    .dataframe thead th {\n",
       "        text-align: right;\n",
       "    }\n",
       "</style>\n",
       "<table border=\"1\" class=\"dataframe\">\n",
       "  <thead>\n",
       "    <tr style=\"text-align: right;\">\n",
       "      <th></th>\n",
       "      <th></th>\n",
       "      <th>class_0</th>\n",
       "    </tr>\n",
       "    <tr>\n",
       "      <th>y_train</th>\n",
       "      <th>y_predicted</th>\n",
       "      <th></th>\n",
       "    </tr>\n",
       "  </thead>\n",
       "  <tbody>\n",
       "    <tr>\n",
       "      <th rowspan=\"2\" valign=\"top\">0</th>\n",
       "      <th>0</th>\n",
       "      <td>0.539435</td>\n",
       "    </tr>\n",
       "    <tr>\n",
       "      <th>1</th>\n",
       "      <td>0.020718</td>\n",
       "    </tr>\n",
       "    <tr>\n",
       "      <th rowspan=\"2\" valign=\"top\">1</th>\n",
       "      <th>0</th>\n",
       "      <td>0.504858</td>\n",
       "    </tr>\n",
       "    <tr>\n",
       "      <th>1</th>\n",
       "      <td>0.002552</td>\n",
       "    </tr>\n",
       "  </tbody>\n",
       "</table>\n",
       "</div>"
      ],
      "text/plain": [
       "                      class_0\n",
       "y_train y_predicted          \n",
       "0       0            0.539435\n",
       "        1            0.020718\n",
       "1       0            0.504858\n",
       "        1            0.002552"
      ]
     },
     "execution_count": 50,
     "metadata": {},
     "output_type": "execute_result"
    }
   ],
   "source": [
    "df_class_0.groupby(['y_train', 'y_predicted']).min()"
   ]
  },
  {
   "cell_type": "code",
   "execution_count": 51,
   "id": "344cd7ee",
   "metadata": {
    "execution": {
     "iopub.execute_input": "2023-08-11T03:18:34.920044Z",
     "iopub.status.busy": "2023-08-11T03:18:34.919189Z",
     "iopub.status.idle": "2023-08-11T03:18:34.932055Z",
     "shell.execute_reply": "2023-08-11T03:18:34.930989Z"
    },
    "papermill": {
     "duration": 0.035541,
     "end_time": "2023-08-11T03:18:34.934320",
     "exception": false,
     "start_time": "2023-08-11T03:18:34.898779",
     "status": "completed"
    },
    "tags": []
   },
   "outputs": [
    {
     "data": {
      "text/html": [
       "<div>\n",
       "<style scoped>\n",
       "    .dataframe tbody tr th:only-of-type {\n",
       "        vertical-align: middle;\n",
       "    }\n",
       "\n",
       "    .dataframe tbody tr th {\n",
       "        vertical-align: top;\n",
       "    }\n",
       "\n",
       "    .dataframe thead th {\n",
       "        text-align: right;\n",
       "    }\n",
       "</style>\n",
       "<table border=\"1\" class=\"dataframe\">\n",
       "  <thead>\n",
       "    <tr style=\"text-align: right;\">\n",
       "      <th></th>\n",
       "      <th>class_0</th>\n",
       "      <th>y_train</th>\n",
       "      <th>y_predicted</th>\n",
       "    </tr>\n",
       "  </thead>\n",
       "  <tbody>\n",
       "    <tr>\n",
       "      <th>102</th>\n",
       "      <td>0.495260</td>\n",
       "      <td>0</td>\n",
       "      <td>1</td>\n",
       "    </tr>\n",
       "    <tr>\n",
       "      <th>190</th>\n",
       "      <td>0.123662</td>\n",
       "      <td>0</td>\n",
       "      <td>1</td>\n",
       "    </tr>\n",
       "    <tr>\n",
       "      <th>195</th>\n",
       "      <td>0.493862</td>\n",
       "      <td>0</td>\n",
       "      <td>1</td>\n",
       "    </tr>\n",
       "    <tr>\n",
       "      <th>220</th>\n",
       "      <td>0.121431</td>\n",
       "      <td>0</td>\n",
       "      <td>1</td>\n",
       "    </tr>\n",
       "    <tr>\n",
       "      <th>231</th>\n",
       "      <td>0.098088</td>\n",
       "      <td>0</td>\n",
       "      <td>1</td>\n",
       "    </tr>\n",
       "    <tr>\n",
       "      <th>292</th>\n",
       "      <td>0.199146</td>\n",
       "      <td>0</td>\n",
       "      <td>1</td>\n",
       "    </tr>\n",
       "    <tr>\n",
       "      <th>325</th>\n",
       "      <td>0.100320</td>\n",
       "      <td>0</td>\n",
       "      <td>1</td>\n",
       "    </tr>\n",
       "    <tr>\n",
       "      <th>337</th>\n",
       "      <td>0.131682</td>\n",
       "      <td>0</td>\n",
       "      <td>1</td>\n",
       "    </tr>\n",
       "    <tr>\n",
       "      <th>356</th>\n",
       "      <td>0.299366</td>\n",
       "      <td>0</td>\n",
       "      <td>1</td>\n",
       "    </tr>\n",
       "    <tr>\n",
       "      <th>367</th>\n",
       "      <td>0.074612</td>\n",
       "      <td>0</td>\n",
       "      <td>1</td>\n",
       "    </tr>\n",
       "    <tr>\n",
       "      <th>380</th>\n",
       "      <td>0.084790</td>\n",
       "      <td>0</td>\n",
       "      <td>1</td>\n",
       "    </tr>\n",
       "    <tr>\n",
       "      <th>462</th>\n",
       "      <td>0.020718</td>\n",
       "      <td>0</td>\n",
       "      <td>1</td>\n",
       "    </tr>\n",
       "    <tr>\n",
       "      <th>468</th>\n",
       "      <td>0.040514</td>\n",
       "      <td>0</td>\n",
       "      <td>1</td>\n",
       "    </tr>\n",
       "    <tr>\n",
       "      <th>498</th>\n",
       "      <td>0.111512</td>\n",
       "      <td>0</td>\n",
       "      <td>1</td>\n",
       "    </tr>\n",
       "  </tbody>\n",
       "</table>\n",
       "</div>"
      ],
      "text/plain": [
       "      class_0  y_train  y_predicted\n",
       "102  0.495260        0            1\n",
       "190  0.123662        0            1\n",
       "195  0.493862        0            1\n",
       "220  0.121431        0            1\n",
       "231  0.098088        0            1\n",
       "292  0.199146        0            1\n",
       "325  0.100320        0            1\n",
       "337  0.131682        0            1\n",
       "356  0.299366        0            1\n",
       "367  0.074612        0            1\n",
       "380  0.084790        0            1\n",
       "462  0.020718        0            1\n",
       "468  0.040514        0            1\n",
       "498  0.111512        0            1"
      ]
     },
     "execution_count": 51,
     "metadata": {},
     "output_type": "execute_result"
    }
   ],
   "source": [
    "df_class_0[(df_check.y_train == 0) & (df_check.y_predicted == 1)]"
   ]
  },
  {
   "cell_type": "code",
   "execution_count": 52,
   "id": "ddf83ee0",
   "metadata": {
    "execution": {
     "iopub.execute_input": "2023-08-11T03:18:34.974675Z",
     "iopub.status.busy": "2023-08-11T03:18:34.974285Z",
     "iopub.status.idle": "2023-08-11T03:18:34.987864Z",
     "shell.execute_reply": "2023-08-11T03:18:34.986707Z"
    },
    "papermill": {
     "duration": 0.036304,
     "end_time": "2023-08-11T03:18:34.990147",
     "exception": false,
     "start_time": "2023-08-11T03:18:34.953843",
     "status": "completed"
    },
    "tags": []
   },
   "outputs": [
    {
     "data": {
      "text/html": [
       "<div>\n",
       "<style scoped>\n",
       "    .dataframe tbody tr th:only-of-type {\n",
       "        vertical-align: middle;\n",
       "    }\n",
       "\n",
       "    .dataframe tbody tr th {\n",
       "        vertical-align: top;\n",
       "    }\n",
       "\n",
       "    .dataframe thead th {\n",
       "        text-align: right;\n",
       "    }\n",
       "</style>\n",
       "<table border=\"1\" class=\"dataframe\">\n",
       "  <thead>\n",
       "    <tr style=\"text-align: right;\">\n",
       "      <th></th>\n",
       "      <th>class_0</th>\n",
       "      <th>y_train</th>\n",
       "      <th>y_predicted</th>\n",
       "    </tr>\n",
       "  </thead>\n",
       "  <tbody>\n",
       "    <tr>\n",
       "      <th>4</th>\n",
       "      <td>0.740893</td>\n",
       "      <td>1</td>\n",
       "      <td>0</td>\n",
       "    </tr>\n",
       "    <tr>\n",
       "      <th>31</th>\n",
       "      <td>0.780967</td>\n",
       "      <td>1</td>\n",
       "      <td>0</td>\n",
       "    </tr>\n",
       "    <tr>\n",
       "      <th>93</th>\n",
       "      <td>0.837211</td>\n",
       "      <td>1</td>\n",
       "      <td>0</td>\n",
       "    </tr>\n",
       "    <tr>\n",
       "      <th>95</th>\n",
       "      <td>0.530918</td>\n",
       "      <td>1</td>\n",
       "      <td>0</td>\n",
       "    </tr>\n",
       "    <tr>\n",
       "      <th>145</th>\n",
       "      <td>0.979848</td>\n",
       "      <td>1</td>\n",
       "      <td>0</td>\n",
       "    </tr>\n",
       "    <tr>\n",
       "      <th>181</th>\n",
       "      <td>0.609951</td>\n",
       "      <td>1</td>\n",
       "      <td>0</td>\n",
       "    </tr>\n",
       "    <tr>\n",
       "      <th>186</th>\n",
       "      <td>0.507181</td>\n",
       "      <td>1</td>\n",
       "      <td>0</td>\n",
       "    </tr>\n",
       "    <tr>\n",
       "      <th>193</th>\n",
       "      <td>0.909711</td>\n",
       "      <td>1</td>\n",
       "      <td>0</td>\n",
       "    </tr>\n",
       "    <tr>\n",
       "      <th>262</th>\n",
       "      <td>0.504858</td>\n",
       "      <td>1</td>\n",
       "      <td>0</td>\n",
       "    </tr>\n",
       "    <tr>\n",
       "      <th>267</th>\n",
       "      <td>0.988041</td>\n",
       "      <td>1</td>\n",
       "      <td>0</td>\n",
       "    </tr>\n",
       "    <tr>\n",
       "      <th>275</th>\n",
       "      <td>0.742500</td>\n",
       "      <td>1</td>\n",
       "      <td>0</td>\n",
       "    </tr>\n",
       "    <tr>\n",
       "      <th>313</th>\n",
       "      <td>0.988626</td>\n",
       "      <td>1</td>\n",
       "      <td>0</td>\n",
       "    </tr>\n",
       "    <tr>\n",
       "      <th>344</th>\n",
       "      <td>0.599860</td>\n",
       "      <td>1</td>\n",
       "      <td>0</td>\n",
       "    </tr>\n",
       "    <tr>\n",
       "      <th>348</th>\n",
       "      <td>0.545699</td>\n",
       "      <td>1</td>\n",
       "      <td>0</td>\n",
       "    </tr>\n",
       "    <tr>\n",
       "      <th>387</th>\n",
       "      <td>0.564909</td>\n",
       "      <td>1</td>\n",
       "      <td>0</td>\n",
       "    </tr>\n",
       "    <tr>\n",
       "      <th>408</th>\n",
       "      <td>0.975609</td>\n",
       "      <td>1</td>\n",
       "      <td>0</td>\n",
       "    </tr>\n",
       "    <tr>\n",
       "      <th>413</th>\n",
       "      <td>0.814748</td>\n",
       "      <td>1</td>\n",
       "      <td>0</td>\n",
       "    </tr>\n",
       "    <tr>\n",
       "      <th>421</th>\n",
       "      <td>0.989678</td>\n",
       "      <td>1</td>\n",
       "      <td>0</td>\n",
       "    </tr>\n",
       "    <tr>\n",
       "      <th>434</th>\n",
       "      <td>0.974540</td>\n",
       "      <td>1</td>\n",
       "      <td>0</td>\n",
       "    </tr>\n",
       "    <tr>\n",
       "      <th>479</th>\n",
       "      <td>0.640525</td>\n",
       "      <td>1</td>\n",
       "      <td>0</td>\n",
       "    </tr>\n",
       "    <tr>\n",
       "      <th>500</th>\n",
       "      <td>0.758491</td>\n",
       "      <td>1</td>\n",
       "      <td>0</td>\n",
       "    </tr>\n",
       "    <tr>\n",
       "      <th>509</th>\n",
       "      <td>0.997076</td>\n",
       "      <td>1</td>\n",
       "      <td>0</td>\n",
       "    </tr>\n",
       "    <tr>\n",
       "      <th>555</th>\n",
       "      <td>0.509650</td>\n",
       "      <td>1</td>\n",
       "      <td>0</td>\n",
       "    </tr>\n",
       "    <tr>\n",
       "      <th>576</th>\n",
       "      <td>0.915039</td>\n",
       "      <td>1</td>\n",
       "      <td>0</td>\n",
       "    </tr>\n",
       "    <tr>\n",
       "      <th>608</th>\n",
       "      <td>0.700040</td>\n",
       "      <td>1</td>\n",
       "      <td>0</td>\n",
       "    </tr>\n",
       "  </tbody>\n",
       "</table>\n",
       "</div>"
      ],
      "text/plain": [
       "      class_0  y_train  y_predicted\n",
       "4    0.740893        1            0\n",
       "31   0.780967        1            0\n",
       "93   0.837211        1            0\n",
       "95   0.530918        1            0\n",
       "145  0.979848        1            0\n",
       "181  0.609951        1            0\n",
       "186  0.507181        1            0\n",
       "193  0.909711        1            0\n",
       "262  0.504858        1            0\n",
       "267  0.988041        1            0\n",
       "275  0.742500        1            0\n",
       "313  0.988626        1            0\n",
       "344  0.599860        1            0\n",
       "348  0.545699        1            0\n",
       "387  0.564909        1            0\n",
       "408  0.975609        1            0\n",
       "413  0.814748        1            0\n",
       "421  0.989678        1            0\n",
       "434  0.974540        1            0\n",
       "479  0.640525        1            0\n",
       "500  0.758491        1            0\n",
       "509  0.997076        1            0\n",
       "555  0.509650        1            0\n",
       "576  0.915039        1            0\n",
       "608  0.700040        1            0"
      ]
     },
     "execution_count": 52,
     "metadata": {},
     "output_type": "execute_result"
    }
   ],
   "source": [
    "df_class_0[(df_check.y_train == 1) & (df_check.y_predicted == 0)]"
   ]
  },
  {
   "cell_type": "code",
   "execution_count": 53,
   "id": "aee3eb61",
   "metadata": {
    "execution": {
     "iopub.execute_input": "2023-08-11T03:18:35.033278Z",
     "iopub.status.busy": "2023-08-11T03:18:35.032227Z",
     "iopub.status.idle": "2023-08-11T03:18:35.043012Z",
     "shell.execute_reply": "2023-08-11T03:18:35.042019Z"
    },
    "papermill": {
     "duration": 0.034941,
     "end_time": "2023-08-11T03:18:35.045264",
     "exception": false,
     "start_time": "2023-08-11T03:18:35.010323",
     "status": "completed"
    },
    "tags": []
   },
   "outputs": [],
   "source": [
    "df_test['B'] = 0\n",
    "\n",
    "test_idxs = df_test['Id']\n",
    "# Select all except one-hot encoded \"EJ\" feature\n",
    "quantitative_features = df_test.select_dtypes(include=['float64'])\n",
    "\n",
    "scaled_features = scaler.transform(quantitative_features)\n",
    "\n",
    "# Create DataFrame drom scaler output and add encoded \"EJ\" to it\n",
    "df_test_scaled = pd.DataFrame(scaled_features, columns=quantitative_features.columns)"
   ]
  },
  {
   "cell_type": "code",
   "execution_count": 54,
   "id": "dc8cb834",
   "metadata": {
    "execution": {
     "iopub.execute_input": "2023-08-11T03:18:35.086637Z",
     "iopub.status.busy": "2023-08-11T03:18:35.085690Z",
     "iopub.status.idle": "2023-08-11T03:18:35.115705Z",
     "shell.execute_reply": "2023-08-11T03:18:35.114613Z"
    },
    "papermill": {
     "duration": 0.053168,
     "end_time": "2023-08-11T03:18:35.118296",
     "exception": false,
     "start_time": "2023-08-11T03:18:35.065128",
     "status": "completed"
    },
    "tags": []
   },
   "outputs": [
    {
     "data": {
      "text/html": [
       "<div>\n",
       "<style scoped>\n",
       "    .dataframe tbody tr th:only-of-type {\n",
       "        vertical-align: middle;\n",
       "    }\n",
       "\n",
       "    .dataframe tbody tr th {\n",
       "        vertical-align: top;\n",
       "    }\n",
       "\n",
       "    .dataframe thead th {\n",
       "        text-align: right;\n",
       "    }\n",
       "</style>\n",
       "<table border=\"1\" class=\"dataframe\">\n",
       "  <thead>\n",
       "    <tr style=\"text-align: right;\">\n",
       "      <th></th>\n",
       "      <th>AB</th>\n",
       "      <th>AF</th>\n",
       "      <th>AM</th>\n",
       "      <th>BC</th>\n",
       "      <th>BN</th>\n",
       "      <th>BP</th>\n",
       "      <th>BQ</th>\n",
       "      <th>CC</th>\n",
       "      <th>CD</th>\n",
       "      <th>CR</th>\n",
       "      <th>...</th>\n",
       "      <th>EE</th>\n",
       "      <th>FE</th>\n",
       "      <th>FI</th>\n",
       "      <th>FL</th>\n",
       "      <th>FR</th>\n",
       "      <th>GE</th>\n",
       "      <th>GF</th>\n",
       "      <th>GL</th>\n",
       "      <th>A</th>\n",
       "      <th>B</th>\n",
       "    </tr>\n",
       "  </thead>\n",
       "  <tbody>\n",
       "    <tr>\n",
       "      <th>0</th>\n",
       "      <td>-0.013352</td>\n",
       "      <td>-0.006759</td>\n",
       "      <td>-0.005065</td>\n",
       "      <td>-0.000841</td>\n",
       "      <td>-0.509091</td>\n",
       "      <td>-0.030717</td>\n",
       "      <td>-0.003877</td>\n",
       "      <td>-0.04505</td>\n",
       "      <td>-0.038331</td>\n",
       "      <td>-0.023305</td>\n",
       "      <td>...</td>\n",
       "      <td>-0.015866</td>\n",
       "      <td>-0.011034</td>\n",
       "      <td>-0.111054</td>\n",
       "      <td>-0.001257</td>\n",
       "      <td>-0.0004</td>\n",
       "      <td>-0.050964</td>\n",
       "      <td>-0.000091</td>\n",
       "      <td>-0.000051</td>\n",
       "      <td>1</td>\n",
       "      <td>0</td>\n",
       "    </tr>\n",
       "    <tr>\n",
       "      <th>1</th>\n",
       "      <td>-0.013352</td>\n",
       "      <td>-0.006759</td>\n",
       "      <td>-0.005065</td>\n",
       "      <td>-0.000841</td>\n",
       "      <td>-0.509091</td>\n",
       "      <td>-0.030717</td>\n",
       "      <td>-0.003877</td>\n",
       "      <td>-0.04505</td>\n",
       "      <td>-0.038331</td>\n",
       "      <td>-0.023305</td>\n",
       "      <td>...</td>\n",
       "      <td>-0.015866</td>\n",
       "      <td>-0.011034</td>\n",
       "      <td>-0.111054</td>\n",
       "      <td>-0.001257</td>\n",
       "      <td>-0.0004</td>\n",
       "      <td>-0.050964</td>\n",
       "      <td>-0.000091</td>\n",
       "      <td>-0.000051</td>\n",
       "      <td>1</td>\n",
       "      <td>0</td>\n",
       "    </tr>\n",
       "    <tr>\n",
       "      <th>2</th>\n",
       "      <td>-0.013352</td>\n",
       "      <td>-0.006759</td>\n",
       "      <td>-0.005065</td>\n",
       "      <td>-0.000841</td>\n",
       "      <td>-0.509091</td>\n",
       "      <td>-0.030717</td>\n",
       "      <td>-0.003877</td>\n",
       "      <td>-0.04505</td>\n",
       "      <td>-0.038331</td>\n",
       "      <td>-0.023305</td>\n",
       "      <td>...</td>\n",
       "      <td>-0.015866</td>\n",
       "      <td>-0.011034</td>\n",
       "      <td>-0.111054</td>\n",
       "      <td>-0.001257</td>\n",
       "      <td>-0.0004</td>\n",
       "      <td>-0.050964</td>\n",
       "      <td>-0.000091</td>\n",
       "      <td>-0.000051</td>\n",
       "      <td>1</td>\n",
       "      <td>0</td>\n",
       "    </tr>\n",
       "    <tr>\n",
       "      <th>3</th>\n",
       "      <td>-0.013352</td>\n",
       "      <td>-0.006759</td>\n",
       "      <td>-0.005065</td>\n",
       "      <td>-0.000841</td>\n",
       "      <td>-0.509091</td>\n",
       "      <td>-0.030717</td>\n",
       "      <td>-0.003877</td>\n",
       "      <td>-0.04505</td>\n",
       "      <td>-0.038331</td>\n",
       "      <td>-0.023305</td>\n",
       "      <td>...</td>\n",
       "      <td>-0.015866</td>\n",
       "      <td>-0.011034</td>\n",
       "      <td>-0.111054</td>\n",
       "      <td>-0.001257</td>\n",
       "      <td>-0.0004</td>\n",
       "      <td>-0.050964</td>\n",
       "      <td>-0.000091</td>\n",
       "      <td>-0.000051</td>\n",
       "      <td>1</td>\n",
       "      <td>0</td>\n",
       "    </tr>\n",
       "    <tr>\n",
       "      <th>4</th>\n",
       "      <td>-0.013352</td>\n",
       "      <td>-0.006759</td>\n",
       "      <td>-0.005065</td>\n",
       "      <td>-0.000841</td>\n",
       "      <td>-0.509091</td>\n",
       "      <td>-0.030717</td>\n",
       "      <td>-0.003877</td>\n",
       "      <td>-0.04505</td>\n",
       "      <td>-0.038331</td>\n",
       "      <td>-0.023305</td>\n",
       "      <td>...</td>\n",
       "      <td>-0.015866</td>\n",
       "      <td>-0.011034</td>\n",
       "      <td>-0.111054</td>\n",
       "      <td>-0.001257</td>\n",
       "      <td>-0.0004</td>\n",
       "      <td>-0.050964</td>\n",
       "      <td>-0.000091</td>\n",
       "      <td>-0.000051</td>\n",
       "      <td>1</td>\n",
       "      <td>0</td>\n",
       "    </tr>\n",
       "  </tbody>\n",
       "</table>\n",
       "<p>5 rows × 30 columns</p>\n",
       "</div>"
      ],
      "text/plain": [
       "         AB        AF        AM        BC        BN        BP        BQ  \\\n",
       "0 -0.013352 -0.006759 -0.005065 -0.000841 -0.509091 -0.030717 -0.003877   \n",
       "1 -0.013352 -0.006759 -0.005065 -0.000841 -0.509091 -0.030717 -0.003877   \n",
       "2 -0.013352 -0.006759 -0.005065 -0.000841 -0.509091 -0.030717 -0.003877   \n",
       "3 -0.013352 -0.006759 -0.005065 -0.000841 -0.509091 -0.030717 -0.003877   \n",
       "4 -0.013352 -0.006759 -0.005065 -0.000841 -0.509091 -0.030717 -0.003877   \n",
       "\n",
       "        CC       CD         CR  ...        EE        FE        FI        FL  \\\n",
       "0 -0.04505 -0.038331 -0.023305  ... -0.015866 -0.011034 -0.111054 -0.001257   \n",
       "1 -0.04505 -0.038331 -0.023305  ... -0.015866 -0.011034 -0.111054 -0.001257   \n",
       "2 -0.04505 -0.038331 -0.023305  ... -0.015866 -0.011034 -0.111054 -0.001257   \n",
       "3 -0.04505 -0.038331 -0.023305  ... -0.015866 -0.011034 -0.111054 -0.001257   \n",
       "4 -0.04505 -0.038331 -0.023305  ... -0.015866 -0.011034 -0.111054 -0.001257   \n",
       "\n",
       "       FR        GE        GF        GL  A  B  \n",
       "0 -0.0004 -0.050964 -0.000091 -0.000051  1  0  \n",
       "1 -0.0004 -0.050964 -0.000091 -0.000051  1  0  \n",
       "2 -0.0004 -0.050964 -0.000091 -0.000051  1  0  \n",
       "3 -0.0004 -0.050964 -0.000091 -0.000051  1  0  \n",
       "4 -0.0004 -0.050964 -0.000091 -0.000051  1  0  \n",
       "\n",
       "[5 rows x 30 columns]"
      ]
     },
     "execution_count": 54,
     "metadata": {},
     "output_type": "execute_result"
    }
   ],
   "source": [
    "df_test_scaled[['A', 'B']] = df_test[['A', 'B']]\n",
    "\n",
    "df_test_scaled.head()"
   ]
  },
  {
   "cell_type": "code",
   "execution_count": 55,
   "id": "67673141",
   "metadata": {
    "execution": {
     "iopub.execute_input": "2023-08-11T03:18:35.162140Z",
     "iopub.status.busy": "2023-08-11T03:18:35.161262Z",
     "iopub.status.idle": "2023-08-11T03:18:35.176703Z",
     "shell.execute_reply": "2023-08-11T03:18:35.175568Z"
    },
    "papermill": {
     "duration": 0.039924,
     "end_time": "2023-08-11T03:18:35.179151",
     "exception": false,
     "start_time": "2023-08-11T03:18:35.139227",
     "status": "completed"
    },
    "tags": []
   },
   "outputs": [
    {
     "data": {
      "text/plain": [
       "array([[0.54671434, 0.45328566],\n",
       "       [0.54671434, 0.45328566],\n",
       "       [0.54671434, 0.45328566],\n",
       "       [0.54671434, 0.45328566],\n",
       "       [0.54671434, 0.45328566]])"
      ]
     },
     "execution_count": 55,
     "metadata": {},
     "output_type": "execute_result"
    }
   ],
   "source": [
    "X_t = df_test_scaled\n",
    "prob_predictions = final_estimator.predict_proba(X_t)\n",
    "prob_predictions"
   ]
  },
  {
   "cell_type": "code",
   "execution_count": 56,
   "id": "0392e94d",
   "metadata": {
    "execution": {
     "iopub.execute_input": "2023-08-11T03:18:35.223380Z",
     "iopub.status.busy": "2023-08-11T03:18:35.222367Z",
     "iopub.status.idle": "2023-08-11T03:18:35.230382Z",
     "shell.execute_reply": "2023-08-11T03:18:35.229122Z"
    },
    "papermill": {
     "duration": 0.032522,
     "end_time": "2023-08-11T03:18:35.232789",
     "exception": false,
     "start_time": "2023-08-11T03:18:35.200267",
     "status": "completed"
    },
    "tags": []
   },
   "outputs": [
    {
     "data": {
      "text/plain": [
       "array([0.54671434, 0.54671434, 0.54671434, 0.54671434, 0.54671434])"
      ]
     },
     "execution_count": 56,
     "metadata": {},
     "output_type": "execute_result"
    }
   ],
   "source": [
    "prob_0 = prob_predictions[:, 0]\n",
    "prob_0"
   ]
  },
  {
   "cell_type": "code",
   "execution_count": 57,
   "id": "0851752a",
   "metadata": {
    "execution": {
     "iopub.execute_input": "2023-08-11T03:18:35.277453Z",
     "iopub.status.busy": "2023-08-11T03:18:35.276260Z",
     "iopub.status.idle": "2023-08-11T03:18:35.283981Z",
     "shell.execute_reply": "2023-08-11T03:18:35.282881Z"
    },
    "papermill": {
     "duration": 0.031825,
     "end_time": "2023-08-11T03:18:35.286162",
     "exception": false,
     "start_time": "2023-08-11T03:18:35.254337",
     "status": "completed"
    },
    "tags": []
   },
   "outputs": [
    {
     "data": {
      "text/plain": [
       "array([0.45328566, 0.45328566, 0.45328566, 0.45328566, 0.45328566])"
      ]
     },
     "execution_count": 57,
     "metadata": {},
     "output_type": "execute_result"
    }
   ],
   "source": [
    "prob_0[prob_0 > 0.74] = 1\n",
    "prob_1 = 1 - prob_0\n",
    "prob_1\n"
   ]
  },
  {
   "cell_type": "code",
   "execution_count": 58,
   "id": "52edf44c",
   "metadata": {
    "execution": {
     "iopub.execute_input": "2023-08-11T03:18:35.330456Z",
     "iopub.status.busy": "2023-08-11T03:18:35.329586Z",
     "iopub.status.idle": "2023-08-11T03:18:35.335799Z",
     "shell.execute_reply": "2023-08-11T03:18:35.334714Z"
    },
    "papermill": {
     "duration": 0.030869,
     "end_time": "2023-08-11T03:18:35.338096",
     "exception": false,
     "start_time": "2023-08-11T03:18:35.307227",
     "status": "completed"
    },
    "tags": []
   },
   "outputs": [],
   "source": [
    "submission = pd.DataFrame({\n",
    "    'Id': df_test['Id'] ,\n",
    "    'class_0' : prob_0,\n",
    "    'class_1' : prob_1\n",
    "})"
   ]
  },
  {
   "cell_type": "code",
   "execution_count": 59,
   "id": "8cd31cfe",
   "metadata": {
    "execution": {
     "iopub.execute_input": "2023-08-11T03:18:35.382649Z",
     "iopub.status.busy": "2023-08-11T03:18:35.381655Z",
     "iopub.status.idle": "2023-08-11T03:18:35.396480Z",
     "shell.execute_reply": "2023-08-11T03:18:35.395411Z"
    },
    "papermill": {
     "duration": 0.039621,
     "end_time": "2023-08-11T03:18:35.398810",
     "exception": false,
     "start_time": "2023-08-11T03:18:35.359189",
     "status": "completed"
    },
    "tags": []
   },
   "outputs": [
    {
     "data": {
      "text/html": [
       "<div>\n",
       "<style scoped>\n",
       "    .dataframe tbody tr th:only-of-type {\n",
       "        vertical-align: middle;\n",
       "    }\n",
       "\n",
       "    .dataframe tbody tr th {\n",
       "        vertical-align: top;\n",
       "    }\n",
       "\n",
       "    .dataframe thead th {\n",
       "        text-align: right;\n",
       "    }\n",
       "</style>\n",
       "<table border=\"1\" class=\"dataframe\">\n",
       "  <thead>\n",
       "    <tr style=\"text-align: right;\">\n",
       "      <th></th>\n",
       "      <th>Id</th>\n",
       "      <th>class_0</th>\n",
       "      <th>class_1</th>\n",
       "    </tr>\n",
       "  </thead>\n",
       "  <tbody>\n",
       "    <tr>\n",
       "      <th>0</th>\n",
       "      <td>00eed32682bb</td>\n",
       "      <td>0.546714</td>\n",
       "      <td>0.453286</td>\n",
       "    </tr>\n",
       "    <tr>\n",
       "      <th>1</th>\n",
       "      <td>010ebe33f668</td>\n",
       "      <td>0.546714</td>\n",
       "      <td>0.453286</td>\n",
       "    </tr>\n",
       "    <tr>\n",
       "      <th>2</th>\n",
       "      <td>02fa521e1838</td>\n",
       "      <td>0.546714</td>\n",
       "      <td>0.453286</td>\n",
       "    </tr>\n",
       "    <tr>\n",
       "      <th>3</th>\n",
       "      <td>040e15f562a2</td>\n",
       "      <td>0.546714</td>\n",
       "      <td>0.453286</td>\n",
       "    </tr>\n",
       "    <tr>\n",
       "      <th>4</th>\n",
       "      <td>046e85c7cc7f</td>\n",
       "      <td>0.546714</td>\n",
       "      <td>0.453286</td>\n",
       "    </tr>\n",
       "  </tbody>\n",
       "</table>\n",
       "</div>"
      ],
      "text/plain": [
       "             Id   class_0   class_1\n",
       "0  00eed32682bb  0.546714  0.453286\n",
       "1  010ebe33f668  0.546714  0.453286\n",
       "2  02fa521e1838  0.546714  0.453286\n",
       "3  040e15f562a2  0.546714  0.453286\n",
       "4  046e85c7cc7f  0.546714  0.453286"
      ]
     },
     "execution_count": 59,
     "metadata": {},
     "output_type": "execute_result"
    }
   ],
   "source": [
    "submission"
   ]
  },
  {
   "cell_type": "code",
   "execution_count": 60,
   "id": "6c02ac36",
   "metadata": {
    "execution": {
     "iopub.execute_input": "2023-08-11T03:18:35.443834Z",
     "iopub.status.busy": "2023-08-11T03:18:35.442898Z",
     "iopub.status.idle": "2023-08-11T03:18:35.450477Z",
     "shell.execute_reply": "2023-08-11T03:18:35.449660Z"
    },
    "papermill": {
     "duration": 0.032291,
     "end_time": "2023-08-11T03:18:35.452564",
     "exception": false,
     "start_time": "2023-08-11T03:18:35.420273",
     "status": "completed"
    },
    "tags": []
   },
   "outputs": [],
   "source": [
    "submission.to_csv('submission.csv',  index = False)"
   ]
  },
  {
   "cell_type": "code",
   "execution_count": null,
   "id": "07013124",
   "metadata": {
    "papermill": {
     "duration": 0.021088,
     "end_time": "2023-08-11T03:18:35.495013",
     "exception": false,
     "start_time": "2023-08-11T03:18:35.473925",
     "status": "completed"
    },
    "tags": []
   },
   "outputs": [],
   "source": []
  }
 ],
 "metadata": {
  "kernelspec": {
   "display_name": "Python 3",
   "language": "python",
   "name": "python3"
  },
  "language_info": {
   "codemirror_mode": {
    "name": "ipython",
    "version": 3
   },
   "file_extension": ".py",
   "mimetype": "text/x-python",
   "name": "python",
   "nbconvert_exporter": "python",
   "pygments_lexer": "ipython3",
   "version": "3.10.12"
  },
  "papermill": {
   "default_parameters": {},
   "duration": 45.476203,
   "end_time": "2023-08-11T03:18:38.138542",
   "environment_variables": {},
   "exception": null,
   "input_path": "__notebook__.ipynb",
   "output_path": "__notebook__.ipynb",
   "parameters": {},
   "start_time": "2023-08-11T03:17:52.662339",
   "version": "2.4.0"
  }
 },
 "nbformat": 4,
 "nbformat_minor": 5
}
