{
 "cells": [
  {
   "cell_type": "markdown",
   "id": "b5404d67",
   "metadata": {
    "papermill": {
     "duration": 0.009924,
     "end_time": "2023-11-05T19:07:49.881090",
     "exception": false,
     "start_time": "2023-11-05T19:07:49.871166",
     "status": "completed"
    },
    "tags": []
   },
   "source": [
    "## Contents\n",
    "\n",
    "1. [Initial Data Exploration](https://www.kaggle.com/code/valentinbelyaev/1-0-intitial-eda-playground-series-s3e24)\n",
    "2. [Building Baseline Models](https://www.kaggle.com/code/valentinbelyaev/2-0-baseline-model-playground-series-s3e24)\n",
    "3. [Model ensembles & handle outliers](https://www.kaggle.com/valentinbelyaev/3-0-model-ensemble-playground-series-s3e24)\n",
    "4. [Tunning XGBoost hyperparameters](https://www.kaggle.com/valentinbelyaev/4-0-model-ensemble-playground-series-s3e24)"
   ]
  },
  {
   "cell_type": "code",
   "execution_count": 1,
   "id": "bfbfff32",
   "metadata": {
    "execution": {
     "iopub.execute_input": "2023-11-05T19:07:49.902303Z",
     "iopub.status.busy": "2023-11-05T19:07:49.901716Z",
     "iopub.status.idle": "2023-11-05T19:07:50.317600Z",
     "shell.execute_reply": "2023-11-05T19:07:50.316158Z"
    },
    "papermill": {
     "duration": 0.429906,
     "end_time": "2023-11-05T19:07:50.320587",
     "exception": false,
     "start_time": "2023-11-05T19:07:49.890681",
     "status": "completed"
    },
    "tags": []
   },
   "outputs": [],
   "source": [
    "import pandas as pd"
   ]
  },
  {
   "cell_type": "code",
   "execution_count": 2,
   "id": "f25c1e1b",
   "metadata": {
    "execution": {
     "iopub.execute_input": "2023-11-05T19:07:50.341994Z",
     "iopub.status.busy": "2023-11-05T19:07:50.341438Z",
     "iopub.status.idle": "2023-11-05T19:07:51.358559Z",
     "shell.execute_reply": "2023-11-05T19:07:51.357097Z"
    },
    "papermill": {
     "duration": 1.031422,
     "end_time": "2023-11-05T19:07:51.361614",
     "exception": false,
     "start_time": "2023-11-05T19:07:50.330192",
     "status": "completed"
    },
    "tags": []
   },
   "outputs": [],
   "source": [
    "df_train = pd.read_csv(\"/kaggle/input/playground-series-s3e24/train.csv\")\n",
    "df_test = pd.read_csv(\"/kaggle/input/playground-series-s3e24/test.csv\")"
   ]
  },
  {
   "cell_type": "code",
   "execution_count": 3,
   "id": "4da5cbf1",
   "metadata": {
    "execution": {
     "iopub.execute_input": "2023-11-05T19:07:51.382671Z",
     "iopub.status.busy": "2023-11-05T19:07:51.382242Z",
     "iopub.status.idle": "2023-11-05T19:07:51.421961Z",
     "shell.execute_reply": "2023-11-05T19:07:51.420766Z"
    },
    "papermill": {
     "duration": 0.053591,
     "end_time": "2023-11-05T19:07:51.424816",
     "exception": false,
     "start_time": "2023-11-05T19:07:51.371225",
     "status": "completed"
    },
    "tags": []
   },
   "outputs": [
    {
     "data": {
      "text/html": [
       "<div>\n",
       "<style scoped>\n",
       "    .dataframe tbody tr th:only-of-type {\n",
       "        vertical-align: middle;\n",
       "    }\n",
       "\n",
       "    .dataframe tbody tr th {\n",
       "        vertical-align: top;\n",
       "    }\n",
       "\n",
       "    .dataframe thead th {\n",
       "        text-align: right;\n",
       "    }\n",
       "</style>\n",
       "<table border=\"1\" class=\"dataframe\">\n",
       "  <thead>\n",
       "    <tr style=\"text-align: right;\">\n",
       "      <th></th>\n",
       "      <th>id</th>\n",
       "      <th>age</th>\n",
       "      <th>height(cm)</th>\n",
       "      <th>weight(kg)</th>\n",
       "      <th>waist(cm)</th>\n",
       "      <th>eyesight(left)</th>\n",
       "      <th>eyesight(right)</th>\n",
       "      <th>hearing(left)</th>\n",
       "      <th>hearing(right)</th>\n",
       "      <th>systolic</th>\n",
       "      <th>...</th>\n",
       "      <th>HDL</th>\n",
       "      <th>LDL</th>\n",
       "      <th>hemoglobin</th>\n",
       "      <th>Urine protein</th>\n",
       "      <th>serum creatinine</th>\n",
       "      <th>AST</th>\n",
       "      <th>ALT</th>\n",
       "      <th>Gtp</th>\n",
       "      <th>dental caries</th>\n",
       "      <th>smoking</th>\n",
       "    </tr>\n",
       "  </thead>\n",
       "  <tbody>\n",
       "    <tr>\n",
       "      <th>0</th>\n",
       "      <td>0</td>\n",
       "      <td>55</td>\n",
       "      <td>165</td>\n",
       "      <td>60</td>\n",
       "      <td>81.0</td>\n",
       "      <td>0.5</td>\n",
       "      <td>0.6</td>\n",
       "      <td>1</td>\n",
       "      <td>1</td>\n",
       "      <td>135</td>\n",
       "      <td>...</td>\n",
       "      <td>40</td>\n",
       "      <td>75</td>\n",
       "      <td>16.5</td>\n",
       "      <td>1</td>\n",
       "      <td>1.0</td>\n",
       "      <td>22</td>\n",
       "      <td>25</td>\n",
       "      <td>27</td>\n",
       "      <td>0</td>\n",
       "      <td>1</td>\n",
       "    </tr>\n",
       "    <tr>\n",
       "      <th>1</th>\n",
       "      <td>1</td>\n",
       "      <td>70</td>\n",
       "      <td>165</td>\n",
       "      <td>65</td>\n",
       "      <td>89.0</td>\n",
       "      <td>0.6</td>\n",
       "      <td>0.7</td>\n",
       "      <td>2</td>\n",
       "      <td>2</td>\n",
       "      <td>146</td>\n",
       "      <td>...</td>\n",
       "      <td>57</td>\n",
       "      <td>126</td>\n",
       "      <td>16.2</td>\n",
       "      <td>1</td>\n",
       "      <td>1.1</td>\n",
       "      <td>27</td>\n",
       "      <td>23</td>\n",
       "      <td>37</td>\n",
       "      <td>1</td>\n",
       "      <td>0</td>\n",
       "    </tr>\n",
       "    <tr>\n",
       "      <th>2</th>\n",
       "      <td>2</td>\n",
       "      <td>20</td>\n",
       "      <td>170</td>\n",
       "      <td>75</td>\n",
       "      <td>81.0</td>\n",
       "      <td>0.4</td>\n",
       "      <td>0.5</td>\n",
       "      <td>1</td>\n",
       "      <td>1</td>\n",
       "      <td>118</td>\n",
       "      <td>...</td>\n",
       "      <td>45</td>\n",
       "      <td>93</td>\n",
       "      <td>17.4</td>\n",
       "      <td>1</td>\n",
       "      <td>0.8</td>\n",
       "      <td>27</td>\n",
       "      <td>31</td>\n",
       "      <td>53</td>\n",
       "      <td>0</td>\n",
       "      <td>1</td>\n",
       "    </tr>\n",
       "    <tr>\n",
       "      <th>3</th>\n",
       "      <td>3</td>\n",
       "      <td>35</td>\n",
       "      <td>180</td>\n",
       "      <td>95</td>\n",
       "      <td>105.0</td>\n",
       "      <td>1.5</td>\n",
       "      <td>1.2</td>\n",
       "      <td>1</td>\n",
       "      <td>1</td>\n",
       "      <td>131</td>\n",
       "      <td>...</td>\n",
       "      <td>38</td>\n",
       "      <td>102</td>\n",
       "      <td>15.9</td>\n",
       "      <td>1</td>\n",
       "      <td>1.0</td>\n",
       "      <td>20</td>\n",
       "      <td>27</td>\n",
       "      <td>30</td>\n",
       "      <td>1</td>\n",
       "      <td>0</td>\n",
       "    </tr>\n",
       "    <tr>\n",
       "      <th>4</th>\n",
       "      <td>4</td>\n",
       "      <td>30</td>\n",
       "      <td>165</td>\n",
       "      <td>60</td>\n",
       "      <td>80.5</td>\n",
       "      <td>1.5</td>\n",
       "      <td>1.0</td>\n",
       "      <td>1</td>\n",
       "      <td>1</td>\n",
       "      <td>121</td>\n",
       "      <td>...</td>\n",
       "      <td>44</td>\n",
       "      <td>93</td>\n",
       "      <td>15.4</td>\n",
       "      <td>1</td>\n",
       "      <td>0.8</td>\n",
       "      <td>19</td>\n",
       "      <td>13</td>\n",
       "      <td>17</td>\n",
       "      <td>0</td>\n",
       "      <td>1</td>\n",
       "    </tr>\n",
       "  </tbody>\n",
       "</table>\n",
       "<p>5 rows × 24 columns</p>\n",
       "</div>"
      ],
      "text/plain": [
       "   id  age  height(cm)  weight(kg)  waist(cm)  eyesight(left)  \\\n",
       "0   0   55         165          60       81.0             0.5   \n",
       "1   1   70         165          65       89.0             0.6   \n",
       "2   2   20         170          75       81.0             0.4   \n",
       "3   3   35         180          95      105.0             1.5   \n",
       "4   4   30         165          60       80.5             1.5   \n",
       "\n",
       "   eyesight(right)  hearing(left)  hearing(right)  systolic  ...  HDL  LDL  \\\n",
       "0              0.6              1               1       135  ...   40   75   \n",
       "1              0.7              2               2       146  ...   57  126   \n",
       "2              0.5              1               1       118  ...   45   93   \n",
       "3              1.2              1               1       131  ...   38  102   \n",
       "4              1.0              1               1       121  ...   44   93   \n",
       "\n",
       "   hemoglobin  Urine protein  serum creatinine  AST  ALT  Gtp  dental caries  \\\n",
       "0        16.5              1               1.0   22   25   27              0   \n",
       "1        16.2              1               1.1   27   23   37              1   \n",
       "2        17.4              1               0.8   27   31   53              0   \n",
       "3        15.9              1               1.0   20   27   30              1   \n",
       "4        15.4              1               0.8   19   13   17              0   \n",
       "\n",
       "   smoking  \n",
       "0        1  \n",
       "1        0  \n",
       "2        1  \n",
       "3        0  \n",
       "4        1  \n",
       "\n",
       "[5 rows x 24 columns]"
      ]
     },
     "execution_count": 3,
     "metadata": {},
     "output_type": "execute_result"
    }
   ],
   "source": [
    "df_train.head()"
   ]
  },
  {
   "cell_type": "code",
   "execution_count": 4,
   "id": "37de5a42",
   "metadata": {
    "execution": {
     "iopub.execute_input": "2023-11-05T19:07:51.446142Z",
     "iopub.status.busy": "2023-11-05T19:07:51.445768Z",
     "iopub.status.idle": "2023-11-05T19:07:51.471160Z",
     "shell.execute_reply": "2023-11-05T19:07:51.470233Z"
    },
    "papermill": {
     "duration": 0.038918,
     "end_time": "2023-11-05T19:07:51.473497",
     "exception": false,
     "start_time": "2023-11-05T19:07:51.434579",
     "status": "completed"
    },
    "tags": []
   },
   "outputs": [
    {
     "data": {
      "text/html": [
       "<div>\n",
       "<style scoped>\n",
       "    .dataframe tbody tr th:only-of-type {\n",
       "        vertical-align: middle;\n",
       "    }\n",
       "\n",
       "    .dataframe tbody tr th {\n",
       "        vertical-align: top;\n",
       "    }\n",
       "\n",
       "    .dataframe thead th {\n",
       "        text-align: right;\n",
       "    }\n",
       "</style>\n",
       "<table border=\"1\" class=\"dataframe\">\n",
       "  <thead>\n",
       "    <tr style=\"text-align: right;\">\n",
       "      <th></th>\n",
       "      <th>id</th>\n",
       "      <th>age</th>\n",
       "      <th>height(cm)</th>\n",
       "      <th>weight(kg)</th>\n",
       "      <th>waist(cm)</th>\n",
       "      <th>eyesight(left)</th>\n",
       "      <th>eyesight(right)</th>\n",
       "      <th>hearing(left)</th>\n",
       "      <th>hearing(right)</th>\n",
       "      <th>systolic</th>\n",
       "      <th>...</th>\n",
       "      <th>triglyceride</th>\n",
       "      <th>HDL</th>\n",
       "      <th>LDL</th>\n",
       "      <th>hemoglobin</th>\n",
       "      <th>Urine protein</th>\n",
       "      <th>serum creatinine</th>\n",
       "      <th>AST</th>\n",
       "      <th>ALT</th>\n",
       "      <th>Gtp</th>\n",
       "      <th>dental caries</th>\n",
       "    </tr>\n",
       "  </thead>\n",
       "  <tbody>\n",
       "    <tr>\n",
       "      <th>0</th>\n",
       "      <td>159256</td>\n",
       "      <td>40</td>\n",
       "      <td>165</td>\n",
       "      <td>70</td>\n",
       "      <td>84.0</td>\n",
       "      <td>1.2</td>\n",
       "      <td>1.2</td>\n",
       "      <td>1</td>\n",
       "      <td>1</td>\n",
       "      <td>130</td>\n",
       "      <td>...</td>\n",
       "      <td>186</td>\n",
       "      <td>49</td>\n",
       "      <td>115</td>\n",
       "      <td>14.2</td>\n",
       "      <td>1</td>\n",
       "      <td>0.9</td>\n",
       "      <td>19</td>\n",
       "      <td>25</td>\n",
       "      <td>32</td>\n",
       "      <td>0</td>\n",
       "    </tr>\n",
       "    <tr>\n",
       "      <th>1</th>\n",
       "      <td>159257</td>\n",
       "      <td>80</td>\n",
       "      <td>160</td>\n",
       "      <td>60</td>\n",
       "      <td>93.0</td>\n",
       "      <td>1.0</td>\n",
       "      <td>1.0</td>\n",
       "      <td>2</td>\n",
       "      <td>2</td>\n",
       "      <td>144</td>\n",
       "      <td>...</td>\n",
       "      <td>158</td>\n",
       "      <td>35</td>\n",
       "      <td>104</td>\n",
       "      <td>13.0</td>\n",
       "      <td>1</td>\n",
       "      <td>1.1</td>\n",
       "      <td>20</td>\n",
       "      <td>12</td>\n",
       "      <td>24</td>\n",
       "      <td>0</td>\n",
       "    </tr>\n",
       "    <tr>\n",
       "      <th>2</th>\n",
       "      <td>159258</td>\n",
       "      <td>60</td>\n",
       "      <td>170</td>\n",
       "      <td>70</td>\n",
       "      <td>86.5</td>\n",
       "      <td>0.6</td>\n",
       "      <td>0.7</td>\n",
       "      <td>1</td>\n",
       "      <td>1</td>\n",
       "      <td>117</td>\n",
       "      <td>...</td>\n",
       "      <td>173</td>\n",
       "      <td>39</td>\n",
       "      <td>88</td>\n",
       "      <td>15.4</td>\n",
       "      <td>1</td>\n",
       "      <td>1.4</td>\n",
       "      <td>38</td>\n",
       "      <td>60</td>\n",
       "      <td>36</td>\n",
       "      <td>0</td>\n",
       "    </tr>\n",
       "    <tr>\n",
       "      <th>3</th>\n",
       "      <td>159259</td>\n",
       "      <td>40</td>\n",
       "      <td>160</td>\n",
       "      <td>50</td>\n",
       "      <td>67.0</td>\n",
       "      <td>0.3</td>\n",
       "      <td>0.4</td>\n",
       "      <td>1</td>\n",
       "      <td>1</td>\n",
       "      <td>116</td>\n",
       "      <td>...</td>\n",
       "      <td>47</td>\n",
       "      <td>75</td>\n",
       "      <td>128</td>\n",
       "      <td>14.5</td>\n",
       "      <td>1</td>\n",
       "      <td>0.6</td>\n",
       "      <td>25</td>\n",
       "      <td>18</td>\n",
       "      <td>10</td>\n",
       "      <td>1</td>\n",
       "    </tr>\n",
       "    <tr>\n",
       "      <th>4</th>\n",
       "      <td>159260</td>\n",
       "      <td>40</td>\n",
       "      <td>170</td>\n",
       "      <td>75</td>\n",
       "      <td>89.4</td>\n",
       "      <td>1.0</td>\n",
       "      <td>0.9</td>\n",
       "      <td>1</td>\n",
       "      <td>1</td>\n",
       "      <td>132</td>\n",
       "      <td>...</td>\n",
       "      <td>100</td>\n",
       "      <td>39</td>\n",
       "      <td>123</td>\n",
       "      <td>16.5</td>\n",
       "      <td>1</td>\n",
       "      <td>1.0</td>\n",
       "      <td>30</td>\n",
       "      <td>39</td>\n",
       "      <td>27</td>\n",
       "      <td>1</td>\n",
       "    </tr>\n",
       "  </tbody>\n",
       "</table>\n",
       "<p>5 rows × 23 columns</p>\n",
       "</div>"
      ],
      "text/plain": [
       "       id  age  height(cm)  weight(kg)  waist(cm)  eyesight(left)  \\\n",
       "0  159256   40         165          70       84.0             1.2   \n",
       "1  159257   80         160          60       93.0             1.0   \n",
       "2  159258   60         170          70       86.5             0.6   \n",
       "3  159259   40         160          50       67.0             0.3   \n",
       "4  159260   40         170          75       89.4             1.0   \n",
       "\n",
       "   eyesight(right)  hearing(left)  hearing(right)  systolic  ...  \\\n",
       "0              1.2              1               1       130  ...   \n",
       "1              1.0              2               2       144  ...   \n",
       "2              0.7              1               1       117  ...   \n",
       "3              0.4              1               1       116  ...   \n",
       "4              0.9              1               1       132  ...   \n",
       "\n",
       "   triglyceride  HDL  LDL  hemoglobin  Urine protein  serum creatinine  AST  \\\n",
       "0           186   49  115        14.2              1               0.9   19   \n",
       "1           158   35  104        13.0              1               1.1   20   \n",
       "2           173   39   88        15.4              1               1.4   38   \n",
       "3            47   75  128        14.5              1               0.6   25   \n",
       "4           100   39  123        16.5              1               1.0   30   \n",
       "\n",
       "   ALT  Gtp  dental caries  \n",
       "0   25   32              0  \n",
       "1   12   24              0  \n",
       "2   60   36              0  \n",
       "3   18   10              1  \n",
       "4   39   27              1  \n",
       "\n",
       "[5 rows x 23 columns]"
      ]
     },
     "execution_count": 4,
     "metadata": {},
     "output_type": "execute_result"
    }
   ],
   "source": [
    "df_test.head()"
   ]
  },
  {
   "cell_type": "markdown",
   "id": "e8b54e0e",
   "metadata": {
    "papermill": {
     "duration": 0.009997,
     "end_time": "2023-11-05T19:07:51.494486",
     "exception": false,
     "start_time": "2023-11-05T19:07:51.484489",
     "status": "completed"
    },
    "tags": []
   },
   "source": [
    "## Train & Test split"
   ]
  },
  {
   "cell_type": "code",
   "execution_count": 5,
   "id": "c0ec3480",
   "metadata": {
    "execution": {
     "iopub.execute_input": "2023-11-05T19:07:51.517310Z",
     "iopub.status.busy": "2023-11-05T19:07:51.516552Z",
     "iopub.status.idle": "2023-11-05T19:07:51.531137Z",
     "shell.execute_reply": "2023-11-05T19:07:51.530190Z"
    },
    "papermill": {
     "duration": 0.029155,
     "end_time": "2023-11-05T19:07:51.533995",
     "exception": false,
     "start_time": "2023-11-05T19:07:51.504840",
     "status": "completed"
    },
    "tags": []
   },
   "outputs": [],
   "source": [
    "X, y = df_train.drop(columns=['id', 'smoking'], axis=1), df_train['smoking']"
   ]
  },
  {
   "cell_type": "code",
   "execution_count": 6,
   "id": "a2f49b3a",
   "metadata": {
    "execution": {
     "iopub.execute_input": "2023-11-05T19:07:51.557139Z",
     "iopub.status.busy": "2023-11-05T19:07:51.556398Z",
     "iopub.status.idle": "2023-11-05T19:07:51.565840Z",
     "shell.execute_reply": "2023-11-05T19:07:51.564935Z"
    },
    "papermill": {
     "duration": 0.023624,
     "end_time": "2023-11-05T19:07:51.568293",
     "exception": false,
     "start_time": "2023-11-05T19:07:51.544669",
     "status": "completed"
    },
    "tags": []
   },
   "outputs": [],
   "source": [
    "X_test = df_test.drop(columns=['id'], axis=1)\n",
    "test_ids = df_test['id']"
   ]
  },
  {
   "cell_type": "code",
   "execution_count": 7,
   "id": "9359478e",
   "metadata": {
    "execution": {
     "iopub.execute_input": "2023-11-05T19:07:51.590777Z",
     "iopub.status.busy": "2023-11-05T19:07:51.590330Z",
     "iopub.status.idle": "2023-11-05T19:07:52.945735Z",
     "shell.execute_reply": "2023-11-05T19:07:52.944819Z"
    },
    "papermill": {
     "duration": 1.369767,
     "end_time": "2023-11-05T19:07:52.948465",
     "exception": false,
     "start_time": "2023-11-05T19:07:51.578698",
     "status": "completed"
    },
    "tags": []
   },
   "outputs": [],
   "source": [
    "from sklearn.model_selection import train_test_split\n",
    "\n",
    "X_train, X_valid, y_train, y_valid = train_test_split(X, y, test_size=0.3, random_state=42)"
   ]
  },
  {
   "cell_type": "code",
   "execution_count": 8,
   "id": "67273a3c",
   "metadata": {
    "execution": {
     "iopub.execute_input": "2023-11-05T19:07:52.971749Z",
     "iopub.status.busy": "2023-11-05T19:07:52.971064Z",
     "iopub.status.idle": "2023-11-05T19:07:52.977036Z",
     "shell.execute_reply": "2023-11-05T19:07:52.975946Z"
    },
    "papermill": {
     "duration": 0.020492,
     "end_time": "2023-11-05T19:07:52.979374",
     "exception": false,
     "start_time": "2023-11-05T19:07:52.958882",
     "status": "completed"
    },
    "tags": []
   },
   "outputs": [
    {
     "name": "stdout",
     "output_type": "stream",
     "text": [
      "Train shape: (111479, 22), (111479,) | Validation shape: (47777, 22), (47777,)\n"
     ]
    }
   ],
   "source": [
    "print(f\"Train shape: {X_train.shape}, {y_train.shape} | Validation shape: {X_valid.shape}, {y_valid.shape}\")"
   ]
  },
  {
   "cell_type": "markdown",
   "id": "7ade156b",
   "metadata": {
    "papermill": {
     "duration": 0.010007,
     "end_time": "2023-11-05T19:07:52.999579",
     "exception": false,
     "start_time": "2023-11-05T19:07:52.989572",
     "status": "completed"
    },
    "tags": []
   },
   "source": [
    "## Random Forest"
   ]
  },
  {
   "cell_type": "code",
   "execution_count": 9,
   "id": "82782787",
   "metadata": {
    "execution": {
     "iopub.execute_input": "2023-11-05T19:07:53.021820Z",
     "iopub.status.busy": "2023-11-05T19:07:53.021402Z",
     "iopub.status.idle": "2023-11-05T19:08:27.868319Z",
     "shell.execute_reply": "2023-11-05T19:08:27.867434Z"
    },
    "papermill": {
     "duration": 34.870416,
     "end_time": "2023-11-05T19:08:27.880177",
     "exception": false,
     "start_time": "2023-11-05T19:07:53.009761",
     "status": "completed"
    },
    "tags": []
   },
   "outputs": [
    {
     "data": {
      "text/html": [
       "<style>#sk-container-id-1 {color: black;background-color: white;}#sk-container-id-1 pre{padding: 0;}#sk-container-id-1 div.sk-toggleable {background-color: white;}#sk-container-id-1 label.sk-toggleable__label {cursor: pointer;display: block;width: 100%;margin-bottom: 0;padding: 0.3em;box-sizing: border-box;text-align: center;}#sk-container-id-1 label.sk-toggleable__label-arrow:before {content: \"▸\";float: left;margin-right: 0.25em;color: #696969;}#sk-container-id-1 label.sk-toggleable__label-arrow:hover:before {color: black;}#sk-container-id-1 div.sk-estimator:hover label.sk-toggleable__label-arrow:before {color: black;}#sk-container-id-1 div.sk-toggleable__content {max-height: 0;max-width: 0;overflow: hidden;text-align: left;background-color: #f0f8ff;}#sk-container-id-1 div.sk-toggleable__content pre {margin: 0.2em;color: black;border-radius: 0.25em;background-color: #f0f8ff;}#sk-container-id-1 input.sk-toggleable__control:checked~div.sk-toggleable__content {max-height: 200px;max-width: 100%;overflow: auto;}#sk-container-id-1 input.sk-toggleable__control:checked~label.sk-toggleable__label-arrow:before {content: \"▾\";}#sk-container-id-1 div.sk-estimator input.sk-toggleable__control:checked~label.sk-toggleable__label {background-color: #d4ebff;}#sk-container-id-1 div.sk-label input.sk-toggleable__control:checked~label.sk-toggleable__label {background-color: #d4ebff;}#sk-container-id-1 input.sk-hidden--visually {border: 0;clip: rect(1px 1px 1px 1px);clip: rect(1px, 1px, 1px, 1px);height: 1px;margin: -1px;overflow: hidden;padding: 0;position: absolute;width: 1px;}#sk-container-id-1 div.sk-estimator {font-family: monospace;background-color: #f0f8ff;border: 1px dotted black;border-radius: 0.25em;box-sizing: border-box;margin-bottom: 0.5em;}#sk-container-id-1 div.sk-estimator:hover {background-color: #d4ebff;}#sk-container-id-1 div.sk-parallel-item::after {content: \"\";width: 100%;border-bottom: 1px solid gray;flex-grow: 1;}#sk-container-id-1 div.sk-label:hover label.sk-toggleable__label {background-color: #d4ebff;}#sk-container-id-1 div.sk-serial::before {content: \"\";position: absolute;border-left: 1px solid gray;box-sizing: border-box;top: 0;bottom: 0;left: 50%;z-index: 0;}#sk-container-id-1 div.sk-serial {display: flex;flex-direction: column;align-items: center;background-color: white;padding-right: 0.2em;padding-left: 0.2em;position: relative;}#sk-container-id-1 div.sk-item {position: relative;z-index: 1;}#sk-container-id-1 div.sk-parallel {display: flex;align-items: stretch;justify-content: center;background-color: white;position: relative;}#sk-container-id-1 div.sk-item::before, #sk-container-id-1 div.sk-parallel-item::before {content: \"\";position: absolute;border-left: 1px solid gray;box-sizing: border-box;top: 0;bottom: 0;left: 50%;z-index: -1;}#sk-container-id-1 div.sk-parallel-item {display: flex;flex-direction: column;z-index: 1;position: relative;background-color: white;}#sk-container-id-1 div.sk-parallel-item:first-child::after {align-self: flex-end;width: 50%;}#sk-container-id-1 div.sk-parallel-item:last-child::after {align-self: flex-start;width: 50%;}#sk-container-id-1 div.sk-parallel-item:only-child::after {width: 0;}#sk-container-id-1 div.sk-dashed-wrapped {border: 1px dashed gray;margin: 0 0.4em 0.5em 0.4em;box-sizing: border-box;padding-bottom: 0.4em;background-color: white;}#sk-container-id-1 div.sk-label label {font-family: monospace;font-weight: bold;display: inline-block;line-height: 1.2em;}#sk-container-id-1 div.sk-label-container {text-align: center;}#sk-container-id-1 div.sk-container {/* jupyter's `normalize.less` sets `[hidden] { display: none; }` but bootstrap.min.css set `[hidden] { display: none !important; }` so we also need the `!important` here to be able to override the default hidden behavior on the sphinx rendered scikit-learn.org. See: https://github.com/scikit-learn/scikit-learn/issues/21755 */display: inline-block !important;position: relative;}#sk-container-id-1 div.sk-text-repr-fallback {display: none;}</style><div id=\"sk-container-id-1\" class=\"sk-top-container\"><div class=\"sk-text-repr-fallback\"><pre>RandomForestClassifier(random_state=42)</pre><b>In a Jupyter environment, please rerun this cell to show the HTML representation or trust the notebook. <br />On GitHub, the HTML representation is unable to render, please try loading this page with nbviewer.org.</b></div><div class=\"sk-container\" hidden><div class=\"sk-item\"><div class=\"sk-estimator sk-toggleable\"><input class=\"sk-toggleable__control sk-hidden--visually\" id=\"sk-estimator-id-1\" type=\"checkbox\" checked><label for=\"sk-estimator-id-1\" class=\"sk-toggleable__label sk-toggleable__label-arrow\">RandomForestClassifier</label><div class=\"sk-toggleable__content\"><pre>RandomForestClassifier(random_state=42)</pre></div></div></div></div></div>"
      ],
      "text/plain": [
       "RandomForestClassifier(random_state=42)"
      ]
     },
     "execution_count": 9,
     "metadata": {},
     "output_type": "execute_result"
    }
   ],
   "source": [
    "from sklearn.ensemble import RandomForestClassifier\n",
    "\n",
    "rf = RandomForestClassifier(random_state=42)\n",
    "rf.fit(X_train, y_train)"
   ]
  },
  {
   "cell_type": "code",
   "execution_count": 10,
   "id": "6a2c4309",
   "metadata": {
    "execution": {
     "iopub.execute_input": "2023-11-05T19:08:27.903924Z",
     "iopub.status.busy": "2023-11-05T19:08:27.902980Z",
     "iopub.status.idle": "2023-11-05T19:08:33.199274Z",
     "shell.execute_reply": "2023-11-05T19:08:33.197767Z"
    },
    "papermill": {
     "duration": 5.311296,
     "end_time": "2023-11-05T19:08:33.202252",
     "exception": false,
     "start_time": "2023-11-05T19:08:27.890956",
     "status": "completed"
    },
    "tags": []
   },
   "outputs": [
    {
     "name": "stdout",
     "output_type": "stream",
     "text": [
      "Random Forest\n",
      "Accuracy score on training set: 99.99730891019834%\n",
      "Accuracy score on validation set: 77.33637524331792%\n"
     ]
    }
   ],
   "source": [
    "from sklearn.metrics import accuracy_score\n",
    "\n",
    "print(\"Random Forest\")\n",
    "\n",
    "y_pred_train = rf.predict(X_train)\n",
    "accuracy_train = accuracy_score(y_train, y_pred_train)\n",
    "print(f\"Accuracy score on training set: {accuracy_train*100}%\")\n",
    "\n",
    "y_pred_valid = rf.predict(X_valid)\n",
    "accuracy_valid = accuracy_score(y_valid, y_pred_valid)\n",
    "print(f\"Accuracy score on validation set: {accuracy_valid*100}%\")"
   ]
  },
  {
   "cell_type": "code",
   "execution_count": 11,
   "id": "b63ab8a4",
   "metadata": {
    "execution": {
     "iopub.execute_input": "2023-11-05T19:08:33.227780Z",
     "iopub.status.busy": "2023-11-05T19:08:33.226538Z",
     "iopub.status.idle": "2023-11-05T19:08:36.949974Z",
     "shell.execute_reply": "2023-11-05T19:08:36.948775Z"
    },
    "papermill": {
     "duration": 3.738939,
     "end_time": "2023-11-05T19:08:36.952941",
     "exception": false,
     "start_time": "2023-11-05T19:08:33.214002",
     "status": "completed"
    },
    "tags": []
   },
   "outputs": [],
   "source": [
    "y_pred_test = rf.predict(X_test)\n",
    "\n",
    "predictions = pd.DataFrame({\n",
    "    \"id\": test_ids,\n",
    "    \"smoking\": y_pred_test\n",
    "})\n",
    "\n",
    "predictions.to_csv(\"baseline_random_forest.csv\", index=False)"
   ]
  },
  {
   "cell_type": "markdown",
   "id": "d1b10689",
   "metadata": {
    "papermill": {
     "duration": 0.010686,
     "end_time": "2023-11-05T19:08:36.974604",
     "exception": false,
     "start_time": "2023-11-05T19:08:36.963918",
     "status": "completed"
    },
    "tags": []
   },
   "source": [
    "## Gradient Boosting (sklearn)"
   ]
  },
  {
   "cell_type": "code",
   "execution_count": 12,
   "id": "730facfb",
   "metadata": {
    "execution": {
     "iopub.execute_input": "2023-11-05T19:08:36.998400Z",
     "iopub.status.busy": "2023-11-05T19:08:36.997760Z",
     "iopub.status.idle": "2023-11-05T19:09:04.498381Z",
     "shell.execute_reply": "2023-11-05T19:09:04.497348Z"
    },
    "papermill": {
     "duration": 27.51559,
     "end_time": "2023-11-05T19:09:04.501014",
     "exception": false,
     "start_time": "2023-11-05T19:08:36.985424",
     "status": "completed"
    },
    "tags": []
   },
   "outputs": [
    {
     "data": {
      "text/html": [
       "<style>#sk-container-id-2 {color: black;background-color: white;}#sk-container-id-2 pre{padding: 0;}#sk-container-id-2 div.sk-toggleable {background-color: white;}#sk-container-id-2 label.sk-toggleable__label {cursor: pointer;display: block;width: 100%;margin-bottom: 0;padding: 0.3em;box-sizing: border-box;text-align: center;}#sk-container-id-2 label.sk-toggleable__label-arrow:before {content: \"▸\";float: left;margin-right: 0.25em;color: #696969;}#sk-container-id-2 label.sk-toggleable__label-arrow:hover:before {color: black;}#sk-container-id-2 div.sk-estimator:hover label.sk-toggleable__label-arrow:before {color: black;}#sk-container-id-2 div.sk-toggleable__content {max-height: 0;max-width: 0;overflow: hidden;text-align: left;background-color: #f0f8ff;}#sk-container-id-2 div.sk-toggleable__content pre {margin: 0.2em;color: black;border-radius: 0.25em;background-color: #f0f8ff;}#sk-container-id-2 input.sk-toggleable__control:checked~div.sk-toggleable__content {max-height: 200px;max-width: 100%;overflow: auto;}#sk-container-id-2 input.sk-toggleable__control:checked~label.sk-toggleable__label-arrow:before {content: \"▾\";}#sk-container-id-2 div.sk-estimator input.sk-toggleable__control:checked~label.sk-toggleable__label {background-color: #d4ebff;}#sk-container-id-2 div.sk-label input.sk-toggleable__control:checked~label.sk-toggleable__label {background-color: #d4ebff;}#sk-container-id-2 input.sk-hidden--visually {border: 0;clip: rect(1px 1px 1px 1px);clip: rect(1px, 1px, 1px, 1px);height: 1px;margin: -1px;overflow: hidden;padding: 0;position: absolute;width: 1px;}#sk-container-id-2 div.sk-estimator {font-family: monospace;background-color: #f0f8ff;border: 1px dotted black;border-radius: 0.25em;box-sizing: border-box;margin-bottom: 0.5em;}#sk-container-id-2 div.sk-estimator:hover {background-color: #d4ebff;}#sk-container-id-2 div.sk-parallel-item::after {content: \"\";width: 100%;border-bottom: 1px solid gray;flex-grow: 1;}#sk-container-id-2 div.sk-label:hover label.sk-toggleable__label {background-color: #d4ebff;}#sk-container-id-2 div.sk-serial::before {content: \"\";position: absolute;border-left: 1px solid gray;box-sizing: border-box;top: 0;bottom: 0;left: 50%;z-index: 0;}#sk-container-id-2 div.sk-serial {display: flex;flex-direction: column;align-items: center;background-color: white;padding-right: 0.2em;padding-left: 0.2em;position: relative;}#sk-container-id-2 div.sk-item {position: relative;z-index: 1;}#sk-container-id-2 div.sk-parallel {display: flex;align-items: stretch;justify-content: center;background-color: white;position: relative;}#sk-container-id-2 div.sk-item::before, #sk-container-id-2 div.sk-parallel-item::before {content: \"\";position: absolute;border-left: 1px solid gray;box-sizing: border-box;top: 0;bottom: 0;left: 50%;z-index: -1;}#sk-container-id-2 div.sk-parallel-item {display: flex;flex-direction: column;z-index: 1;position: relative;background-color: white;}#sk-container-id-2 div.sk-parallel-item:first-child::after {align-self: flex-end;width: 50%;}#sk-container-id-2 div.sk-parallel-item:last-child::after {align-self: flex-start;width: 50%;}#sk-container-id-2 div.sk-parallel-item:only-child::after {width: 0;}#sk-container-id-2 div.sk-dashed-wrapped {border: 1px dashed gray;margin: 0 0.4em 0.5em 0.4em;box-sizing: border-box;padding-bottom: 0.4em;background-color: white;}#sk-container-id-2 div.sk-label label {font-family: monospace;font-weight: bold;display: inline-block;line-height: 1.2em;}#sk-container-id-2 div.sk-label-container {text-align: center;}#sk-container-id-2 div.sk-container {/* jupyter's `normalize.less` sets `[hidden] { display: none; }` but bootstrap.min.css set `[hidden] { display: none !important; }` so we also need the `!important` here to be able to override the default hidden behavior on the sphinx rendered scikit-learn.org. See: https://github.com/scikit-learn/scikit-learn/issues/21755 */display: inline-block !important;position: relative;}#sk-container-id-2 div.sk-text-repr-fallback {display: none;}</style><div id=\"sk-container-id-2\" class=\"sk-top-container\"><div class=\"sk-text-repr-fallback\"><pre>GradientBoostingClassifier()</pre><b>In a Jupyter environment, please rerun this cell to show the HTML representation or trust the notebook. <br />On GitHub, the HTML representation is unable to render, please try loading this page with nbviewer.org.</b></div><div class=\"sk-container\" hidden><div class=\"sk-item\"><div class=\"sk-estimator sk-toggleable\"><input class=\"sk-toggleable__control sk-hidden--visually\" id=\"sk-estimator-id-2\" type=\"checkbox\" checked><label for=\"sk-estimator-id-2\" class=\"sk-toggleable__label sk-toggleable__label-arrow\">GradientBoostingClassifier</label><div class=\"sk-toggleable__content\"><pre>GradientBoostingClassifier()</pre></div></div></div></div></div>"
      ],
      "text/plain": [
       "GradientBoostingClassifier()"
      ]
     },
     "execution_count": 12,
     "metadata": {},
     "output_type": "execute_result"
    }
   ],
   "source": [
    "from sklearn.ensemble import GradientBoostingClassifier\n",
    "\n",
    "gb = GradientBoostingClassifier()\n",
    "gb.fit(X_train, y_train)"
   ]
  },
  {
   "cell_type": "code",
   "execution_count": 13,
   "id": "605d5e2d",
   "metadata": {
    "execution": {
     "iopub.execute_input": "2023-11-05T19:09:04.525629Z",
     "iopub.status.busy": "2023-11-05T19:09:04.524965Z",
     "iopub.status.idle": "2023-11-05T19:09:04.896236Z",
     "shell.execute_reply": "2023-11-05T19:09:04.894837Z"
    },
    "papermill": {
     "duration": 0.386609,
     "end_time": "2023-11-05T19:09:04.898933",
     "exception": false,
     "start_time": "2023-11-05T19:09:04.512324",
     "status": "completed"
    },
    "tags": []
   },
   "outputs": [
    {
     "name": "stdout",
     "output_type": "stream",
     "text": [
      "Gradient Boosting (sklearn)\n",
      "Accuracy score on training set: 77.79402398658043%\n",
      "Accuracy score on validation set: 77.24428072084895%\n"
     ]
    }
   ],
   "source": [
    "print(\"Gradient Boosting (sklearn)\")\n",
    "\n",
    "y_pred_train = gb.predict(X_train)\n",
    "accuracy_train = accuracy_score(y_train, y_pred_train)\n",
    "print(f\"Accuracy score on training set: {accuracy_train*100}%\")\n",
    "\n",
    "y_pred_valid = gb.predict(X_valid)\n",
    "accuracy_valid = accuracy_score(y_valid, y_pred_valid)\n",
    "print(f\"Accuracy score on validation set: {accuracy_valid*100}%\")"
   ]
  },
  {
   "cell_type": "code",
   "execution_count": 14,
   "id": "0e937877",
   "metadata": {
    "execution": {
     "iopub.execute_input": "2023-11-05T19:09:04.923147Z",
     "iopub.status.busy": "2023-11-05T19:09:04.922770Z",
     "iopub.status.idle": "2023-11-05T19:09:05.409262Z",
     "shell.execute_reply": "2023-11-05T19:09:05.408098Z"
    },
    "papermill": {
     "duration": 0.502085,
     "end_time": "2023-11-05T19:09:05.412142",
     "exception": false,
     "start_time": "2023-11-05T19:09:04.910057",
     "status": "completed"
    },
    "tags": []
   },
   "outputs": [],
   "source": [
    "y_pred_test = gb.predict(X_test)\n",
    "\n",
    "predictions = pd.DataFrame({\n",
    "    \"id\": test_ids,\n",
    "    \"smoking\": y_pred_test\n",
    "})\n",
    "\n",
    "predictions.to_csv(\"baseline_gradient_boosting.csv\", index=False)"
   ]
  },
  {
   "cell_type": "markdown",
   "id": "633d58e9",
   "metadata": {
    "papermill": {
     "duration": 0.010921,
     "end_time": "2023-11-05T19:09:05.434365",
     "exception": false,
     "start_time": "2023-11-05T19:09:05.423444",
     "status": "completed"
    },
    "tags": []
   },
   "source": [
    "## XGBoost"
   ]
  },
  {
   "cell_type": "code",
   "execution_count": 15,
   "id": "45ae570d",
   "metadata": {
    "execution": {
     "iopub.execute_input": "2023-11-05T19:09:05.460330Z",
     "iopub.status.busy": "2023-11-05T19:09:05.459597Z",
     "iopub.status.idle": "2023-11-05T19:09:14.147346Z",
     "shell.execute_reply": "2023-11-05T19:09:14.146161Z"
    },
    "papermill": {
     "duration": 8.70366,
     "end_time": "2023-11-05T19:09:14.150055",
     "exception": false,
     "start_time": "2023-11-05T19:09:05.446395",
     "status": "completed"
    },
    "tags": []
   },
   "outputs": [
    {
     "data": {
      "text/html": [
       "<style>#sk-container-id-3 {color: black;background-color: white;}#sk-container-id-3 pre{padding: 0;}#sk-container-id-3 div.sk-toggleable {background-color: white;}#sk-container-id-3 label.sk-toggleable__label {cursor: pointer;display: block;width: 100%;margin-bottom: 0;padding: 0.3em;box-sizing: border-box;text-align: center;}#sk-container-id-3 label.sk-toggleable__label-arrow:before {content: \"▸\";float: left;margin-right: 0.25em;color: #696969;}#sk-container-id-3 label.sk-toggleable__label-arrow:hover:before {color: black;}#sk-container-id-3 div.sk-estimator:hover label.sk-toggleable__label-arrow:before {color: black;}#sk-container-id-3 div.sk-toggleable__content {max-height: 0;max-width: 0;overflow: hidden;text-align: left;background-color: #f0f8ff;}#sk-container-id-3 div.sk-toggleable__content pre {margin: 0.2em;color: black;border-radius: 0.25em;background-color: #f0f8ff;}#sk-container-id-3 input.sk-toggleable__control:checked~div.sk-toggleable__content {max-height: 200px;max-width: 100%;overflow: auto;}#sk-container-id-3 input.sk-toggleable__control:checked~label.sk-toggleable__label-arrow:before {content: \"▾\";}#sk-container-id-3 div.sk-estimator input.sk-toggleable__control:checked~label.sk-toggleable__label {background-color: #d4ebff;}#sk-container-id-3 div.sk-label input.sk-toggleable__control:checked~label.sk-toggleable__label {background-color: #d4ebff;}#sk-container-id-3 input.sk-hidden--visually {border: 0;clip: rect(1px 1px 1px 1px);clip: rect(1px, 1px, 1px, 1px);height: 1px;margin: -1px;overflow: hidden;padding: 0;position: absolute;width: 1px;}#sk-container-id-3 div.sk-estimator {font-family: monospace;background-color: #f0f8ff;border: 1px dotted black;border-radius: 0.25em;box-sizing: border-box;margin-bottom: 0.5em;}#sk-container-id-3 div.sk-estimator:hover {background-color: #d4ebff;}#sk-container-id-3 div.sk-parallel-item::after {content: \"\";width: 100%;border-bottom: 1px solid gray;flex-grow: 1;}#sk-container-id-3 div.sk-label:hover label.sk-toggleable__label {background-color: #d4ebff;}#sk-container-id-3 div.sk-serial::before {content: \"\";position: absolute;border-left: 1px solid gray;box-sizing: border-box;top: 0;bottom: 0;left: 50%;z-index: 0;}#sk-container-id-3 div.sk-serial {display: flex;flex-direction: column;align-items: center;background-color: white;padding-right: 0.2em;padding-left: 0.2em;position: relative;}#sk-container-id-3 div.sk-item {position: relative;z-index: 1;}#sk-container-id-3 div.sk-parallel {display: flex;align-items: stretch;justify-content: center;background-color: white;position: relative;}#sk-container-id-3 div.sk-item::before, #sk-container-id-3 div.sk-parallel-item::before {content: \"\";position: absolute;border-left: 1px solid gray;box-sizing: border-box;top: 0;bottom: 0;left: 50%;z-index: -1;}#sk-container-id-3 div.sk-parallel-item {display: flex;flex-direction: column;z-index: 1;position: relative;background-color: white;}#sk-container-id-3 div.sk-parallel-item:first-child::after {align-self: flex-end;width: 50%;}#sk-container-id-3 div.sk-parallel-item:last-child::after {align-self: flex-start;width: 50%;}#sk-container-id-3 div.sk-parallel-item:only-child::after {width: 0;}#sk-container-id-3 div.sk-dashed-wrapped {border: 1px dashed gray;margin: 0 0.4em 0.5em 0.4em;box-sizing: border-box;padding-bottom: 0.4em;background-color: white;}#sk-container-id-3 div.sk-label label {font-family: monospace;font-weight: bold;display: inline-block;line-height: 1.2em;}#sk-container-id-3 div.sk-label-container {text-align: center;}#sk-container-id-3 div.sk-container {/* jupyter's `normalize.less` sets `[hidden] { display: none; }` but bootstrap.min.css set `[hidden] { display: none !important; }` so we also need the `!important` here to be able to override the default hidden behavior on the sphinx rendered scikit-learn.org. See: https://github.com/scikit-learn/scikit-learn/issues/21755 */display: inline-block !important;position: relative;}#sk-container-id-3 div.sk-text-repr-fallback {display: none;}</style><div id=\"sk-container-id-3\" class=\"sk-top-container\"><div class=\"sk-text-repr-fallback\"><pre>XGBClassifier(base_score=None, booster=None, callbacks=None,\n",
       "              colsample_bylevel=None, colsample_bynode=None,\n",
       "              colsample_bytree=None, early_stopping_rounds=None,\n",
       "              enable_categorical=False, eval_metric=None, feature_types=None,\n",
       "              gamma=None, gpu_id=None, grow_policy=None, importance_type=None,\n",
       "              interaction_constraints=None, learning_rate=None, max_bin=None,\n",
       "              max_cat_threshold=None, max_cat_to_onehot=None,\n",
       "              max_delta_step=None, max_depth=None, max_leaves=None,\n",
       "              min_child_weight=None, missing=nan, monotone_constraints=None,\n",
       "              n_estimators=100, n_jobs=None, num_parallel_tree=None,\n",
       "              predictor=None, random_state=None, ...)</pre><b>In a Jupyter environment, please rerun this cell to show the HTML representation or trust the notebook. <br />On GitHub, the HTML representation is unable to render, please try loading this page with nbviewer.org.</b></div><div class=\"sk-container\" hidden><div class=\"sk-item\"><div class=\"sk-estimator sk-toggleable\"><input class=\"sk-toggleable__control sk-hidden--visually\" id=\"sk-estimator-id-3\" type=\"checkbox\" checked><label for=\"sk-estimator-id-3\" class=\"sk-toggleable__label sk-toggleable__label-arrow\">XGBClassifier</label><div class=\"sk-toggleable__content\"><pre>XGBClassifier(base_score=None, booster=None, callbacks=None,\n",
       "              colsample_bylevel=None, colsample_bynode=None,\n",
       "              colsample_bytree=None, early_stopping_rounds=None,\n",
       "              enable_categorical=False, eval_metric=None, feature_types=None,\n",
       "              gamma=None, gpu_id=None, grow_policy=None, importance_type=None,\n",
       "              interaction_constraints=None, learning_rate=None, max_bin=None,\n",
       "              max_cat_threshold=None, max_cat_to_onehot=None,\n",
       "              max_delta_step=None, max_depth=None, max_leaves=None,\n",
       "              min_child_weight=None, missing=nan, monotone_constraints=None,\n",
       "              n_estimators=100, n_jobs=None, num_parallel_tree=None,\n",
       "              predictor=None, random_state=None, ...)</pre></div></div></div></div></div>"
      ],
      "text/plain": [
       "XGBClassifier(base_score=None, booster=None, callbacks=None,\n",
       "              colsample_bylevel=None, colsample_bynode=None,\n",
       "              colsample_bytree=None, early_stopping_rounds=None,\n",
       "              enable_categorical=False, eval_metric=None, feature_types=None,\n",
       "              gamma=None, gpu_id=None, grow_policy=None, importance_type=None,\n",
       "              interaction_constraints=None, learning_rate=None, max_bin=None,\n",
       "              max_cat_threshold=None, max_cat_to_onehot=None,\n",
       "              max_delta_step=None, max_depth=None, max_leaves=None,\n",
       "              min_child_weight=None, missing=nan, monotone_constraints=None,\n",
       "              n_estimators=100, n_jobs=None, num_parallel_tree=None,\n",
       "              predictor=None, random_state=None, ...)"
      ]
     },
     "execution_count": 15,
     "metadata": {},
     "output_type": "execute_result"
    }
   ],
   "source": [
    "from xgboost import XGBClassifier\n",
    "\n",
    "xgb = XGBClassifier()\n",
    "xgb.fit(X_train, y_train)"
   ]
  },
  {
   "cell_type": "code",
   "execution_count": 16,
   "id": "71d4acfa",
   "metadata": {
    "execution": {
     "iopub.execute_input": "2023-11-05T19:09:14.175585Z",
     "iopub.status.busy": "2023-11-05T19:09:14.175165Z",
     "iopub.status.idle": "2023-11-05T19:09:14.384098Z",
     "shell.execute_reply": "2023-11-05T19:09:14.383181Z"
    },
    "papermill": {
     "duration": 0.224641,
     "end_time": "2023-11-05T19:09:14.386831",
     "exception": false,
     "start_time": "2023-11-05T19:09:14.162190",
     "status": "completed"
    },
    "tags": []
   },
   "outputs": [
    {
     "name": "stdout",
     "output_type": "stream",
     "text": [
      "XGBoost\n",
      "Accuracy score on training set: 82.2065142313799%\n",
      "Accuracy score on validation set: 77.93289658203739%\n"
     ]
    }
   ],
   "source": [
    "print(\"XGBoost\")\n",
    "\n",
    "y_pred_train = xgb.predict(X_train)\n",
    "accuracy_train = accuracy_score(y_train, y_pred_train)\n",
    "print(f\"Accuracy score on training set: {accuracy_train*100}%\")\n",
    "\n",
    "y_pred_valid = xgb.predict(X_valid)\n",
    "accuracy_valid = accuracy_score(y_valid, y_pred_valid)\n",
    "print(f\"Accuracy score on validation set: {accuracy_valid*100}%\")"
   ]
  },
  {
   "cell_type": "code",
   "execution_count": 17,
   "id": "c8daed60",
   "metadata": {
    "execution": {
     "iopub.execute_input": "2023-11-05T19:09:14.412193Z",
     "iopub.status.busy": "2023-11-05T19:09:14.411751Z",
     "iopub.status.idle": "2023-11-05T19:09:14.781365Z",
     "shell.execute_reply": "2023-11-05T19:09:14.780086Z"
    },
    "papermill": {
     "duration": 0.385475,
     "end_time": "2023-11-05T19:09:14.784316",
     "exception": false,
     "start_time": "2023-11-05T19:09:14.398841",
     "status": "completed"
    },
    "tags": []
   },
   "outputs": [],
   "source": [
    "y_pred_test = xgb.predict(X_test)\n",
    "\n",
    "predictions = pd.DataFrame({\n",
    "    \"id\": test_ids,\n",
    "    \"smoking\": y_pred_test\n",
    "})\n",
    "\n",
    "predictions.to_csv(\"baseline_xgboost.csv\", index=False)"
   ]
  },
  {
   "cell_type": "markdown",
   "id": "7b111277",
   "metadata": {
    "papermill": {
     "duration": 0.011654,
     "end_time": "2023-11-05T19:09:14.807693",
     "exception": false,
     "start_time": "2023-11-05T19:09:14.796039",
     "status": "completed"
    },
    "tags": []
   },
   "source": [
    "## CatBoost"
   ]
  },
  {
   "cell_type": "code",
   "execution_count": 18,
   "id": "a6da7249",
   "metadata": {
    "execution": {
     "iopub.execute_input": "2023-11-05T19:09:14.833401Z",
     "iopub.status.busy": "2023-11-05T19:09:14.832751Z",
     "iopub.status.idle": "2023-11-05T19:09:36.515262Z",
     "shell.execute_reply": "2023-11-05T19:09:36.514250Z"
    },
    "papermill": {
     "duration": 21.698232,
     "end_time": "2023-11-05T19:09:36.517716",
     "exception": false,
     "start_time": "2023-11-05T19:09:14.819484",
     "status": "completed"
    },
    "tags": []
   },
   "outputs": [
    {
     "data": {
      "text/plain": [
       "<catboost.core.CatBoostClassifier at 0x7ab66060faf0>"
      ]
     },
     "execution_count": 18,
     "metadata": {},
     "output_type": "execute_result"
    }
   ],
   "source": [
    "from catboost import CatBoostClassifier\n",
    "\n",
    "cb = CatBoostClassifier(verbose=False)\n",
    "cb.fit(X_train, y_train)"
   ]
  },
  {
   "cell_type": "code",
   "execution_count": 19,
   "id": "e9f5eefc",
   "metadata": {
    "execution": {
     "iopub.execute_input": "2023-11-05T19:09:36.543886Z",
     "iopub.status.busy": "2023-11-05T19:09:36.542670Z",
     "iopub.status.idle": "2023-11-05T19:09:36.734598Z",
     "shell.execute_reply": "2023-11-05T19:09:36.733368Z"
    },
    "papermill": {
     "duration": 0.20777,
     "end_time": "2023-11-05T19:09:36.737305",
     "exception": false,
     "start_time": "2023-11-05T19:09:36.529535",
     "status": "completed"
    },
    "tags": []
   },
   "outputs": [
    {
     "name": "stdout",
     "output_type": "stream",
     "text": [
      "CatBoost\n",
      "Accuracy score on training set: 81.64497349276544%\n",
      "Accuracy score on validation set: 78.37871779308036%\n"
     ]
    }
   ],
   "source": [
    "print(\"CatBoost\")\n",
    "\n",
    "y_pred_train = cb.predict(X_train)\n",
    "accuracy_train = accuracy_score(y_train, y_pred_train)\n",
    "print(f\"Accuracy score on training set: {accuracy_train*100}%\")\n",
    "\n",
    "y_pred_valid = cb.predict(X_valid)\n",
    "accuracy_valid = accuracy_score(y_valid, y_pred_valid)\n",
    "print(f\"Accuracy score on validation set: {accuracy_valid*100}%\")"
   ]
  },
  {
   "cell_type": "code",
   "execution_count": 20,
   "id": "290214b6",
   "metadata": {
    "execution": {
     "iopub.execute_input": "2023-11-05T19:09:36.763994Z",
     "iopub.status.busy": "2023-11-05T19:09:36.763272Z",
     "iopub.status.idle": "2023-11-05T19:09:37.118256Z",
     "shell.execute_reply": "2023-11-05T19:09:37.117117Z"
    },
    "papermill": {
     "duration": 0.371167,
     "end_time": "2023-11-05T19:09:37.121112",
     "exception": false,
     "start_time": "2023-11-05T19:09:36.749945",
     "status": "completed"
    },
    "tags": []
   },
   "outputs": [],
   "source": [
    "y_pred_test = cb.predict(X_test)\n",
    "\n",
    "predictions = pd.DataFrame({\n",
    "    \"id\": test_ids,\n",
    "    \"smoking\": y_pred_test\n",
    "})\n",
    "\n",
    "predictions.to_csv(\"baseline_catboost.csv\", index=False)"
   ]
  },
  {
   "cell_type": "markdown",
   "id": "262baec2",
   "metadata": {
    "papermill": {
     "duration": 0.01167,
     "end_time": "2023-11-05T19:09:37.144718",
     "exception": false,
     "start_time": "2023-11-05T19:09:37.133048",
     "status": "completed"
    },
    "tags": []
   },
   "source": [
    "## LightGBM"
   ]
  },
  {
   "cell_type": "code",
   "execution_count": 21,
   "id": "f6c79968",
   "metadata": {
    "execution": {
     "iopub.execute_input": "2023-11-05T19:09:37.170366Z",
     "iopub.status.busy": "2023-11-05T19:09:37.169978Z",
     "iopub.status.idle": "2023-11-05T19:09:40.785094Z",
     "shell.execute_reply": "2023-11-05T19:09:40.783958Z"
    },
    "papermill": {
     "duration": 3.630698,
     "end_time": "2023-11-05T19:09:40.787498",
     "exception": false,
     "start_time": "2023-11-05T19:09:37.156800",
     "status": "completed"
    },
    "tags": []
   },
   "outputs": [
    {
     "data": {
      "text/html": [
       "<style>#sk-container-id-4 {color: black;background-color: white;}#sk-container-id-4 pre{padding: 0;}#sk-container-id-4 div.sk-toggleable {background-color: white;}#sk-container-id-4 label.sk-toggleable__label {cursor: pointer;display: block;width: 100%;margin-bottom: 0;padding: 0.3em;box-sizing: border-box;text-align: center;}#sk-container-id-4 label.sk-toggleable__label-arrow:before {content: \"▸\";float: left;margin-right: 0.25em;color: #696969;}#sk-container-id-4 label.sk-toggleable__label-arrow:hover:before {color: black;}#sk-container-id-4 div.sk-estimator:hover label.sk-toggleable__label-arrow:before {color: black;}#sk-container-id-4 div.sk-toggleable__content {max-height: 0;max-width: 0;overflow: hidden;text-align: left;background-color: #f0f8ff;}#sk-container-id-4 div.sk-toggleable__content pre {margin: 0.2em;color: black;border-radius: 0.25em;background-color: #f0f8ff;}#sk-container-id-4 input.sk-toggleable__control:checked~div.sk-toggleable__content {max-height: 200px;max-width: 100%;overflow: auto;}#sk-container-id-4 input.sk-toggleable__control:checked~label.sk-toggleable__label-arrow:before {content: \"▾\";}#sk-container-id-4 div.sk-estimator input.sk-toggleable__control:checked~label.sk-toggleable__label {background-color: #d4ebff;}#sk-container-id-4 div.sk-label input.sk-toggleable__control:checked~label.sk-toggleable__label {background-color: #d4ebff;}#sk-container-id-4 input.sk-hidden--visually {border: 0;clip: rect(1px 1px 1px 1px);clip: rect(1px, 1px, 1px, 1px);height: 1px;margin: -1px;overflow: hidden;padding: 0;position: absolute;width: 1px;}#sk-container-id-4 div.sk-estimator {font-family: monospace;background-color: #f0f8ff;border: 1px dotted black;border-radius: 0.25em;box-sizing: border-box;margin-bottom: 0.5em;}#sk-container-id-4 div.sk-estimator:hover {background-color: #d4ebff;}#sk-container-id-4 div.sk-parallel-item::after {content: \"\";width: 100%;border-bottom: 1px solid gray;flex-grow: 1;}#sk-container-id-4 div.sk-label:hover label.sk-toggleable__label {background-color: #d4ebff;}#sk-container-id-4 div.sk-serial::before {content: \"\";position: absolute;border-left: 1px solid gray;box-sizing: border-box;top: 0;bottom: 0;left: 50%;z-index: 0;}#sk-container-id-4 div.sk-serial {display: flex;flex-direction: column;align-items: center;background-color: white;padding-right: 0.2em;padding-left: 0.2em;position: relative;}#sk-container-id-4 div.sk-item {position: relative;z-index: 1;}#sk-container-id-4 div.sk-parallel {display: flex;align-items: stretch;justify-content: center;background-color: white;position: relative;}#sk-container-id-4 div.sk-item::before, #sk-container-id-4 div.sk-parallel-item::before {content: \"\";position: absolute;border-left: 1px solid gray;box-sizing: border-box;top: 0;bottom: 0;left: 50%;z-index: -1;}#sk-container-id-4 div.sk-parallel-item {display: flex;flex-direction: column;z-index: 1;position: relative;background-color: white;}#sk-container-id-4 div.sk-parallel-item:first-child::after {align-self: flex-end;width: 50%;}#sk-container-id-4 div.sk-parallel-item:last-child::after {align-self: flex-start;width: 50%;}#sk-container-id-4 div.sk-parallel-item:only-child::after {width: 0;}#sk-container-id-4 div.sk-dashed-wrapped {border: 1px dashed gray;margin: 0 0.4em 0.5em 0.4em;box-sizing: border-box;padding-bottom: 0.4em;background-color: white;}#sk-container-id-4 div.sk-label label {font-family: monospace;font-weight: bold;display: inline-block;line-height: 1.2em;}#sk-container-id-4 div.sk-label-container {text-align: center;}#sk-container-id-4 div.sk-container {/* jupyter's `normalize.less` sets `[hidden] { display: none; }` but bootstrap.min.css set `[hidden] { display: none !important; }` so we also need the `!important` here to be able to override the default hidden behavior on the sphinx rendered scikit-learn.org. See: https://github.com/scikit-learn/scikit-learn/issues/21755 */display: inline-block !important;position: relative;}#sk-container-id-4 div.sk-text-repr-fallback {display: none;}</style><div id=\"sk-container-id-4\" class=\"sk-top-container\"><div class=\"sk-text-repr-fallback\"><pre>LGBMClassifier()</pre><b>In a Jupyter environment, please rerun this cell to show the HTML representation or trust the notebook. <br />On GitHub, the HTML representation is unable to render, please try loading this page with nbviewer.org.</b></div><div class=\"sk-container\" hidden><div class=\"sk-item\"><div class=\"sk-estimator sk-toggleable\"><input class=\"sk-toggleable__control sk-hidden--visually\" id=\"sk-estimator-id-4\" type=\"checkbox\" checked><label for=\"sk-estimator-id-4\" class=\"sk-toggleable__label sk-toggleable__label-arrow\">LGBMClassifier</label><div class=\"sk-toggleable__content\"><pre>LGBMClassifier()</pre></div></div></div></div></div>"
      ],
      "text/plain": [
       "LGBMClassifier()"
      ]
     },
     "execution_count": 21,
     "metadata": {},
     "output_type": "execute_result"
    }
   ],
   "source": [
    "from lightgbm import LGBMClassifier\n",
    "\n",
    "lgbm = LGBMClassifier()\n",
    "lgbm.fit(X_train, y_train)"
   ]
  },
  {
   "cell_type": "code",
   "execution_count": 22,
   "id": "9b2a48f1",
   "metadata": {
    "execution": {
     "iopub.execute_input": "2023-11-05T19:09:40.814040Z",
     "iopub.status.busy": "2023-11-05T19:09:40.813614Z",
     "iopub.status.idle": "2023-11-05T19:09:41.299458Z",
     "shell.execute_reply": "2023-11-05T19:09:41.298702Z"
    },
    "papermill": {
     "duration": 0.502141,
     "end_time": "2023-11-05T19:09:41.301844",
     "exception": false,
     "start_time": "2023-11-05T19:09:40.799703",
     "status": "completed"
    },
    "tags": []
   },
   "outputs": [
    {
     "name": "stdout",
     "output_type": "stream",
     "text": [
      "LightGBM\n",
      "Accuracy score on training set: 79.17545008476932%\n",
      "Accuracy score on validation set: 77.97057161395651%\n"
     ]
    }
   ],
   "source": [
    "print(\"LightGBM\")\n",
    "\n",
    "y_pred_train = lgbm.predict(X_train)\n",
    "accuracy_train = accuracy_score(y_train, y_pred_train)\n",
    "print(f\"Accuracy score on training set: {accuracy_train*100}%\")\n",
    "\n",
    "y_pred_valid = lgbm.predict(X_valid)\n",
    "accuracy_valid = accuracy_score(y_valid, y_pred_valid)\n",
    "print(f\"Accuracy score on validation set: {accuracy_valid*100}%\")"
   ]
  },
  {
   "cell_type": "code",
   "execution_count": 23,
   "id": "0f569fd2",
   "metadata": {
    "execution": {
     "iopub.execute_input": "2023-11-05T19:09:41.331367Z",
     "iopub.status.busy": "2023-11-05T19:09:41.330233Z",
     "iopub.status.idle": "2023-11-05T19:09:41.889361Z",
     "shell.execute_reply": "2023-11-05T19:09:41.888187Z"
    },
    "papermill": {
     "duration": 0.575744,
     "end_time": "2023-11-05T19:09:41.892164",
     "exception": false,
     "start_time": "2023-11-05T19:09:41.316420",
     "status": "completed"
    },
    "tags": []
   },
   "outputs": [],
   "source": [
    "y_pred_test = lgbm.predict(X_test)\n",
    "\n",
    "predictions = pd.DataFrame({\n",
    "    \"id\": test_ids,\n",
    "    \"smoking\": y_pred_test\n",
    "})\n",
    "\n",
    "predictions.to_csv(\"baseline_lightgbm.csv\", index=False)"
   ]
  },
  {
   "cell_type": "markdown",
   "id": "fd7298df",
   "metadata": {
    "papermill": {
     "duration": 0.012597,
     "end_time": "2023-11-05T19:09:41.917292",
     "exception": false,
     "start_time": "2023-11-05T19:09:41.904695",
     "status": "completed"
    },
    "tags": []
   },
   "source": [
    "## Test scores\n",
    "\n",
    "1. Random Forest - 0.7786\n",
    "2. Gradient Boosting - 0.7807\n",
    "3. XGBoost - 0.7827\n",
    "4. CatBoost - 0.7894\n",
    "5. LightGBM - 0.7857"
   ]
  }
 ],
 "metadata": {
  "kernelspec": {
   "display_name": "Python 3",
   "language": "python",
   "name": "python3"
  },
  "language_info": {
   "codemirror_mode": {
    "name": "ipython",
    "version": 3
   },
   "file_extension": ".py",
   "mimetype": "text/x-python",
   "name": "python",
   "nbconvert_exporter": "python",
   "pygments_lexer": "ipython3",
   "version": "3.10.12"
  },
  "papermill": {
   "default_parameters": {},
   "duration": 116.55717,
   "end_time": "2023-11-05T19:09:42.752576",
   "environment_variables": {},
   "exception": null,
   "input_path": "__notebook__.ipynb",
   "output_path": "__notebook__.ipynb",
   "parameters": {},
   "start_time": "2023-11-05T19:07:46.195406",
   "version": "2.4.0"
  }
 },
 "nbformat": 4,
 "nbformat_minor": 5
}
